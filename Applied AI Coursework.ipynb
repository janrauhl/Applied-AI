{
 "cells": [
  {
   "cell_type": "code",
   "execution_count": 1,
   "id": "54acb4f0",
   "metadata": {},
   "outputs": [
    {
     "name": "stdout",
     "output_type": "stream",
     "text": [
      "Requirement already satisfied: numpy in /Users/janrauhl/opt/anaconda3/lib/python3.9/site-packages (from -r requirements.txt (line 1)) (1.24.2)\n",
      "Requirement already satisfied: scipy in /Users/janrauhl/opt/anaconda3/lib/python3.9/site-packages (from -r requirements.txt (line 2)) (1.10.1)\n",
      "Requirement already satisfied: pandas>=0.21 in /Users/janrauhl/opt/anaconda3/lib/python3.9/site-packages (from -r requirements.txt (line 3)) (2.0.0)\n",
      "Requirement already satisfied: scikit-learn>=0.19 in /Users/janrauhl/opt/anaconda3/lib/python3.9/site-packages (from -r requirements.txt (line 4)) (1.2.2)\n",
      "Requirement already satisfied: nilearn in /Users/janrauhl/opt/anaconda3/lib/python3.9/site-packages (from -r requirements.txt (line 5)) (0.10.0)\n",
      "Requirement already satisfied: matplotlib in /Users/janrauhl/opt/anaconda3/lib/python3.9/site-packages (from -r requirements.txt (line 6)) (3.7.1)\n",
      "Requirement already satisfied: seaborn in /Users/janrauhl/opt/anaconda3/lib/python3.9/site-packages (from -r requirements.txt (line 7)) (0.12.2)\n",
      "Requirement already satisfied: jupyter in /Users/janrauhl/opt/anaconda3/lib/python3.9/site-packages (from -r requirements.txt (line 8)) (1.0.0)\n",
      "Requirement already satisfied: statsmodels in /Users/janrauhl/opt/anaconda3/lib/python3.9/site-packages (from -r requirements.txt (line 9)) (0.13.5)\n",
      "Requirement already satisfied: ramp-workflow in /Users/janrauhl/opt/anaconda3/lib/python3.9/site-packages (from -r requirements.txt (line 11)) (0.6.0)\n",
      "Requirement already satisfied: tzdata>=2022.1 in /Users/janrauhl/opt/anaconda3/lib/python3.9/site-packages (from pandas>=0.21->-r requirements.txt (line 3)) (2023.3)\n",
      "Requirement already satisfied: python-dateutil>=2.8.2 in /Users/janrauhl/opt/anaconda3/lib/python3.9/site-packages (from pandas>=0.21->-r requirements.txt (line 3)) (2.8.2)\n",
      "Requirement already satisfied: pytz>=2020.1 in /Users/janrauhl/opt/anaconda3/lib/python3.9/site-packages (from pandas>=0.21->-r requirements.txt (line 3)) (2021.3)\n",
      "Requirement already satisfied: threadpoolctl>=2.0.0 in /Users/janrauhl/opt/anaconda3/lib/python3.9/site-packages (from scikit-learn>=0.19->-r requirements.txt (line 4)) (2.2.0)\n",
      "Requirement already satisfied: joblib>=1.1.1 in /Users/janrauhl/opt/anaconda3/lib/python3.9/site-packages (from scikit-learn>=0.19->-r requirements.txt (line 4)) (1.2.0)\n",
      "Requirement already satisfied: nibabel>=3.2.0 in /Users/janrauhl/opt/anaconda3/lib/python3.9/site-packages (from nilearn->-r requirements.txt (line 5)) (5.1.0)\n",
      "Requirement already satisfied: lxml in /Users/janrauhl/opt/anaconda3/lib/python3.9/site-packages (from nilearn->-r requirements.txt (line 5)) (4.8.0)\n",
      "Requirement already satisfied: requests>=2.25.0 in /Users/janrauhl/opt/anaconda3/lib/python3.9/site-packages (from nilearn->-r requirements.txt (line 5)) (2.27.1)\n",
      "Requirement already satisfied: pyparsing>=2.3.1 in /Users/janrauhl/opt/anaconda3/lib/python3.9/site-packages (from matplotlib->-r requirements.txt (line 6)) (3.0.4)\n",
      "Requirement already satisfied: importlib-resources>=3.2.0 in /Users/janrauhl/opt/anaconda3/lib/python3.9/site-packages (from matplotlib->-r requirements.txt (line 6)) (5.12.0)\n",
      "Requirement already satisfied: packaging>=20.0 in /Users/janrauhl/opt/anaconda3/lib/python3.9/site-packages (from matplotlib->-r requirements.txt (line 6)) (21.3)\n",
      "Requirement already satisfied: kiwisolver>=1.0.1 in /Users/janrauhl/opt/anaconda3/lib/python3.9/site-packages (from matplotlib->-r requirements.txt (line 6)) (1.3.2)\n",
      "Requirement already satisfied: pillow>=6.2.0 in /Users/janrauhl/opt/anaconda3/lib/python3.9/site-packages (from matplotlib->-r requirements.txt (line 6)) (9.0.1)\n",
      "Requirement already satisfied: cycler>=0.10 in /Users/janrauhl/opt/anaconda3/lib/python3.9/site-packages (from matplotlib->-r requirements.txt (line 6)) (0.11.0)\n",
      "Requirement already satisfied: fonttools>=4.22.0 in /Users/janrauhl/opt/anaconda3/lib/python3.9/site-packages (from matplotlib->-r requirements.txt (line 6)) (4.25.0)\n",
      "Requirement already satisfied: contourpy>=1.0.1 in /Users/janrauhl/opt/anaconda3/lib/python3.9/site-packages (from matplotlib->-r requirements.txt (line 6)) (1.0.7)\n",
      "Requirement already satisfied: notebook in /Users/janrauhl/opt/anaconda3/lib/python3.9/site-packages (from jupyter->-r requirements.txt (line 8)) (6.4.8)\n",
      "Requirement already satisfied: jupyter-console in /Users/janrauhl/opt/anaconda3/lib/python3.9/site-packages (from jupyter->-r requirements.txt (line 8)) (6.4.0)\n",
      "Requirement already satisfied: qtconsole in /Users/janrauhl/opt/anaconda3/lib/python3.9/site-packages (from jupyter->-r requirements.txt (line 8)) (5.3.0)\n",
      "Requirement already satisfied: ipykernel in /Users/janrauhl/opt/anaconda3/lib/python3.9/site-packages (from jupyter->-r requirements.txt (line 8)) (6.9.1)\n",
      "Requirement already satisfied: nbconvert in /Users/janrauhl/opt/anaconda3/lib/python3.9/site-packages (from jupyter->-r requirements.txt (line 8)) (6.4.4)\n",
      "Requirement already satisfied: ipywidgets in /Users/janrauhl/opt/anaconda3/lib/python3.9/site-packages (from jupyter->-r requirements.txt (line 8)) (7.6.5)\n",
      "Requirement already satisfied: patsy>=0.5.2 in /Users/janrauhl/opt/anaconda3/lib/python3.9/site-packages (from statsmodels->-r requirements.txt (line 9)) (0.5.2)\n",
      "Requirement already satisfied: click in /Users/janrauhl/opt/anaconda3/lib/python3.9/site-packages (from ramp-workflow->-r requirements.txt (line 11)) (8.0.4)\n",
      "Requirement already satisfied: cloudpickle in /Users/janrauhl/opt/anaconda3/lib/python3.9/site-packages (from ramp-workflow->-r requirements.txt (line 11)) (2.0.0)\n",
      "Requirement already satisfied: zipp>=3.1.0 in /Users/janrauhl/opt/anaconda3/lib/python3.9/site-packages (from importlib-resources>=3.2.0->matplotlib->-r requirements.txt (line 6)) (3.7.0)\n",
      "Requirement already satisfied: six in /Users/janrauhl/opt/anaconda3/lib/python3.9/site-packages (from patsy>=0.5.2->statsmodels->-r requirements.txt (line 9)) (1.16.0)\n",
      "Requirement already satisfied: idna<4,>=2.5 in /Users/janrauhl/opt/anaconda3/lib/python3.9/site-packages (from requests>=2.25.0->nilearn->-r requirements.txt (line 5)) (3.3)\n",
      "Requirement already satisfied: urllib3<1.27,>=1.21.1 in /Users/janrauhl/opt/anaconda3/lib/python3.9/site-packages (from requests>=2.25.0->nilearn->-r requirements.txt (line 5)) (1.26.9)\n",
      "Requirement already satisfied: charset-normalizer~=2.0.0 in /Users/janrauhl/opt/anaconda3/lib/python3.9/site-packages (from requests>=2.25.0->nilearn->-r requirements.txt (line 5)) (2.0.4)\n",
      "Requirement already satisfied: certifi>=2017.4.17 in /Users/janrauhl/opt/anaconda3/lib/python3.9/site-packages (from requests>=2.25.0->nilearn->-r requirements.txt (line 5)) (2022.12.7)\n",
      "Requirement already satisfied: matplotlib-inline<0.2.0,>=0.1.0 in /Users/janrauhl/opt/anaconda3/lib/python3.9/site-packages (from ipykernel->jupyter->-r requirements.txt (line 8)) (0.1.2)\n",
      "Requirement already satisfied: ipython>=7.23.1 in /Users/janrauhl/opt/anaconda3/lib/python3.9/site-packages (from ipykernel->jupyter->-r requirements.txt (line 8)) (8.2.0)\n",
      "Requirement already satisfied: jupyter-client<8.0 in /Users/janrauhl/opt/anaconda3/lib/python3.9/site-packages (from ipykernel->jupyter->-r requirements.txt (line 8)) (6.1.12)\n",
      "Requirement already satisfied: tornado<7.0,>=4.2 in /Users/janrauhl/opt/anaconda3/lib/python3.9/site-packages (from ipykernel->jupyter->-r requirements.txt (line 8)) (6.1)\n",
      "Requirement already satisfied: appnope in /Users/janrauhl/opt/anaconda3/lib/python3.9/site-packages (from ipykernel->jupyter->-r requirements.txt (line 8)) (0.1.2)\n",
      "Requirement already satisfied: nest-asyncio in /Users/janrauhl/opt/anaconda3/lib/python3.9/site-packages (from ipykernel->jupyter->-r requirements.txt (line 8)) (1.5.5)\n",
      "Requirement already satisfied: debugpy<2.0,>=1.0.0 in /Users/janrauhl/opt/anaconda3/lib/python3.9/site-packages (from ipykernel->jupyter->-r requirements.txt (line 8)) (1.5.1)\n",
      "Requirement already satisfied: traitlets<6.0,>=5.1.0 in /Users/janrauhl/opt/anaconda3/lib/python3.9/site-packages (from ipykernel->jupyter->-r requirements.txt (line 8)) (5.1.1)\n",
      "Requirement already satisfied: pickleshare in /Users/janrauhl/opt/anaconda3/lib/python3.9/site-packages (from ipython>=7.23.1->ipykernel->jupyter->-r requirements.txt (line 8)) (0.7.5)\n",
      "Requirement already satisfied: jedi>=0.16 in /Users/janrauhl/opt/anaconda3/lib/python3.9/site-packages (from ipython>=7.23.1->ipykernel->jupyter->-r requirements.txt (line 8)) (0.18.1)\n",
      "Requirement already satisfied: backcall in /Users/janrauhl/opt/anaconda3/lib/python3.9/site-packages (from ipython>=7.23.1->ipykernel->jupyter->-r requirements.txt (line 8)) (0.2.0)\n",
      "Requirement already satisfied: prompt-toolkit!=3.0.0,!=3.0.1,<3.1.0,>=2.0.0 in /Users/janrauhl/opt/anaconda3/lib/python3.9/site-packages (from ipython>=7.23.1->ipykernel->jupyter->-r requirements.txt (line 8)) (3.0.20)\n",
      "Requirement already satisfied: pygments>=2.4.0 in /Users/janrauhl/opt/anaconda3/lib/python3.9/site-packages (from ipython>=7.23.1->ipykernel->jupyter->-r requirements.txt (line 8)) (2.11.2)\n",
      "Requirement already satisfied: stack-data in /Users/janrauhl/opt/anaconda3/lib/python3.9/site-packages (from ipython>=7.23.1->ipykernel->jupyter->-r requirements.txt (line 8)) (0.2.0)\n",
      "Requirement already satisfied: setuptools>=18.5 in /Users/janrauhl/opt/anaconda3/lib/python3.9/site-packages (from ipython>=7.23.1->ipykernel->jupyter->-r requirements.txt (line 8)) (61.2.0)\n",
      "Requirement already satisfied: pexpect>4.3 in /Users/janrauhl/opt/anaconda3/lib/python3.9/site-packages (from ipython>=7.23.1->ipykernel->jupyter->-r requirements.txt (line 8)) (4.8.0)\n",
      "Requirement already satisfied: decorator in /Users/janrauhl/opt/anaconda3/lib/python3.9/site-packages (from ipython>=7.23.1->ipykernel->jupyter->-r requirements.txt (line 8)) (5.1.1)\n",
      "Requirement already satisfied: parso<0.9.0,>=0.8.0 in /Users/janrauhl/opt/anaconda3/lib/python3.9/site-packages (from jedi>=0.16->ipython>=7.23.1->ipykernel->jupyter->-r requirements.txt (line 8)) (0.8.3)\n",
      "Requirement already satisfied: pyzmq>=13 in /Users/janrauhl/opt/anaconda3/lib/python3.9/site-packages (from jupyter-client<8.0->ipykernel->jupyter->-r requirements.txt (line 8)) (22.3.0)\n",
      "Requirement already satisfied: jupyter-core>=4.6.0 in /Users/janrauhl/opt/anaconda3/lib/python3.9/site-packages (from jupyter-client<8.0->ipykernel->jupyter->-r requirements.txt (line 8)) (4.9.2)\n",
      "Requirement already satisfied: ptyprocess>=0.5 in /Users/janrauhl/opt/anaconda3/lib/python3.9/site-packages (from pexpect>4.3->ipython>=7.23.1->ipykernel->jupyter->-r requirements.txt (line 8)) (0.7.0)\n",
      "Requirement already satisfied: wcwidth in /Users/janrauhl/opt/anaconda3/lib/python3.9/site-packages (from prompt-toolkit!=3.0.0,!=3.0.1,<3.1.0,>=2.0.0->ipython>=7.23.1->ipykernel->jupyter->-r requirements.txt (line 8)) (0.2.5)\n",
      "Requirement already satisfied: widgetsnbextension~=3.5.0 in /Users/janrauhl/opt/anaconda3/lib/python3.9/site-packages (from ipywidgets->jupyter->-r requirements.txt (line 8)) (3.5.2)\n",
      "Requirement already satisfied: jupyterlab-widgets>=1.0.0 in /Users/janrauhl/opt/anaconda3/lib/python3.9/site-packages (from ipywidgets->jupyter->-r requirements.txt (line 8)) (1.0.0)\n",
      "Requirement already satisfied: nbformat>=4.2.0 in /Users/janrauhl/opt/anaconda3/lib/python3.9/site-packages (from ipywidgets->jupyter->-r requirements.txt (line 8)) (5.3.0)\n",
      "Requirement already satisfied: ipython-genutils~=0.2.0 in /Users/janrauhl/opt/anaconda3/lib/python3.9/site-packages (from ipywidgets->jupyter->-r requirements.txt (line 8)) (0.2.0)\n",
      "Requirement already satisfied: jsonschema>=2.6 in /Users/janrauhl/opt/anaconda3/lib/python3.9/site-packages (from nbformat>=4.2.0->ipywidgets->jupyter->-r requirements.txt (line 8)) (4.4.0)\n",
      "Requirement already satisfied: fastjsonschema in /Users/janrauhl/opt/anaconda3/lib/python3.9/site-packages (from nbformat>=4.2.0->ipywidgets->jupyter->-r requirements.txt (line 8)) (2.15.1)\n",
      "Requirement already satisfied: pyrsistent!=0.17.0,!=0.17.1,!=0.17.2,>=0.14.0 in /Users/janrauhl/opt/anaconda3/lib/python3.9/site-packages (from jsonschema>=2.6->nbformat>=4.2.0->ipywidgets->jupyter->-r requirements.txt (line 8)) (0.18.0)\n",
      "Requirement already satisfied: attrs>=17.4.0 in /Users/janrauhl/opt/anaconda3/lib/python3.9/site-packages (from jsonschema>=2.6->nbformat>=4.2.0->ipywidgets->jupyter->-r requirements.txt (line 8)) (21.4.0)\n",
      "Requirement already satisfied: Send2Trash>=1.8.0 in /Users/janrauhl/opt/anaconda3/lib/python3.9/site-packages (from notebook->jupyter->-r requirements.txt (line 8)) (1.8.0)\n",
      "Requirement already satisfied: jinja2 in /Users/janrauhl/opt/anaconda3/lib/python3.9/site-packages (from notebook->jupyter->-r requirements.txt (line 8)) (2.11.3)\n",
      "Requirement already satisfied: argon2-cffi in /Users/janrauhl/opt/anaconda3/lib/python3.9/site-packages (from notebook->jupyter->-r requirements.txt (line 8)) (21.3.0)\n",
      "Requirement already satisfied: terminado>=0.8.3 in /Users/janrauhl/opt/anaconda3/lib/python3.9/site-packages (from notebook->jupyter->-r requirements.txt (line 8)) (0.13.1)\n",
      "Requirement already satisfied: prometheus-client in /Users/janrauhl/opt/anaconda3/lib/python3.9/site-packages (from notebook->jupyter->-r requirements.txt (line 8)) (0.13.1)\n",
      "Requirement already satisfied: argon2-cffi-bindings in /Users/janrauhl/opt/anaconda3/lib/python3.9/site-packages (from argon2-cffi->notebook->jupyter->-r requirements.txt (line 8)) (21.2.0)\n",
      "Requirement already satisfied: cffi>=1.0.1 in /Users/janrauhl/opt/anaconda3/lib/python3.9/site-packages (from argon2-cffi-bindings->argon2-cffi->notebook->jupyter->-r requirements.txt (line 8)) (1.15.0)\n",
      "Requirement already satisfied: pycparser in /Users/janrauhl/opt/anaconda3/lib/python3.9/site-packages (from cffi>=1.0.1->argon2-cffi-bindings->argon2-cffi->notebook->jupyter->-r requirements.txt (line 8)) (2.21)\n",
      "Requirement already satisfied: MarkupSafe>=0.23 in /Users/janrauhl/opt/anaconda3/lib/python3.9/site-packages (from jinja2->notebook->jupyter->-r requirements.txt (line 8)) (2.0.1)\n",
      "Requirement already satisfied: bleach in /Users/janrauhl/opt/anaconda3/lib/python3.9/site-packages (from nbconvert->jupyter->-r requirements.txt (line 8)) (4.1.0)\n",
      "Requirement already satisfied: defusedxml in /Users/janrauhl/opt/anaconda3/lib/python3.9/site-packages (from nbconvert->jupyter->-r requirements.txt (line 8)) (0.7.1)\n",
      "Requirement already satisfied: mistune<2,>=0.8.1 in /Users/janrauhl/opt/anaconda3/lib/python3.9/site-packages (from nbconvert->jupyter->-r requirements.txt (line 8)) (0.8.4)\n",
      "Requirement already satisfied: beautifulsoup4 in /Users/janrauhl/opt/anaconda3/lib/python3.9/site-packages (from nbconvert->jupyter->-r requirements.txt (line 8)) (4.11.1)\n",
      "Requirement already satisfied: nbclient<0.6.0,>=0.5.0 in /Users/janrauhl/opt/anaconda3/lib/python3.9/site-packages (from nbconvert->jupyter->-r requirements.txt (line 8)) (0.5.13)\n",
      "Requirement already satisfied: entrypoints>=0.2.2 in /Users/janrauhl/opt/anaconda3/lib/python3.9/site-packages (from nbconvert->jupyter->-r requirements.txt (line 8)) (0.4)\n",
      "Requirement already satisfied: testpath in /Users/janrauhl/opt/anaconda3/lib/python3.9/site-packages (from nbconvert->jupyter->-r requirements.txt (line 8)) (0.5.0)\n",
      "Requirement already satisfied: jupyterlab-pygments in /Users/janrauhl/opt/anaconda3/lib/python3.9/site-packages (from nbconvert->jupyter->-r requirements.txt (line 8)) (0.1.2)\n",
      "Requirement already satisfied: pandocfilters>=1.4.1 in /Users/janrauhl/opt/anaconda3/lib/python3.9/site-packages (from nbconvert->jupyter->-r requirements.txt (line 8)) (1.5.0)\n",
      "Requirement already satisfied: soupsieve>1.2 in /Users/janrauhl/opt/anaconda3/lib/python3.9/site-packages (from beautifulsoup4->nbconvert->jupyter->-r requirements.txt (line 8)) (2.3.1)\n",
      "Requirement already satisfied: webencodings in /Users/janrauhl/opt/anaconda3/lib/python3.9/site-packages (from bleach->nbconvert->jupyter->-r requirements.txt (line 8)) (0.5.1)\n",
      "Requirement already satisfied: qtpy>=2.0.1 in /Users/janrauhl/opt/anaconda3/lib/python3.9/site-packages (from qtconsole->jupyter->-r requirements.txt (line 8)) (2.0.1)\n",
      "Requirement already satisfied: executing in /Users/janrauhl/opt/anaconda3/lib/python3.9/site-packages (from stack-data->ipython>=7.23.1->ipykernel->jupyter->-r requirements.txt (line 8)) (0.8.3)\n",
      "Requirement already satisfied: pure-eval in /Users/janrauhl/opt/anaconda3/lib/python3.9/site-packages (from stack-data->ipython>=7.23.1->ipykernel->jupyter->-r requirements.txt (line 8)) (0.2.2)\n",
      "Requirement already satisfied: asttokens in /Users/janrauhl/opt/anaconda3/lib/python3.9/site-packages (from stack-data->ipython>=7.23.1->ipykernel->jupyter->-r requirements.txt (line 8)) (2.0.5)\n",
      "Note: you may need to restart the kernel to use updated packages.\n"
     ]
    }
   ],
   "source": [
    "pip install -U -r requirements.txt"
   ]
  },
  {
   "cell_type": "code",
   "execution_count": 173,
   "id": "2a78ba03",
   "metadata": {},
   "outputs": [],
   "source": [
    "#all packages and libraries required\n",
    "%matplotlib inline\n",
    "import os\n",
    "import numpy as np\n",
    "import matplotlib.pyplot as plt\n",
    "import pandas as pd\n",
    "import seaborn as sns\n",
    "from sklearn.neural_network import MLPClassifier\n",
    "from sklearn.ensemble import RandomForestClassifier\n",
    "from sklearn.base import BaseEstimator\n",
    "import sklearn.preprocessing as preprocessing\n",
    "from sklearn.pipeline import make_pipeline\n",
    "from sklearn.model_selection import cross_validate\n",
    "from sklearn.linear_model import RidgeClassifier\n",
    "import sklearn.metrics as metrics\n",
    "import problem\n",
    "from sklearn.base import BaseEstimator\n",
    "from sklearn.base import TransformerMixin\n",
    "from sklearn.linear_model import LogisticRegression\n",
    "from sklearn.linear_model import LogisticRegressionCV\n",
    "from sklearn.neighbors import KNeighborsClassifier\n",
    "from sklearn.preprocessing import LabelEncoder\n",
    "from xgboost import XGBClassifier\n",
    "from sklearn.svm import SVC"
   ]
  },
  {
   "cell_type": "code",
   "execution_count": 220,
   "id": "77a0b8b9",
   "metadata": {},
   "outputs": [],
   "source": [
    "#import data\n",
    "X_train, y_train = problem.get_train_data()\n",
    "X_test, y_test = problem.get_test_data()\n",
    "\n",
    "assert X_train.shape[1] == 284 + 331695"
   ]
  },
  {
   "cell_type": "code",
   "execution_count": 221,
   "id": "83a3b39d",
   "metadata": {},
   "outputs": [
    {
     "name": "stdout",
     "output_type": "stream",
     "text": [
      "(410, 331979) (103, 331979) (410,) (103,)\n"
     ]
    }
   ],
   "source": [
    "print(X_train.shape, X_test.shape, y_train.shape, y_test.shape)"
   ]
  },
  {
   "cell_type": "code",
   "execution_count": 32,
   "id": "cb3a28d4",
   "metadata": {},
   "outputs": [
    {
     "data": {
      "text/plain": [
       "Target\n",
       "control          222\n",
       "schizophrenia    188\n",
       "Name: count, dtype: int64"
      ]
     },
     "execution_count": 32,
     "metadata": {},
     "output_type": "execute_result"
    }
   ],
   "source": [
    "#check target label count\n",
    "count = pd.DataFrame({'Target': y_train})\n",
    "count['Target'].value_counts()"
   ]
  },
  {
   "cell_type": "code",
   "execution_count": 33,
   "id": "c639bc84",
   "metadata": {},
   "outputs": [
    {
     "data": {
      "text/plain": [
       "Target\n",
       "control          55\n",
       "schizophrenia    48\n",
       "Name: count, dtype: int64"
      ]
     },
     "execution_count": 33,
     "metadata": {},
     "output_type": "execute_result"
    }
   ],
   "source": [
    "#check target label count\n",
    "count = pd.DataFrame({'Target': y_test})\n",
    "count['Target'].value_counts()"
   ]
  },
  {
   "cell_type": "code",
   "execution_count": 20,
   "id": "dc0ffb35",
   "metadata": {},
   "outputs": [],
   "source": [
    "#feature extractor\n",
    "class ROIsFeatureExtractor(BaseEstimator, TransformerMixin):\n",
    "    \"\"\"Select only the 284 ROIs features:\"\"\"\n",
    "    def fit(self, X, y):\n",
    "        return self\n",
    "\n",
    "    def transform(self, X):\n",
    "        return X[:, :284]\n",
    "\n",
    "class VBMFeatureExtractor(BaseEstimator, TransformerMixin):\n",
    "    \"\"\"Select only the 284 ROIs features:\"\"\"\n",
    "    def fit(self, X, y):\n",
    "        return self\n",
    "\n",
    "    def transform(self, X):\n",
    "        return X[:, 284:]\n",
    "\n",
    "\n",
    "fe = ROIsFeatureExtractor()\n",
    "roi_xtrain = fe.transform(X_train)\n",
    "roi_xtest = fe.transform(X_test)\n",
    "# roi_ytrain = fe.transform(y_train)\n",
    "# roi_ytest = fe.transform(y_test)\n",
    "\n",
    "fe = VBMFeatureExtractor()\n",
    "vbm_xtrain = fe.transform(X_train)\n",
    "vbm_xtest = fe.transform(X_test)\n",
    "# vbm_ytrain = fe.transform(y_train)\n",
    "# vbm_ytest = fe.transform(y_test)"
   ]
  },
  {
   "cell_type": "code",
   "execution_count": 21,
   "id": "e69eb7e4",
   "metadata": {},
   "outputs": [
    {
     "data": {
      "text/plain": [
       "((410, 284), (410, 331695), (103, 284), (103, 331695))"
      ]
     },
     "execution_count": 21,
     "metadata": {},
     "output_type": "execute_result"
    }
   ],
   "source": [
    "roi_train.shape,vbm_train.shape, roi_test.shape,vbm_test.shape"
   ]
  },
  {
   "cell_type": "code",
   "execution_count": 22,
   "id": "92fcefd9",
   "metadata": {},
   "outputs": [
    {
     "data": {
      "text/plain": [
       "((410,), (103,))"
      ]
     },
     "execution_count": 22,
     "metadata": {},
     "output_type": "execute_result"
    }
   ],
   "source": [
    "y_train.shape,y_test.shape"
   ]
  },
  {
   "cell_type": "code",
   "execution_count": 47,
   "id": "91d07632",
   "metadata": {},
   "outputs": [
    {
     "data": {
      "text/plain": [
       "array(['schizophrenia', 'schizophrenia', 'schizophrenia', 'control',\n",
       "       'schizophrenia', 'schizophrenia', 'control', 'control', 'control',\n",
       "       'control', 'schizophrenia', 'control', 'control', 'schizophrenia',\n",
       "       'schizophrenia', 'control', 'schizophrenia', 'schizophrenia',\n",
       "       'schizophrenia', 'control', 'control', 'control', 'schizophrenia',\n",
       "       'control', 'control', 'control', 'control', 'schizophrenia',\n",
       "       'schizophrenia', 'control', 'schizophrenia', 'control', 'control',\n",
       "       'control', 'control', 'control', 'schizophrenia', 'schizophrenia',\n",
       "       'schizophrenia', 'schizophrenia', 'control', 'schizophrenia',\n",
       "       'control', 'schizophrenia', 'control', 'control', 'schizophrenia',\n",
       "       'control', 'control', 'schizophrenia', 'schizophrenia', 'control',\n",
       "       'schizophrenia', 'schizophrenia', 'control', 'control',\n",
       "       'schizophrenia', 'control', 'control', 'control', 'control',\n",
       "       'control', 'control', 'control', 'schizophrenia', 'schizophrenia',\n",
       "       'control', 'schizophrenia', 'control', 'schizophrenia', 'control',\n",
       "       'control', 'schizophrenia', 'control', 'control', 'schizophrenia',\n",
       "       'schizophrenia', 'schizophrenia', 'schizophrenia', 'schizophrenia',\n",
       "       'schizophrenia', 'control', 'control', 'schizophrenia', 'control',\n",
       "       'control', 'control', 'control', 'control', 'schizophrenia',\n",
       "       'schizophrenia', 'schizophrenia', 'schizophrenia', 'control',\n",
       "       'schizophrenia', 'control', 'schizophrenia', 'control', 'control',\n",
       "       'schizophrenia', 'schizophrenia', 'control', 'schizophrenia'],\n",
       "      dtype=object)"
      ]
     },
     "execution_count": 47,
     "metadata": {},
     "output_type": "execute_result"
    }
   ],
   "source": [
    "y_test"
   ]
  },
  {
   "cell_type": "markdown",
   "id": "88e55bfe",
   "metadata": {},
   "source": [
    "# Function to Train Model based on Speicified Feature Extractor"
   ]
  },
  {
   "cell_type": "code",
   "execution_count": 233,
   "id": "f00c9f66",
   "metadata": {},
   "outputs": [],
   "source": [
    "def evaluate(extractor, model, X_train, y_train, X_test, y_test, mode):\n",
    "    cv = problem.get_cv(X_train, y_train)    \n",
    "    estimator = make_pipeline(extractor,model)#pipeline of extractor and model\n",
    "    le = LabelEncoder() #encode target label\n",
    "    y_train = le.fit_transform(y_train)\n",
    "    if mode == 'Common': #common cv\n",
    "        cv_results = cross_validate(estimator, X_train, y_train, scoring=['balanced_accuracy', 'roc_auc'], cv=cv,\n",
    "                                verbose=1, return_train_score=True, n_jobs=5)       \n",
    "    elif mode == 'Group Stratified': #group stratified cv\n",
    "        n_splits = 2\n",
    "        sex = le.fit_transform(participants_train['sex'])\n",
    "        cv = GroupKFold(n_splits=n_splits)\n",
    "        cv_results = cross_validate(estimator, X_train, y_train, cv=cv, \n",
    "                                    groups=sex, scoring=['balanced_accuracy', 'roc_auc'], return_estimator=True)\n",
    "    else: \n",
    "        print('Cross Validation Method chosen INVALID!')        \n",
    "    print(f\"# {mode} Cross Validation Results\")\n",
    "    print('bACC=%.2f' % cv_results['test_balanced_accuracy'].mean(),\n",
    "          'ROC-AUC=%.2f' % cv_results['test_roc_auc'].mean())\n",
    "    # Refit on all train\n",
    "    estimator.fit(X_train, y_train)\n",
    "    # Apply on test\n",
    "    y_pred_train = estimator.predict(X_train)\n",
    "    y_pred_test = estimator.predict(X_test)\n",
    "    score_pred_test = estimator.predict_proba(X_test)[:, 1]\n",
    "    bacc_test = metrics.balanced_accuracy_score(y_test, y_pred_test)\n",
    "    auc_test = metrics.roc_auc_score(y_test, score_pred_test)\n",
    "    print(\"# Test\")\n",
    "    print('bACC=%.2f' % bacc_test,\n",
    "          'ROC-AUC=%.2f' % auc_test)"
   ]
  },
  {
   "cell_type": "markdown",
   "id": "7fe5a305",
   "metadata": {},
   "source": [
    "# Regularized Linear Model - Logistic Regression"
   ]
  },
  {
   "cell_type": "code",
   "execution_count": 374,
   "id": "faa5cfdb",
   "metadata": {},
   "outputs": [
    {
     "name": "stderr",
     "output_type": "stream",
     "text": [
      "[Parallel(n_jobs=5)]: Using backend LokyBackend with 5 concurrent workers.\n",
      "/Users/janrauhl/opt/anaconda3/lib/python3.9/site-packages/sklearn/linear_model/_sag.py:350: ConvergenceWarning: The max_iter was reached which means the coef_ did not converge\n",
      "  warnings.warn(\n",
      "/Users/janrauhl/opt/anaconda3/lib/python3.9/site-packages/sklearn/linear_model/_sag.py:350: ConvergenceWarning: The max_iter was reached which means the coef_ did not converge\n",
      "  warnings.warn(\n",
      "/Users/janrauhl/opt/anaconda3/lib/python3.9/site-packages/sklearn/linear_model/_sag.py:350: ConvergenceWarning: The max_iter was reached which means the coef_ did not converge\n",
      "  warnings.warn(\n",
      "/Users/janrauhl/opt/anaconda3/lib/python3.9/site-packages/sklearn/linear_model/_sag.py:350: ConvergenceWarning: The max_iter was reached which means the coef_ did not converge\n",
      "  warnings.warn(\n",
      "/Users/janrauhl/opt/anaconda3/lib/python3.9/site-packages/sklearn/linear_model/_sag.py:350: ConvergenceWarning: The max_iter was reached which means the coef_ did not converge\n",
      "  warnings.warn(\n",
      "/Users/janrauhl/opt/anaconda3/lib/python3.9/site-packages/sklearn/linear_model/_sag.py:350: ConvergenceWarning: The max_iter was reached which means the coef_ did not converge\n",
      "  warnings.warn(\n",
      "/Users/janrauhl/opt/anaconda3/lib/python3.9/site-packages/sklearn/linear_model/_sag.py:350: ConvergenceWarning: The max_iter was reached which means the coef_ did not converge\n",
      "  warnings.warn(\n",
      "/Users/janrauhl/opt/anaconda3/lib/python3.9/site-packages/sklearn/linear_model/_sag.py:350: ConvergenceWarning: The max_iter was reached which means the coef_ did not converge\n",
      "  warnings.warn(\n",
      "/Users/janrauhl/opt/anaconda3/lib/python3.9/site-packages/sklearn/linear_model/_sag.py:350: ConvergenceWarning: The max_iter was reached which means the coef_ did not converge\n",
      "  warnings.warn(\n",
      "/Users/janrauhl/opt/anaconda3/lib/python3.9/site-packages/sklearn/linear_model/_sag.py:350: ConvergenceWarning: The max_iter was reached which means the coef_ did not converge\n",
      "  warnings.warn(\n",
      "/Users/janrauhl/opt/anaconda3/lib/python3.9/site-packages/sklearn/linear_model/_sag.py:350: ConvergenceWarning: The max_iter was reached which means the coef_ did not converge\n",
      "  warnings.warn(\n",
      "/Users/janrauhl/opt/anaconda3/lib/python3.9/site-packages/sklearn/linear_model/_sag.py:350: ConvergenceWarning: The max_iter was reached which means the coef_ did not converge\n",
      "  warnings.warn(\n",
      "/Users/janrauhl/opt/anaconda3/lib/python3.9/site-packages/sklearn/linear_model/_sag.py:350: ConvergenceWarning: The max_iter was reached which means the coef_ did not converge\n",
      "  warnings.warn(\n",
      "/Users/janrauhl/opt/anaconda3/lib/python3.9/site-packages/sklearn/linear_model/_sag.py:350: ConvergenceWarning: The max_iter was reached which means the coef_ did not converge\n",
      "  warnings.warn(\n",
      "/Users/janrauhl/opt/anaconda3/lib/python3.9/site-packages/sklearn/linear_model/_sag.py:350: ConvergenceWarning: The max_iter was reached which means the coef_ did not converge\n",
      "  warnings.warn(\n",
      "/Users/janrauhl/opt/anaconda3/lib/python3.9/site-packages/sklearn/linear_model/_sag.py:350: ConvergenceWarning: The max_iter was reached which means the coef_ did not converge\n",
      "  warnings.warn(\n",
      "/Users/janrauhl/opt/anaconda3/lib/python3.9/site-packages/sklearn/linear_model/_sag.py:350: ConvergenceWarning: The max_iter was reached which means the coef_ did not converge\n",
      "  warnings.warn(\n",
      "/Users/janrauhl/opt/anaconda3/lib/python3.9/site-packages/sklearn/linear_model/_sag.py:350: ConvergenceWarning: The max_iter was reached which means the coef_ did not converge\n",
      "  warnings.warn(\n",
      "/Users/janrauhl/opt/anaconda3/lib/python3.9/site-packages/sklearn/linear_model/_sag.py:350: ConvergenceWarning: The max_iter was reached which means the coef_ did not converge\n",
      "  warnings.warn(\n",
      "/Users/janrauhl/opt/anaconda3/lib/python3.9/site-packages/sklearn/linear_model/_sag.py:350: ConvergenceWarning: The max_iter was reached which means the coef_ did not converge\n",
      "  warnings.warn(\n",
      "/Users/janrauhl/opt/anaconda3/lib/python3.9/site-packages/sklearn/linear_model/_sag.py:350: ConvergenceWarning: The max_iter was reached which means the coef_ did not converge\n",
      "  warnings.warn(\n",
      "/Users/janrauhl/opt/anaconda3/lib/python3.9/site-packages/sklearn/linear_model/_sag.py:350: ConvergenceWarning: The max_iter was reached which means the coef_ did not converge\n",
      "  warnings.warn(\n",
      "/Users/janrauhl/opt/anaconda3/lib/python3.9/site-packages/sklearn/linear_model/_sag.py:350: ConvergenceWarning: The max_iter was reached which means the coef_ did not converge\n",
      "  warnings.warn(\n",
      "/Users/janrauhl/opt/anaconda3/lib/python3.9/site-packages/sklearn/linear_model/_sag.py:350: ConvergenceWarning: The max_iter was reached which means the coef_ did not converge\n",
      "  warnings.warn(\n",
      "/Users/janrauhl/opt/anaconda3/lib/python3.9/site-packages/sklearn/linear_model/_sag.py:350: ConvergenceWarning: The max_iter was reached which means the coef_ did not converge\n",
      "  warnings.warn(\n",
      "/Users/janrauhl/opt/anaconda3/lib/python3.9/site-packages/sklearn/linear_model/_sag.py:350: ConvergenceWarning: The max_iter was reached which means the coef_ did not converge\n",
      "  warnings.warn(\n",
      "/Users/janrauhl/opt/anaconda3/lib/python3.9/site-packages/sklearn/linear_model/_sag.py:350: ConvergenceWarning: The max_iter was reached which means the coef_ did not converge\n",
      "  warnings.warn(\n",
      "/Users/janrauhl/opt/anaconda3/lib/python3.9/site-packages/sklearn/linear_model/_sag.py:350: ConvergenceWarning: The max_iter was reached which means the coef_ did not converge\n",
      "  warnings.warn(\n",
      "/Users/janrauhl/opt/anaconda3/lib/python3.9/site-packages/sklearn/linear_model/_sag.py:350: ConvergenceWarning: The max_iter was reached which means the coef_ did not converge\n",
      "  warnings.warn(\n",
      "/Users/janrauhl/opt/anaconda3/lib/python3.9/site-packages/sklearn/linear_model/_sag.py:350: ConvergenceWarning: The max_iter was reached which means the coef_ did not converge\n",
      "  warnings.warn(\n",
      "/Users/janrauhl/opt/anaconda3/lib/python3.9/site-packages/sklearn/linear_model/_sag.py:350: ConvergenceWarning: The max_iter was reached which means the coef_ did not converge\n",
      "  warnings.warn(\n",
      "/Users/janrauhl/opt/anaconda3/lib/python3.9/site-packages/sklearn/linear_model/_sag.py:350: ConvergenceWarning: The max_iter was reached which means the coef_ did not converge\n",
      "  warnings.warn(\n",
      "/Users/janrauhl/opt/anaconda3/lib/python3.9/site-packages/sklearn/linear_model/_sag.py:350: ConvergenceWarning: The max_iter was reached which means the coef_ did not converge\n",
      "  warnings.warn(\n",
      "/Users/janrauhl/opt/anaconda3/lib/python3.9/site-packages/sklearn/linear_model/_sag.py:350: ConvergenceWarning: The max_iter was reached which means the coef_ did not converge\n",
      "  warnings.warn(\n",
      "/Users/janrauhl/opt/anaconda3/lib/python3.9/site-packages/sklearn/linear_model/_sag.py:350: ConvergenceWarning: The max_iter was reached which means the coef_ did not converge\n",
      "  warnings.warn(\n",
      "/Users/janrauhl/opt/anaconda3/lib/python3.9/site-packages/sklearn/linear_model/_sag.py:350: ConvergenceWarning: The max_iter was reached which means the coef_ did not converge\n",
      "  warnings.warn(\n",
      "/Users/janrauhl/opt/anaconda3/lib/python3.9/site-packages/sklearn/linear_model/_sag.py:350: ConvergenceWarning: The max_iter was reached which means the coef_ did not converge\n",
      "  warnings.warn(\n",
      "/Users/janrauhl/opt/anaconda3/lib/python3.9/site-packages/sklearn/linear_model/_sag.py:350: ConvergenceWarning: The max_iter was reached which means the coef_ did not converge\n",
      "  warnings.warn(\n",
      "/Users/janrauhl/opt/anaconda3/lib/python3.9/site-packages/sklearn/linear_model/_sag.py:350: ConvergenceWarning: The max_iter was reached which means the coef_ did not converge\n",
      "  warnings.warn(\n",
      "/Users/janrauhl/opt/anaconda3/lib/python3.9/site-packages/sklearn/linear_model/_sag.py:350: ConvergenceWarning: The max_iter was reached which means the coef_ did not converge\n",
      "  warnings.warn(\n",
      "/Users/janrauhl/opt/anaconda3/lib/python3.9/site-packages/sklearn/linear_model/_sag.py:350: ConvergenceWarning: The max_iter was reached which means the coef_ did not converge\n",
      "  warnings.warn(\n",
      "/Users/janrauhl/opt/anaconda3/lib/python3.9/site-packages/sklearn/linear_model/_sag.py:350: ConvergenceWarning: The max_iter was reached which means the coef_ did not converge\n",
      "  warnings.warn(\n",
      "/Users/janrauhl/opt/anaconda3/lib/python3.9/site-packages/sklearn/linear_model/_sag.py:350: ConvergenceWarning: The max_iter was reached which means the coef_ did not converge\n",
      "  warnings.warn(\n",
      "/Users/janrauhl/opt/anaconda3/lib/python3.9/site-packages/sklearn/linear_model/_sag.py:350: ConvergenceWarning: The max_iter was reached which means the coef_ did not converge\n",
      "  warnings.warn(\n",
      "/Users/janrauhl/opt/anaconda3/lib/python3.9/site-packages/sklearn/linear_model/_sag.py:350: ConvergenceWarning: The max_iter was reached which means the coef_ did not converge\n",
      "  warnings.warn(\n",
      "/Users/janrauhl/opt/anaconda3/lib/python3.9/site-packages/sklearn/linear_model/_sag.py:350: ConvergenceWarning: The max_iter was reached which means the coef_ did not converge\n",
      "  warnings.warn(\n",
      "/Users/janrauhl/opt/anaconda3/lib/python3.9/site-packages/sklearn/linear_model/_sag.py:350: ConvergenceWarning: The max_iter was reached which means the coef_ did not converge\n",
      "  warnings.warn(\n",
      "/Users/janrauhl/opt/anaconda3/lib/python3.9/site-packages/sklearn/linear_model/_sag.py:350: ConvergenceWarning: The max_iter was reached which means the coef_ did not converge\n",
      "  warnings.warn(\n",
      "/Users/janrauhl/opt/anaconda3/lib/python3.9/site-packages/sklearn/linear_model/_sag.py:350: ConvergenceWarning: The max_iter was reached which means the coef_ did not converge\n",
      "  warnings.warn(\n",
      "/Users/janrauhl/opt/anaconda3/lib/python3.9/site-packages/sklearn/linear_model/_sag.py:350: ConvergenceWarning: The max_iter was reached which means the coef_ did not converge\n",
      "  warnings.warn(\n",
      "/Users/janrauhl/opt/anaconda3/lib/python3.9/site-packages/sklearn/linear_model/_sag.py:350: ConvergenceWarning: The max_iter was reached which means the coef_ did not converge\n",
      "  warnings.warn(\n",
      "/Users/janrauhl/opt/anaconda3/lib/python3.9/site-packages/sklearn/linear_model/_sag.py:350: ConvergenceWarning: The max_iter was reached which means the coef_ did not converge\n",
      "  warnings.warn(\n",
      "/Users/janrauhl/opt/anaconda3/lib/python3.9/site-packages/sklearn/linear_model/_sag.py:350: ConvergenceWarning: The max_iter was reached which means the coef_ did not converge\n",
      "  warnings.warn(\n",
      "/Users/janrauhl/opt/anaconda3/lib/python3.9/site-packages/sklearn/linear_model/_sag.py:350: ConvergenceWarning: The max_iter was reached which means the coef_ did not converge\n",
      "  warnings.warn(\n",
      "/Users/janrauhl/opt/anaconda3/lib/python3.9/site-packages/sklearn/linear_model/_sag.py:350: ConvergenceWarning: The max_iter was reached which means the coef_ did not converge\n",
      "  warnings.warn(\n",
      "/Users/janrauhl/opt/anaconda3/lib/python3.9/site-packages/sklearn/linear_model/_sag.py:350: ConvergenceWarning: The max_iter was reached which means the coef_ did not converge\n",
      "  warnings.warn(\n",
      "/Users/janrauhl/opt/anaconda3/lib/python3.9/site-packages/sklearn/linear_model/_sag.py:350: ConvergenceWarning: The max_iter was reached which means the coef_ did not converge\n",
      "  warnings.warn(\n",
      "/Users/janrauhl/opt/anaconda3/lib/python3.9/site-packages/sklearn/linear_model/_sag.py:350: ConvergenceWarning: The max_iter was reached which means the coef_ did not converge\n",
      "  warnings.warn(\n",
      "/Users/janrauhl/opt/anaconda3/lib/python3.9/site-packages/sklearn/linear_model/_sag.py:350: ConvergenceWarning: The max_iter was reached which means the coef_ did not converge\n",
      "  warnings.warn(\n",
      "/Users/janrauhl/opt/anaconda3/lib/python3.9/site-packages/sklearn/linear_model/_sag.py:350: ConvergenceWarning: The max_iter was reached which means the coef_ did not converge\n",
      "  warnings.warn(\n",
      "/Users/janrauhl/opt/anaconda3/lib/python3.9/site-packages/sklearn/linear_model/_sag.py:350: ConvergenceWarning: The max_iter was reached which means the coef_ did not converge\n",
      "  warnings.warn(\n",
      "/Users/janrauhl/opt/anaconda3/lib/python3.9/site-packages/sklearn/linear_model/_sag.py:350: ConvergenceWarning: The max_iter was reached which means the coef_ did not converge\n",
      "  warnings.warn(\n",
      "/Users/janrauhl/opt/anaconda3/lib/python3.9/site-packages/sklearn/linear_model/_sag.py:350: ConvergenceWarning: The max_iter was reached which means the coef_ did not converge\n",
      "  warnings.warn(\n",
      "/Users/janrauhl/opt/anaconda3/lib/python3.9/site-packages/sklearn/linear_model/_sag.py:350: ConvergenceWarning: The max_iter was reached which means the coef_ did not converge\n",
      "  warnings.warn(\n",
      "/Users/janrauhl/opt/anaconda3/lib/python3.9/site-packages/sklearn/linear_model/_sag.py:350: ConvergenceWarning: The max_iter was reached which means the coef_ did not converge\n",
      "  warnings.warn(\n",
      "/Users/janrauhl/opt/anaconda3/lib/python3.9/site-packages/sklearn/linear_model/_sag.py:350: ConvergenceWarning: The max_iter was reached which means the coef_ did not converge\n",
      "  warnings.warn(\n",
      "/Users/janrauhl/opt/anaconda3/lib/python3.9/site-packages/sklearn/linear_model/_sag.py:350: ConvergenceWarning: The max_iter was reached which means the coef_ did not converge\n",
      "  warnings.warn(\n",
      "/Users/janrauhl/opt/anaconda3/lib/python3.9/site-packages/sklearn/linear_model/_sag.py:350: ConvergenceWarning: The max_iter was reached which means the coef_ did not converge\n",
      "  warnings.warn(\n",
      "/Users/janrauhl/opt/anaconda3/lib/python3.9/site-packages/sklearn/linear_model/_sag.py:350: ConvergenceWarning: The max_iter was reached which means the coef_ did not converge\n",
      "  warnings.warn(\n",
      "/Users/janrauhl/opt/anaconda3/lib/python3.9/site-packages/sklearn/linear_model/_sag.py:350: ConvergenceWarning: The max_iter was reached which means the coef_ did not converge\n",
      "  warnings.warn(\n",
      "/Users/janrauhl/opt/anaconda3/lib/python3.9/site-packages/sklearn/linear_model/_sag.py:350: ConvergenceWarning: The max_iter was reached which means the coef_ did not converge\n",
      "  warnings.warn(\n",
      "/Users/janrauhl/opt/anaconda3/lib/python3.9/site-packages/sklearn/linear_model/_sag.py:350: ConvergenceWarning: The max_iter was reached which means the coef_ did not converge\n",
      "  warnings.warn(\n",
      "/Users/janrauhl/opt/anaconda3/lib/python3.9/site-packages/sklearn/linear_model/_sag.py:350: ConvergenceWarning: The max_iter was reached which means the coef_ did not converge\n",
      "  warnings.warn(\n",
      "/Users/janrauhl/opt/anaconda3/lib/python3.9/site-packages/sklearn/linear_model/_sag.py:350: ConvergenceWarning: The max_iter was reached which means the coef_ did not converge\n",
      "  warnings.warn(\n",
      "/Users/janrauhl/opt/anaconda3/lib/python3.9/site-packages/sklearn/linear_model/_sag.py:350: ConvergenceWarning: The max_iter was reached which means the coef_ did not converge\n",
      "  warnings.warn(\n",
      "/Users/janrauhl/opt/anaconda3/lib/python3.9/site-packages/sklearn/linear_model/_sag.py:350: ConvergenceWarning: The max_iter was reached which means the coef_ did not converge\n",
      "  warnings.warn(\n",
      "/Users/janrauhl/opt/anaconda3/lib/python3.9/site-packages/sklearn/linear_model/_sag.py:350: ConvergenceWarning: The max_iter was reached which means the coef_ did not converge\n",
      "  warnings.warn(\n",
      "/Users/janrauhl/opt/anaconda3/lib/python3.9/site-packages/sklearn/linear_model/_sag.py:350: ConvergenceWarning: The max_iter was reached which means the coef_ did not converge\n",
      "  warnings.warn(\n",
      "/Users/janrauhl/opt/anaconda3/lib/python3.9/site-packages/sklearn/linear_model/_sag.py:350: ConvergenceWarning: The max_iter was reached which means the coef_ did not converge\n",
      "  warnings.warn(\n",
      "/Users/janrauhl/opt/anaconda3/lib/python3.9/site-packages/sklearn/linear_model/_sag.py:350: ConvergenceWarning: The max_iter was reached which means the coef_ did not converge\n",
      "  warnings.warn(\n",
      "/Users/janrauhl/opt/anaconda3/lib/python3.9/site-packages/sklearn/linear_model/_sag.py:350: ConvergenceWarning: The max_iter was reached which means the coef_ did not converge\n",
      "  warnings.warn(\n",
      "/Users/janrauhl/opt/anaconda3/lib/python3.9/site-packages/sklearn/linear_model/_sag.py:350: ConvergenceWarning: The max_iter was reached which means the coef_ did not converge\n",
      "  warnings.warn(\n",
      "/Users/janrauhl/opt/anaconda3/lib/python3.9/site-packages/sklearn/linear_model/_sag.py:350: ConvergenceWarning: The max_iter was reached which means the coef_ did not converge\n",
      "  warnings.warn(\n",
      "/Users/janrauhl/opt/anaconda3/lib/python3.9/site-packages/sklearn/linear_model/_sag.py:350: ConvergenceWarning: The max_iter was reached which means the coef_ did not converge\n",
      "  warnings.warn(\n",
      "/Users/janrauhl/opt/anaconda3/lib/python3.9/site-packages/sklearn/linear_model/_sag.py:350: ConvergenceWarning: The max_iter was reached which means the coef_ did not converge\n",
      "  warnings.warn(\n",
      "/Users/janrauhl/opt/anaconda3/lib/python3.9/site-packages/sklearn/linear_model/_sag.py:350: ConvergenceWarning: The max_iter was reached which means the coef_ did not converge\n",
      "  warnings.warn(\n",
      "/Users/janrauhl/opt/anaconda3/lib/python3.9/site-packages/sklearn/linear_model/_sag.py:350: ConvergenceWarning: The max_iter was reached which means the coef_ did not converge\n",
      "  warnings.warn(\n",
      "/Users/janrauhl/opt/anaconda3/lib/python3.9/site-packages/sklearn/linear_model/_sag.py:350: ConvergenceWarning: The max_iter was reached which means the coef_ did not converge\n",
      "  warnings.warn(\n",
      "/Users/janrauhl/opt/anaconda3/lib/python3.9/site-packages/sklearn/linear_model/_sag.py:350: ConvergenceWarning: The max_iter was reached which means the coef_ did not converge\n",
      "  warnings.warn(\n",
      "/Users/janrauhl/opt/anaconda3/lib/python3.9/site-packages/sklearn/linear_model/_sag.py:350: ConvergenceWarning: The max_iter was reached which means the coef_ did not converge\n",
      "  warnings.warn(\n",
      "/Users/janrauhl/opt/anaconda3/lib/python3.9/site-packages/sklearn/linear_model/_sag.py:350: ConvergenceWarning: The max_iter was reached which means the coef_ did not converge\n",
      "  warnings.warn(\n",
      "/Users/janrauhl/opt/anaconda3/lib/python3.9/site-packages/sklearn/linear_model/_sag.py:350: ConvergenceWarning: The max_iter was reached which means the coef_ did not converge\n",
      "  warnings.warn(\n",
      "/Users/janrauhl/opt/anaconda3/lib/python3.9/site-packages/sklearn/linear_model/_sag.py:350: ConvergenceWarning: The max_iter was reached which means the coef_ did not converge\n",
      "  warnings.warn(\n",
      "/Users/janrauhl/opt/anaconda3/lib/python3.9/site-packages/sklearn/linear_model/_sag.py:350: ConvergenceWarning: The max_iter was reached which means the coef_ did not converge\n",
      "  warnings.warn(\n",
      "/Users/janrauhl/opt/anaconda3/lib/python3.9/site-packages/sklearn/linear_model/_sag.py:350: ConvergenceWarning: The max_iter was reached which means the coef_ did not converge\n",
      "  warnings.warn(\n",
      "/Users/janrauhl/opt/anaconda3/lib/python3.9/site-packages/sklearn/linear_model/_sag.py:350: ConvergenceWarning: The max_iter was reached which means the coef_ did not converge\n",
      "  warnings.warn(\n",
      "/Users/janrauhl/opt/anaconda3/lib/python3.9/site-packages/sklearn/linear_model/_sag.py:350: ConvergenceWarning: The max_iter was reached which means the coef_ did not converge\n",
      "  warnings.warn(\n",
      "/Users/janrauhl/opt/anaconda3/lib/python3.9/site-packages/sklearn/linear_model/_sag.py:350: ConvergenceWarning: The max_iter was reached which means the coef_ did not converge\n",
      "  warnings.warn(\n",
      "/Users/janrauhl/opt/anaconda3/lib/python3.9/site-packages/sklearn/linear_model/_sag.py:350: ConvergenceWarning: The max_iter was reached which means the coef_ did not converge\n",
      "  warnings.warn(\n",
      "/Users/janrauhl/opt/anaconda3/lib/python3.9/site-packages/sklearn/linear_model/_sag.py:350: ConvergenceWarning: The max_iter was reached which means the coef_ did not converge\n",
      "  warnings.warn(\n",
      "/Users/janrauhl/opt/anaconda3/lib/python3.9/site-packages/sklearn/linear_model/_sag.py:350: ConvergenceWarning: The max_iter was reached which means the coef_ did not converge\n",
      "  warnings.warn(\n",
      "/Users/janrauhl/opt/anaconda3/lib/python3.9/site-packages/sklearn/linear_model/_sag.py:350: ConvergenceWarning: The max_iter was reached which means the coef_ did not converge\n",
      "  warnings.warn(\n",
      "/Users/janrauhl/opt/anaconda3/lib/python3.9/site-packages/sklearn/linear_model/_sag.py:350: ConvergenceWarning: The max_iter was reached which means the coef_ did not converge\n",
      "  warnings.warn(\n",
      "/Users/janrauhl/opt/anaconda3/lib/python3.9/site-packages/sklearn/linear_model/_sag.py:350: ConvergenceWarning: The max_iter was reached which means the coef_ did not converge\n",
      "  warnings.warn(\n",
      "/Users/janrauhl/opt/anaconda3/lib/python3.9/site-packages/sklearn/linear_model/_sag.py:350: ConvergenceWarning: The max_iter was reached which means the coef_ did not converge\n",
      "  warnings.warn(\n",
      "/Users/janrauhl/opt/anaconda3/lib/python3.9/site-packages/sklearn/linear_model/_sag.py:350: ConvergenceWarning: The max_iter was reached which means the coef_ did not converge\n",
      "  warnings.warn(\n",
      "/Users/janrauhl/opt/anaconda3/lib/python3.9/site-packages/sklearn/linear_model/_sag.py:350: ConvergenceWarning: The max_iter was reached which means the coef_ did not converge\n",
      "  warnings.warn(\n",
      "/Users/janrauhl/opt/anaconda3/lib/python3.9/site-packages/sklearn/linear_model/_sag.py:350: ConvergenceWarning: The max_iter was reached which means the coef_ did not converge\n",
      "  warnings.warn(\n",
      "/Users/janrauhl/opt/anaconda3/lib/python3.9/site-packages/sklearn/linear_model/_sag.py:350: ConvergenceWarning: The max_iter was reached which means the coef_ did not converge\n",
      "  warnings.warn(\n",
      "/Users/janrauhl/opt/anaconda3/lib/python3.9/site-packages/sklearn/linear_model/_sag.py:350: ConvergenceWarning: The max_iter was reached which means the coef_ did not converge\n",
      "  warnings.warn(\n",
      "/Users/janrauhl/opt/anaconda3/lib/python3.9/site-packages/sklearn/linear_model/_sag.py:350: ConvergenceWarning: The max_iter was reached which means the coef_ did not converge\n",
      "  warnings.warn(\n",
      "/Users/janrauhl/opt/anaconda3/lib/python3.9/site-packages/sklearn/linear_model/_sag.py:350: ConvergenceWarning: The max_iter was reached which means the coef_ did not converge\n",
      "  warnings.warn(\n",
      "/Users/janrauhl/opt/anaconda3/lib/python3.9/site-packages/sklearn/linear_model/_sag.py:350: ConvergenceWarning: The max_iter was reached which means the coef_ did not converge\n",
      "  warnings.warn(\n",
      "/Users/janrauhl/opt/anaconda3/lib/python3.9/site-packages/sklearn/linear_model/_sag.py:350: ConvergenceWarning: The max_iter was reached which means the coef_ did not converge\n",
      "  warnings.warn(\n",
      "/Users/janrauhl/opt/anaconda3/lib/python3.9/site-packages/sklearn/linear_model/_sag.py:350: ConvergenceWarning: The max_iter was reached which means the coef_ did not converge\n",
      "  warnings.warn(\n",
      "/Users/janrauhl/opt/anaconda3/lib/python3.9/site-packages/sklearn/linear_model/_sag.py:350: ConvergenceWarning: The max_iter was reached which means the coef_ did not converge\n",
      "  warnings.warn(\n",
      "/Users/janrauhl/opt/anaconda3/lib/python3.9/site-packages/sklearn/linear_model/_sag.py:350: ConvergenceWarning: The max_iter was reached which means the coef_ did not converge\n",
      "  warnings.warn(\n",
      "/Users/janrauhl/opt/anaconda3/lib/python3.9/site-packages/sklearn/linear_model/_sag.py:350: ConvergenceWarning: The max_iter was reached which means the coef_ did not converge\n",
      "  warnings.warn(\n",
      "/Users/janrauhl/opt/anaconda3/lib/python3.9/site-packages/sklearn/linear_model/_sag.py:350: ConvergenceWarning: The max_iter was reached which means the coef_ did not converge\n",
      "  warnings.warn(\n",
      "/Users/janrauhl/opt/anaconda3/lib/python3.9/site-packages/sklearn/linear_model/_sag.py:350: ConvergenceWarning: The max_iter was reached which means the coef_ did not converge\n",
      "  warnings.warn(\n",
      "/Users/janrauhl/opt/anaconda3/lib/python3.9/site-packages/sklearn/linear_model/_sag.py:350: ConvergenceWarning: The max_iter was reached which means the coef_ did not converge\n",
      "  warnings.warn(\n",
      "/Users/janrauhl/opt/anaconda3/lib/python3.9/site-packages/sklearn/linear_model/_sag.py:350: ConvergenceWarning: The max_iter was reached which means the coef_ did not converge\n",
      "  warnings.warn(\n",
      "/Users/janrauhl/opt/anaconda3/lib/python3.9/site-packages/sklearn/linear_model/_sag.py:350: ConvergenceWarning: The max_iter was reached which means the coef_ did not converge\n",
      "  warnings.warn(\n",
      "/Users/janrauhl/opt/anaconda3/lib/python3.9/site-packages/sklearn/linear_model/_sag.py:350: ConvergenceWarning: The max_iter was reached which means the coef_ did not converge\n",
      "  warnings.warn(\n",
      "/Users/janrauhl/opt/anaconda3/lib/python3.9/site-packages/sklearn/linear_model/_sag.py:350: ConvergenceWarning: The max_iter was reached which means the coef_ did not converge\n",
      "  warnings.warn(\n",
      "/Users/janrauhl/opt/anaconda3/lib/python3.9/site-packages/sklearn/linear_model/_sag.py:350: ConvergenceWarning: The max_iter was reached which means the coef_ did not converge\n",
      "  warnings.warn(\n",
      "/Users/janrauhl/opt/anaconda3/lib/python3.9/site-packages/sklearn/linear_model/_sag.py:350: ConvergenceWarning: The max_iter was reached which means the coef_ did not converge\n",
      "  warnings.warn(\n",
      "/Users/janrauhl/opt/anaconda3/lib/python3.9/site-packages/sklearn/linear_model/_sag.py:350: ConvergenceWarning: The max_iter was reached which means the coef_ did not converge\n",
      "  warnings.warn(\n",
      "/Users/janrauhl/opt/anaconda3/lib/python3.9/site-packages/sklearn/linear_model/_sag.py:350: ConvergenceWarning: The max_iter was reached which means the coef_ did not converge\n",
      "  warnings.warn(\n",
      "/Users/janrauhl/opt/anaconda3/lib/python3.9/site-packages/sklearn/linear_model/_sag.py:350: ConvergenceWarning: The max_iter was reached which means the coef_ did not converge\n",
      "  warnings.warn(\n",
      "/Users/janrauhl/opt/anaconda3/lib/python3.9/site-packages/sklearn/linear_model/_sag.py:350: ConvergenceWarning: The max_iter was reached which means the coef_ did not converge\n",
      "  warnings.warn(\n",
      "/Users/janrauhl/opt/anaconda3/lib/python3.9/site-packages/sklearn/linear_model/_sag.py:350: ConvergenceWarning: The max_iter was reached which means the coef_ did not converge\n",
      "  warnings.warn(\n",
      "/Users/janrauhl/opt/anaconda3/lib/python3.9/site-packages/sklearn/linear_model/_sag.py:350: ConvergenceWarning: The max_iter was reached which means the coef_ did not converge\n",
      "  warnings.warn(\n",
      "/Users/janrauhl/opt/anaconda3/lib/python3.9/site-packages/sklearn/linear_model/_sag.py:350: ConvergenceWarning: The max_iter was reached which means the coef_ did not converge\n",
      "  warnings.warn(\n",
      "/Users/janrauhl/opt/anaconda3/lib/python3.9/site-packages/sklearn/linear_model/_sag.py:350: ConvergenceWarning: The max_iter was reached which means the coef_ did not converge\n",
      "  warnings.warn(\n",
      "/Users/janrauhl/opt/anaconda3/lib/python3.9/site-packages/sklearn/linear_model/_sag.py:350: ConvergenceWarning: The max_iter was reached which means the coef_ did not converge\n",
      "  warnings.warn(\n",
      "/Users/janrauhl/opt/anaconda3/lib/python3.9/site-packages/sklearn/linear_model/_sag.py:350: ConvergenceWarning: The max_iter was reached which means the coef_ did not converge\n",
      "  warnings.warn(\n",
      "/Users/janrauhl/opt/anaconda3/lib/python3.9/site-packages/sklearn/linear_model/_sag.py:350: ConvergenceWarning: The max_iter was reached which means the coef_ did not converge\n",
      "  warnings.warn(\n",
      "/Users/janrauhl/opt/anaconda3/lib/python3.9/site-packages/sklearn/linear_model/_sag.py:350: ConvergenceWarning: The max_iter was reached which means the coef_ did not converge\n",
      "  warnings.warn(\n",
      "/Users/janrauhl/opt/anaconda3/lib/python3.9/site-packages/sklearn/linear_model/_sag.py:350: ConvergenceWarning: The max_iter was reached which means the coef_ did not converge\n",
      "  warnings.warn(\n",
      "/Users/janrauhl/opt/anaconda3/lib/python3.9/site-packages/sklearn/linear_model/_sag.py:350: ConvergenceWarning: The max_iter was reached which means the coef_ did not converge\n",
      "  warnings.warn(\n",
      "/Users/janrauhl/opt/anaconda3/lib/python3.9/site-packages/sklearn/linear_model/_sag.py:350: ConvergenceWarning: The max_iter was reached which means the coef_ did not converge\n",
      "  warnings.warn(\n",
      "/Users/janrauhl/opt/anaconda3/lib/python3.9/site-packages/sklearn/linear_model/_sag.py:350: ConvergenceWarning: The max_iter was reached which means the coef_ did not converge\n",
      "  warnings.warn(\n",
      "/Users/janrauhl/opt/anaconda3/lib/python3.9/site-packages/sklearn/linear_model/_sag.py:350: ConvergenceWarning: The max_iter was reached which means the coef_ did not converge\n",
      "  warnings.warn(\n",
      "/Users/janrauhl/opt/anaconda3/lib/python3.9/site-packages/sklearn/linear_model/_sag.py:350: ConvergenceWarning: The max_iter was reached which means the coef_ did not converge\n",
      "  warnings.warn(\n",
      "/Users/janrauhl/opt/anaconda3/lib/python3.9/site-packages/sklearn/linear_model/_sag.py:350: ConvergenceWarning: The max_iter was reached which means the coef_ did not converge\n",
      "  warnings.warn(\n",
      "/Users/janrauhl/opt/anaconda3/lib/python3.9/site-packages/sklearn/linear_model/_sag.py:350: ConvergenceWarning: The max_iter was reached which means the coef_ did not converge\n",
      "  warnings.warn(\n",
      "/Users/janrauhl/opt/anaconda3/lib/python3.9/site-packages/sklearn/linear_model/_sag.py:350: ConvergenceWarning: The max_iter was reached which means the coef_ did not converge\n",
      "  warnings.warn(\n",
      "/Users/janrauhl/opt/anaconda3/lib/python3.9/site-packages/sklearn/linear_model/_sag.py:350: ConvergenceWarning: The max_iter was reached which means the coef_ did not converge\n",
      "  warnings.warn(\n",
      "/Users/janrauhl/opt/anaconda3/lib/python3.9/site-packages/sklearn/linear_model/_sag.py:350: ConvergenceWarning: The max_iter was reached which means the coef_ did not converge\n",
      "  warnings.warn(\n",
      "/Users/janrauhl/opt/anaconda3/lib/python3.9/site-packages/sklearn/linear_model/_sag.py:350: ConvergenceWarning: The max_iter was reached which means the coef_ did not converge\n",
      "  warnings.warn(\n",
      "/Users/janrauhl/opt/anaconda3/lib/python3.9/site-packages/sklearn/linear_model/_sag.py:350: ConvergenceWarning: The max_iter was reached which means the coef_ did not converge\n",
      "  warnings.warn(\n",
      "/Users/janrauhl/opt/anaconda3/lib/python3.9/site-packages/sklearn/linear_model/_sag.py:350: ConvergenceWarning: The max_iter was reached which means the coef_ did not converge\n",
      "  warnings.warn(\n",
      "/Users/janrauhl/opt/anaconda3/lib/python3.9/site-packages/sklearn/linear_model/_sag.py:350: ConvergenceWarning: The max_iter was reached which means the coef_ did not converge\n",
      "  warnings.warn(\n",
      "/Users/janrauhl/opt/anaconda3/lib/python3.9/site-packages/sklearn/linear_model/_sag.py:350: ConvergenceWarning: The max_iter was reached which means the coef_ did not converge\n",
      "  warnings.warn(\n",
      "/Users/janrauhl/opt/anaconda3/lib/python3.9/site-packages/sklearn/linear_model/_sag.py:350: ConvergenceWarning: The max_iter was reached which means the coef_ did not converge\n",
      "  warnings.warn(\n",
      "/Users/janrauhl/opt/anaconda3/lib/python3.9/site-packages/sklearn/linear_model/_sag.py:350: ConvergenceWarning: The max_iter was reached which means the coef_ did not converge\n",
      "  warnings.warn(\n",
      "/Users/janrauhl/opt/anaconda3/lib/python3.9/site-packages/sklearn/linear_model/_sag.py:350: ConvergenceWarning: The max_iter was reached which means the coef_ did not converge\n",
      "  warnings.warn(\n",
      "/Users/janrauhl/opt/anaconda3/lib/python3.9/site-packages/sklearn/linear_model/_sag.py:350: ConvergenceWarning: The max_iter was reached which means the coef_ did not converge\n",
      "  warnings.warn(\n",
      "/Users/janrauhl/opt/anaconda3/lib/python3.9/site-packages/sklearn/linear_model/_sag.py:350: ConvergenceWarning: The max_iter was reached which means the coef_ did not converge\n",
      "  warnings.warn(\n",
      "/Users/janrauhl/opt/anaconda3/lib/python3.9/site-packages/sklearn/linear_model/_sag.py:350: ConvergenceWarning: The max_iter was reached which means the coef_ did not converge\n",
      "  warnings.warn(\n",
      "/Users/janrauhl/opt/anaconda3/lib/python3.9/site-packages/sklearn/linear_model/_sag.py:350: ConvergenceWarning: The max_iter was reached which means the coef_ did not converge\n",
      "  warnings.warn(\n",
      "/Users/janrauhl/opt/anaconda3/lib/python3.9/site-packages/sklearn/linear_model/_sag.py:350: ConvergenceWarning: The max_iter was reached which means the coef_ did not converge\n",
      "  warnings.warn(\n",
      "/Users/janrauhl/opt/anaconda3/lib/python3.9/site-packages/sklearn/linear_model/_sag.py:350: ConvergenceWarning: The max_iter was reached which means the coef_ did not converge\n",
      "  warnings.warn(\n",
      "/Users/janrauhl/opt/anaconda3/lib/python3.9/site-packages/sklearn/linear_model/_sag.py:350: ConvergenceWarning: The max_iter was reached which means the coef_ did not converge\n",
      "  warnings.warn(\n",
      "/Users/janrauhl/opt/anaconda3/lib/python3.9/site-packages/sklearn/linear_model/_sag.py:350: ConvergenceWarning: The max_iter was reached which means the coef_ did not converge\n",
      "  warnings.warn(\n",
      "/Users/janrauhl/opt/anaconda3/lib/python3.9/site-packages/sklearn/linear_model/_sag.py:350: ConvergenceWarning: The max_iter was reached which means the coef_ did not converge\n",
      "  warnings.warn(\n",
      "/Users/janrauhl/opt/anaconda3/lib/python3.9/site-packages/sklearn/linear_model/_sag.py:350: ConvergenceWarning: The max_iter was reached which means the coef_ did not converge\n",
      "  warnings.warn(\n",
      "/Users/janrauhl/opt/anaconda3/lib/python3.9/site-packages/sklearn/linear_model/_sag.py:350: ConvergenceWarning: The max_iter was reached which means the coef_ did not converge\n",
      "  warnings.warn(\n",
      "/Users/janrauhl/opt/anaconda3/lib/python3.9/site-packages/sklearn/linear_model/_sag.py:350: ConvergenceWarning: The max_iter was reached which means the coef_ did not converge\n",
      "  warnings.warn(\n",
      "/Users/janrauhl/opt/anaconda3/lib/python3.9/site-packages/sklearn/linear_model/_sag.py:350: ConvergenceWarning: The max_iter was reached which means the coef_ did not converge\n",
      "  warnings.warn(\n",
      "/Users/janrauhl/opt/anaconda3/lib/python3.9/site-packages/sklearn/linear_model/_sag.py:350: ConvergenceWarning: The max_iter was reached which means the coef_ did not converge\n",
      "  warnings.warn(\n",
      "/Users/janrauhl/opt/anaconda3/lib/python3.9/site-packages/sklearn/linear_model/_sag.py:350: ConvergenceWarning: The max_iter was reached which means the coef_ did not converge\n",
      "  warnings.warn(\n",
      "[Parallel(n_jobs=5)]: Done   2 out of   5 | elapsed:  1.3min remaining:  2.0min\n",
      "/Users/janrauhl/opt/anaconda3/lib/python3.9/site-packages/sklearn/linear_model/_sag.py:350: ConvergenceWarning: The max_iter was reached which means the coef_ did not converge\n",
      "  warnings.warn(\n",
      "/Users/janrauhl/opt/anaconda3/lib/python3.9/site-packages/sklearn/linear_model/_sag.py:350: ConvergenceWarning: The max_iter was reached which means the coef_ did not converge\n",
      "  warnings.warn(\n",
      "/Users/janrauhl/opt/anaconda3/lib/python3.9/site-packages/sklearn/linear_model/_sag.py:350: ConvergenceWarning: The max_iter was reached which means the coef_ did not converge\n",
      "  warnings.warn(\n",
      "/Users/janrauhl/opt/anaconda3/lib/python3.9/site-packages/sklearn/linear_model/_sag.py:350: ConvergenceWarning: The max_iter was reached which means the coef_ did not converge\n",
      "  warnings.warn(\n",
      "[Parallel(n_jobs=5)]: Done   5 out of   5 | elapsed:  1.4min finished\n"
     ]
    },
    {
     "name": "stdout",
     "output_type": "stream",
     "text": [
      "# Common Cross Validation Results\n",
      "bACC=0.69 ROC-AUC=0.75\n",
      "# Test\n",
      "bACC=0.72 ROC-AUC=0.82\n",
      "CPU times: user 55.6 s, sys: 1.33 s, total: 57 s\n",
      "Wall time: 2min 16s\n"
     ]
    }
   ],
   "source": [
    "%%time\n",
    "evaluate(ROIsFeatureExtractor(),\n",
    "         LogisticRegressionCV(Cs = 5, cv=5, penalty = 'elasticnet', solver = 'saga', random_state=42, \n",
    "                              l1_ratios = [0.3,0.8], max_iter=1000),\n",
    "         X_train, y_train,X_test, y_test, 'Common')"
   ]
  },
  {
   "cell_type": "code",
   "execution_count": 375,
   "id": "6271c7f0",
   "metadata": {},
   "outputs": [
    {
     "name": "stdout",
     "output_type": "stream",
     "text": [
      "# Group Stratified Cross Validation Results\n",
      "bACC=0.66 ROC-AUC=0.72\n",
      "# Test\n",
      "bACC=0.72 ROC-AUC=0.82\n",
      "CPU times: user 1min 51s, sys: 2.01 s, total: 1min 53s\n",
      "Wall time: 1min 46s\n"
     ]
    }
   ],
   "source": [
    "%%time\n",
    "evaluate(ROIsFeatureExtractor(),\n",
    "         LogisticRegressionCV(Cs = 5, cv=5, penalty = 'elasticnet', solver = 'saga', random_state=42, \n",
    "                              l1_ratios = [0.3,0.8], max_iter=1000),\n",
    "         X_train, y_train,X_test, y_test, 'Group Stratified')"
   ]
  },
  {
   "cell_type": "code",
   "execution_count": 376,
   "id": "80ff65fe",
   "metadata": {},
   "outputs": [
    {
     "name": "stderr",
     "output_type": "stream",
     "text": [
      "[Parallel(n_jobs=5)]: Using backend LokyBackend with 5 concurrent workers.\n",
      "/Users/janrauhl/opt/anaconda3/lib/python3.9/site-packages/sklearn/linear_model/_sag.py:350: ConvergenceWarning: The max_iter was reached which means the coef_ did not converge\n",
      "  warnings.warn(\n",
      "/Users/janrauhl/opt/anaconda3/lib/python3.9/site-packages/sklearn/linear_model/_sag.py:350: ConvergenceWarning: The max_iter was reached which means the coef_ did not converge\n",
      "  warnings.warn(\n",
      "/Users/janrauhl/opt/anaconda3/lib/python3.9/site-packages/sklearn/linear_model/_sag.py:350: ConvergenceWarning: The max_iter was reached which means the coef_ did not converge\n",
      "  warnings.warn(\n",
      "/Users/janrauhl/opt/anaconda3/lib/python3.9/site-packages/sklearn/linear_model/_sag.py:350: ConvergenceWarning: The max_iter was reached which means the coef_ did not converge\n",
      "  warnings.warn(\n",
      "/Users/janrauhl/opt/anaconda3/lib/python3.9/site-packages/sklearn/linear_model/_sag.py:350: ConvergenceWarning: The max_iter was reached which means the coef_ did not converge\n",
      "  warnings.warn(\n",
      "/Users/janrauhl/opt/anaconda3/lib/python3.9/site-packages/sklearn/linear_model/_sag.py:350: ConvergenceWarning: The max_iter was reached which means the coef_ did not converge\n",
      "  warnings.warn(\n",
      "/Users/janrauhl/opt/anaconda3/lib/python3.9/site-packages/sklearn/linear_model/_sag.py:350: ConvergenceWarning: The max_iter was reached which means the coef_ did not converge\n",
      "  warnings.warn(\n",
      "/Users/janrauhl/opt/anaconda3/lib/python3.9/site-packages/sklearn/linear_model/_sag.py:350: ConvergenceWarning: The max_iter was reached which means the coef_ did not converge\n",
      "  warnings.warn(\n",
      "/Users/janrauhl/opt/anaconda3/lib/python3.9/site-packages/sklearn/linear_model/_sag.py:350: ConvergenceWarning: The max_iter was reached which means the coef_ did not converge\n",
      "  warnings.warn(\n",
      "/Users/janrauhl/opt/anaconda3/lib/python3.9/site-packages/sklearn/linear_model/_sag.py:350: ConvergenceWarning: The max_iter was reached which means the coef_ did not converge\n",
      "  warnings.warn(\n",
      "/Users/janrauhl/opt/anaconda3/lib/python3.9/site-packages/sklearn/linear_model/_sag.py:350: ConvergenceWarning: The max_iter was reached which means the coef_ did not converge\n",
      "  warnings.warn(\n",
      "/Users/janrauhl/opt/anaconda3/lib/python3.9/site-packages/sklearn/linear_model/_sag.py:350: ConvergenceWarning: The max_iter was reached which means the coef_ did not converge\n",
      "  warnings.warn(\n",
      "/Users/janrauhl/opt/anaconda3/lib/python3.9/site-packages/sklearn/linear_model/_sag.py:350: ConvergenceWarning: The max_iter was reached which means the coef_ did not converge\n",
      "  warnings.warn(\n",
      "/Users/janrauhl/opt/anaconda3/lib/python3.9/site-packages/sklearn/linear_model/_sag.py:350: ConvergenceWarning: The max_iter was reached which means the coef_ did not converge\n",
      "  warnings.warn(\n",
      "/Users/janrauhl/opt/anaconda3/lib/python3.9/site-packages/sklearn/linear_model/_sag.py:350: ConvergenceWarning: The max_iter was reached which means the coef_ did not converge\n",
      "  warnings.warn(\n",
      "/Users/janrauhl/opt/anaconda3/lib/python3.9/site-packages/sklearn/linear_model/_sag.py:350: ConvergenceWarning: The max_iter was reached which means the coef_ did not converge\n",
      "  warnings.warn(\n",
      "/Users/janrauhl/opt/anaconda3/lib/python3.9/site-packages/sklearn/linear_model/_sag.py:350: ConvergenceWarning: The max_iter was reached which means the coef_ did not converge\n",
      "  warnings.warn(\n",
      "/Users/janrauhl/opt/anaconda3/lib/python3.9/site-packages/sklearn/linear_model/_sag.py:350: ConvergenceWarning: The max_iter was reached which means the coef_ did not converge\n",
      "  warnings.warn(\n",
      "/Users/janrauhl/opt/anaconda3/lib/python3.9/site-packages/sklearn/linear_model/_sag.py:350: ConvergenceWarning: The max_iter was reached which means the coef_ did not converge\n",
      "  warnings.warn(\n",
      "/Users/janrauhl/opt/anaconda3/lib/python3.9/site-packages/sklearn/linear_model/_sag.py:350: ConvergenceWarning: The max_iter was reached which means the coef_ did not converge\n",
      "  warnings.warn(\n",
      "[Parallel(n_jobs=5)]: Done   2 out of   5 | elapsed: 314.1min remaining: 471.2min\n"
     ]
    },
    {
     "ename": "KeyboardInterrupt",
     "evalue": "",
     "output_type": "error",
     "traceback": [
      "\u001b[0;31m---------------------------------------------------------------------------\u001b[0m",
      "\u001b[0;31mKeyboardInterrupt\u001b[0m                         Traceback (most recent call last)",
      "File \u001b[0;32m<timed eval>:1\u001b[0m, in \u001b[0;36m<module>\u001b[0;34m\u001b[0m\n",
      "Input \u001b[0;32mIn [233]\u001b[0m, in \u001b[0;36mevaluate\u001b[0;34m(extractor, model, X_train, y_train, X_test, y_test, mode)\u001b[0m\n\u001b[1;32m     40\u001b[0m y_train \u001b[38;5;241m=\u001b[39m le\u001b[38;5;241m.\u001b[39mfit_transform(y_train)\n\u001b[1;32m     42\u001b[0m \u001b[38;5;28;01mif\u001b[39;00m mode \u001b[38;5;241m==\u001b[39m \u001b[38;5;124m'\u001b[39m\u001b[38;5;124mCommon\u001b[39m\u001b[38;5;124m'\u001b[39m: \n\u001b[0;32m---> 43\u001b[0m     cv_results \u001b[38;5;241m=\u001b[39m \u001b[43mcross_validate\u001b[49m\u001b[43m(\u001b[49m\u001b[43mestimator\u001b[49m\u001b[43m,\u001b[49m\u001b[43m \u001b[49m\u001b[43mX_train\u001b[49m\u001b[43m,\u001b[49m\u001b[43m \u001b[49m\u001b[43my_train\u001b[49m\u001b[43m,\u001b[49m\u001b[43m \u001b[49m\u001b[43mscoring\u001b[49m\u001b[38;5;241;43m=\u001b[39;49m\u001b[43m[\u001b[49m\u001b[38;5;124;43m'\u001b[39;49m\u001b[38;5;124;43mbalanced_accuracy\u001b[39;49m\u001b[38;5;124;43m'\u001b[39;49m\u001b[43m,\u001b[49m\u001b[43m \u001b[49m\u001b[38;5;124;43m'\u001b[39;49m\u001b[38;5;124;43mroc_auc\u001b[39;49m\u001b[38;5;124;43m'\u001b[39;49m\u001b[43m]\u001b[49m\u001b[43m,\u001b[49m\u001b[43m \u001b[49m\u001b[43mcv\u001b[49m\u001b[38;5;241;43m=\u001b[39;49m\u001b[43mcv\u001b[49m\u001b[43m,\u001b[49m\n\u001b[1;32m     44\u001b[0m \u001b[43m                            \u001b[49m\u001b[43mverbose\u001b[49m\u001b[38;5;241;43m=\u001b[39;49m\u001b[38;5;241;43m1\u001b[39;49m\u001b[43m,\u001b[49m\u001b[43m \u001b[49m\u001b[43mreturn_train_score\u001b[49m\u001b[38;5;241;43m=\u001b[39;49m\u001b[38;5;28;43;01mTrue\u001b[39;49;00m\u001b[43m,\u001b[49m\u001b[43m \u001b[49m\u001b[43mn_jobs\u001b[49m\u001b[38;5;241;43m=\u001b[39;49m\u001b[38;5;241;43m5\u001b[39;49m\u001b[43m)\u001b[49m\n\u001b[1;32m     46\u001b[0m \u001b[38;5;28;01melif\u001b[39;00m mode \u001b[38;5;241m==\u001b[39m \u001b[38;5;124m'\u001b[39m\u001b[38;5;124mGroup Stratified\u001b[39m\u001b[38;5;124m'\u001b[39m: \n\u001b[1;32m     47\u001b[0m     n_splits \u001b[38;5;241m=\u001b[39m \u001b[38;5;241m2\u001b[39m\n",
      "File \u001b[0;32m~/opt/anaconda3/lib/python3.9/site-packages/sklearn/model_selection/_validation.py:266\u001b[0m, in \u001b[0;36mcross_validate\u001b[0;34m(estimator, X, y, groups, scoring, cv, n_jobs, verbose, fit_params, pre_dispatch, return_train_score, return_estimator, error_score)\u001b[0m\n\u001b[1;32m    263\u001b[0m \u001b[38;5;66;03m# We clone the estimator to make sure that all the folds are\u001b[39;00m\n\u001b[1;32m    264\u001b[0m \u001b[38;5;66;03m# independent, and that it is pickle-able.\u001b[39;00m\n\u001b[1;32m    265\u001b[0m parallel \u001b[38;5;241m=\u001b[39m Parallel(n_jobs\u001b[38;5;241m=\u001b[39mn_jobs, verbose\u001b[38;5;241m=\u001b[39mverbose, pre_dispatch\u001b[38;5;241m=\u001b[39mpre_dispatch)\n\u001b[0;32m--> 266\u001b[0m results \u001b[38;5;241m=\u001b[39m \u001b[43mparallel\u001b[49m\u001b[43m(\u001b[49m\n\u001b[1;32m    267\u001b[0m \u001b[43m    \u001b[49m\u001b[43mdelayed\u001b[49m\u001b[43m(\u001b[49m\u001b[43m_fit_and_score\u001b[49m\u001b[43m)\u001b[49m\u001b[43m(\u001b[49m\n\u001b[1;32m    268\u001b[0m \u001b[43m        \u001b[49m\u001b[43mclone\u001b[49m\u001b[43m(\u001b[49m\u001b[43mestimator\u001b[49m\u001b[43m)\u001b[49m\u001b[43m,\u001b[49m\n\u001b[1;32m    269\u001b[0m \u001b[43m        \u001b[49m\u001b[43mX\u001b[49m\u001b[43m,\u001b[49m\n\u001b[1;32m    270\u001b[0m \u001b[43m        \u001b[49m\u001b[43my\u001b[49m\u001b[43m,\u001b[49m\n\u001b[1;32m    271\u001b[0m \u001b[43m        \u001b[49m\u001b[43mscorers\u001b[49m\u001b[43m,\u001b[49m\n\u001b[1;32m    272\u001b[0m \u001b[43m        \u001b[49m\u001b[43mtrain\u001b[49m\u001b[43m,\u001b[49m\n\u001b[1;32m    273\u001b[0m \u001b[43m        \u001b[49m\u001b[43mtest\u001b[49m\u001b[43m,\u001b[49m\n\u001b[1;32m    274\u001b[0m \u001b[43m        \u001b[49m\u001b[43mverbose\u001b[49m\u001b[43m,\u001b[49m\n\u001b[1;32m    275\u001b[0m \u001b[43m        \u001b[49m\u001b[38;5;28;43;01mNone\u001b[39;49;00m\u001b[43m,\u001b[49m\n\u001b[1;32m    276\u001b[0m \u001b[43m        \u001b[49m\u001b[43mfit_params\u001b[49m\u001b[43m,\u001b[49m\n\u001b[1;32m    277\u001b[0m \u001b[43m        \u001b[49m\u001b[43mreturn_train_score\u001b[49m\u001b[38;5;241;43m=\u001b[39;49m\u001b[43mreturn_train_score\u001b[49m\u001b[43m,\u001b[49m\n\u001b[1;32m    278\u001b[0m \u001b[43m        \u001b[49m\u001b[43mreturn_times\u001b[49m\u001b[38;5;241;43m=\u001b[39;49m\u001b[38;5;28;43;01mTrue\u001b[39;49;00m\u001b[43m,\u001b[49m\n\u001b[1;32m    279\u001b[0m \u001b[43m        \u001b[49m\u001b[43mreturn_estimator\u001b[49m\u001b[38;5;241;43m=\u001b[39;49m\u001b[43mreturn_estimator\u001b[49m\u001b[43m,\u001b[49m\n\u001b[1;32m    280\u001b[0m \u001b[43m        \u001b[49m\u001b[43merror_score\u001b[49m\u001b[38;5;241;43m=\u001b[39;49m\u001b[43merror_score\u001b[49m\u001b[43m,\u001b[49m\n\u001b[1;32m    281\u001b[0m \u001b[43m    \u001b[49m\u001b[43m)\u001b[49m\n\u001b[1;32m    282\u001b[0m \u001b[43m    \u001b[49m\u001b[38;5;28;43;01mfor\u001b[39;49;00m\u001b[43m \u001b[49m\u001b[43mtrain\u001b[49m\u001b[43m,\u001b[49m\u001b[43m \u001b[49m\u001b[43mtest\u001b[49m\u001b[43m \u001b[49m\u001b[38;5;129;43;01min\u001b[39;49;00m\u001b[43m \u001b[49m\u001b[43mcv\u001b[49m\u001b[38;5;241;43m.\u001b[39;49m\u001b[43msplit\u001b[49m\u001b[43m(\u001b[49m\u001b[43mX\u001b[49m\u001b[43m,\u001b[49m\u001b[43m \u001b[49m\u001b[43my\u001b[49m\u001b[43m,\u001b[49m\u001b[43m \u001b[49m\u001b[43mgroups\u001b[49m\u001b[43m)\u001b[49m\n\u001b[1;32m    283\u001b[0m \u001b[43m\u001b[49m\u001b[43m)\u001b[49m\n\u001b[1;32m    285\u001b[0m _warn_or_raise_about_fit_failures(results, error_score)\n\u001b[1;32m    287\u001b[0m \u001b[38;5;66;03m# For callabe scoring, the return type is only know after calling. If the\u001b[39;00m\n\u001b[1;32m    288\u001b[0m \u001b[38;5;66;03m# return type is a dictionary, the error scores can now be inserted with\u001b[39;00m\n\u001b[1;32m    289\u001b[0m \u001b[38;5;66;03m# the correct key.\u001b[39;00m\n",
      "File \u001b[0;32m~/opt/anaconda3/lib/python3.9/site-packages/sklearn/utils/parallel.py:63\u001b[0m, in \u001b[0;36mParallel.__call__\u001b[0;34m(self, iterable)\u001b[0m\n\u001b[1;32m     58\u001b[0m config \u001b[38;5;241m=\u001b[39m get_config()\n\u001b[1;32m     59\u001b[0m iterable_with_config \u001b[38;5;241m=\u001b[39m (\n\u001b[1;32m     60\u001b[0m     (_with_config(delayed_func, config), args, kwargs)\n\u001b[1;32m     61\u001b[0m     \u001b[38;5;28;01mfor\u001b[39;00m delayed_func, args, kwargs \u001b[38;5;129;01min\u001b[39;00m iterable\n\u001b[1;32m     62\u001b[0m )\n\u001b[0;32m---> 63\u001b[0m \u001b[38;5;28;01mreturn\u001b[39;00m \u001b[38;5;28;43msuper\u001b[39;49m\u001b[43m(\u001b[49m\u001b[43m)\u001b[49m\u001b[38;5;241;43m.\u001b[39;49m\u001b[38;5;21;43m__call__\u001b[39;49m\u001b[43m(\u001b[49m\u001b[43miterable_with_config\u001b[49m\u001b[43m)\u001b[49m\n",
      "File \u001b[0;32m~/opt/anaconda3/lib/python3.9/site-packages/joblib/parallel.py:1098\u001b[0m, in \u001b[0;36mParallel.__call__\u001b[0;34m(self, iterable)\u001b[0m\n\u001b[1;32m   1095\u001b[0m     \u001b[38;5;28mself\u001b[39m\u001b[38;5;241m.\u001b[39m_iterating \u001b[38;5;241m=\u001b[39m \u001b[38;5;28;01mFalse\u001b[39;00m\n\u001b[1;32m   1097\u001b[0m \u001b[38;5;28;01mwith\u001b[39;00m \u001b[38;5;28mself\u001b[39m\u001b[38;5;241m.\u001b[39m_backend\u001b[38;5;241m.\u001b[39mretrieval_context():\n\u001b[0;32m-> 1098\u001b[0m     \u001b[38;5;28;43mself\u001b[39;49m\u001b[38;5;241;43m.\u001b[39;49m\u001b[43mretrieve\u001b[49m\u001b[43m(\u001b[49m\u001b[43m)\u001b[49m\n\u001b[1;32m   1099\u001b[0m \u001b[38;5;66;03m# Make sure that we get a last message telling us we are done\u001b[39;00m\n\u001b[1;32m   1100\u001b[0m elapsed_time \u001b[38;5;241m=\u001b[39m time\u001b[38;5;241m.\u001b[39mtime() \u001b[38;5;241m-\u001b[39m \u001b[38;5;28mself\u001b[39m\u001b[38;5;241m.\u001b[39m_start_time\n",
      "File \u001b[0;32m~/opt/anaconda3/lib/python3.9/site-packages/joblib/parallel.py:975\u001b[0m, in \u001b[0;36mParallel.retrieve\u001b[0;34m(self)\u001b[0m\n\u001b[1;32m    973\u001b[0m \u001b[38;5;28;01mtry\u001b[39;00m:\n\u001b[1;32m    974\u001b[0m     \u001b[38;5;28;01mif\u001b[39;00m \u001b[38;5;28mgetattr\u001b[39m(\u001b[38;5;28mself\u001b[39m\u001b[38;5;241m.\u001b[39m_backend, \u001b[38;5;124m'\u001b[39m\u001b[38;5;124msupports_timeout\u001b[39m\u001b[38;5;124m'\u001b[39m, \u001b[38;5;28;01mFalse\u001b[39;00m):\n\u001b[0;32m--> 975\u001b[0m         \u001b[38;5;28mself\u001b[39m\u001b[38;5;241m.\u001b[39m_output\u001b[38;5;241m.\u001b[39mextend(\u001b[43mjob\u001b[49m\u001b[38;5;241;43m.\u001b[39;49m\u001b[43mget\u001b[49m\u001b[43m(\u001b[49m\u001b[43mtimeout\u001b[49m\u001b[38;5;241;43m=\u001b[39;49m\u001b[38;5;28;43mself\u001b[39;49m\u001b[38;5;241;43m.\u001b[39;49m\u001b[43mtimeout\u001b[49m\u001b[43m)\u001b[49m)\n\u001b[1;32m    976\u001b[0m     \u001b[38;5;28;01melse\u001b[39;00m:\n\u001b[1;32m    977\u001b[0m         \u001b[38;5;28mself\u001b[39m\u001b[38;5;241m.\u001b[39m_output\u001b[38;5;241m.\u001b[39mextend(job\u001b[38;5;241m.\u001b[39mget())\n",
      "File \u001b[0;32m~/opt/anaconda3/lib/python3.9/site-packages/joblib/_parallel_backends.py:567\u001b[0m, in \u001b[0;36mLokyBackend.wrap_future_result\u001b[0;34m(future, timeout)\u001b[0m\n\u001b[1;32m    564\u001b[0m \u001b[38;5;124;03m\"\"\"Wrapper for Future.result to implement the same behaviour as\u001b[39;00m\n\u001b[1;32m    565\u001b[0m \u001b[38;5;124;03mAsyncResults.get from multiprocessing.\"\"\"\u001b[39;00m\n\u001b[1;32m    566\u001b[0m \u001b[38;5;28;01mtry\u001b[39;00m:\n\u001b[0;32m--> 567\u001b[0m     \u001b[38;5;28;01mreturn\u001b[39;00m \u001b[43mfuture\u001b[49m\u001b[38;5;241;43m.\u001b[39;49m\u001b[43mresult\u001b[49m\u001b[43m(\u001b[49m\u001b[43mtimeout\u001b[49m\u001b[38;5;241;43m=\u001b[39;49m\u001b[43mtimeout\u001b[49m\u001b[43m)\u001b[49m\n\u001b[1;32m    568\u001b[0m \u001b[38;5;28;01mexcept\u001b[39;00m CfTimeoutError \u001b[38;5;28;01mas\u001b[39;00m e:\n\u001b[1;32m    569\u001b[0m     \u001b[38;5;28;01mraise\u001b[39;00m \u001b[38;5;167;01mTimeoutError\u001b[39;00m \u001b[38;5;28;01mfrom\u001b[39;00m \u001b[38;5;21;01me\u001b[39;00m\n",
      "File \u001b[0;32m~/opt/anaconda3/lib/python3.9/concurrent/futures/_base.py:441\u001b[0m, in \u001b[0;36mFuture.result\u001b[0;34m(self, timeout)\u001b[0m\n\u001b[1;32m    438\u001b[0m \u001b[38;5;28;01melif\u001b[39;00m \u001b[38;5;28mself\u001b[39m\u001b[38;5;241m.\u001b[39m_state \u001b[38;5;241m==\u001b[39m FINISHED:\n\u001b[1;32m    439\u001b[0m     \u001b[38;5;28;01mreturn\u001b[39;00m \u001b[38;5;28mself\u001b[39m\u001b[38;5;241m.\u001b[39m__get_result()\n\u001b[0;32m--> 441\u001b[0m \u001b[38;5;28;43mself\u001b[39;49m\u001b[38;5;241;43m.\u001b[39;49m\u001b[43m_condition\u001b[49m\u001b[38;5;241;43m.\u001b[39;49m\u001b[43mwait\u001b[49m\u001b[43m(\u001b[49m\u001b[43mtimeout\u001b[49m\u001b[43m)\u001b[49m\n\u001b[1;32m    443\u001b[0m \u001b[38;5;28;01mif\u001b[39;00m \u001b[38;5;28mself\u001b[39m\u001b[38;5;241m.\u001b[39m_state \u001b[38;5;129;01min\u001b[39;00m [CANCELLED, CANCELLED_AND_NOTIFIED]:\n\u001b[1;32m    444\u001b[0m     \u001b[38;5;28;01mraise\u001b[39;00m CancelledError()\n",
      "File \u001b[0;32m~/opt/anaconda3/lib/python3.9/threading.py:312\u001b[0m, in \u001b[0;36mCondition.wait\u001b[0;34m(self, timeout)\u001b[0m\n\u001b[1;32m    310\u001b[0m \u001b[38;5;28;01mtry\u001b[39;00m:    \u001b[38;5;66;03m# restore state no matter what (e.g., KeyboardInterrupt)\u001b[39;00m\n\u001b[1;32m    311\u001b[0m     \u001b[38;5;28;01mif\u001b[39;00m timeout \u001b[38;5;129;01mis\u001b[39;00m \u001b[38;5;28;01mNone\u001b[39;00m:\n\u001b[0;32m--> 312\u001b[0m         \u001b[43mwaiter\u001b[49m\u001b[38;5;241;43m.\u001b[39;49m\u001b[43macquire\u001b[49m\u001b[43m(\u001b[49m\u001b[43m)\u001b[49m\n\u001b[1;32m    313\u001b[0m         gotit \u001b[38;5;241m=\u001b[39m \u001b[38;5;28;01mTrue\u001b[39;00m\n\u001b[1;32m    314\u001b[0m     \u001b[38;5;28;01melse\u001b[39;00m:\n",
      "\u001b[0;31mKeyboardInterrupt\u001b[0m: "
     ]
    }
   ],
   "source": [
    "#requires >10 hrs\n",
    "%%time\n",
    "evaluate(VBMFeatureExtractor(),\n",
    "         LogisticRegressionCV(Cs = 5, cv=5, penalty = 'elasticnet', solver = 'saga', random_state=42, \n",
    "                              l1_ratios = [0.3,0.8], max_iter=1000),\n",
    "         X_train, y_train,X_test, y_test, 'Common')"
   ]
  },
  {
   "cell_type": "code",
   "execution_count": 377,
   "id": "5f696a38",
   "metadata": {},
   "outputs": [
    {
     "ename": "KeyboardInterrupt",
     "evalue": "",
     "output_type": "error",
     "traceback": [
      "\u001b[0;31m---------------------------------------------------------------------------\u001b[0m",
      "\u001b[0;31mKeyboardInterrupt\u001b[0m                         Traceback (most recent call last)",
      "File \u001b[0;32m<timed eval>:1\u001b[0m, in \u001b[0;36m<module>\u001b[0;34m\u001b[0m\n",
      "Input \u001b[0;32mIn [233]\u001b[0m, in \u001b[0;36mevaluate\u001b[0;34m(extractor, model, X_train, y_train, X_test, y_test, mode)\u001b[0m\n\u001b[1;32m     48\u001b[0m     sex \u001b[38;5;241m=\u001b[39m le\u001b[38;5;241m.\u001b[39mfit_transform(participants_train[\u001b[38;5;124m'\u001b[39m\u001b[38;5;124msex\u001b[39m\u001b[38;5;124m'\u001b[39m])\n\u001b[1;32m     49\u001b[0m     cv \u001b[38;5;241m=\u001b[39m GroupKFold(n_splits\u001b[38;5;241m=\u001b[39mn_splits)\n\u001b[0;32m---> 50\u001b[0m     cv_results \u001b[38;5;241m=\u001b[39m \u001b[43mcross_validate\u001b[49m\u001b[43m(\u001b[49m\u001b[43mestimator\u001b[49m\u001b[43m,\u001b[49m\u001b[43m \u001b[49m\u001b[43mX_train\u001b[49m\u001b[43m,\u001b[49m\u001b[43m \u001b[49m\u001b[43my_train\u001b[49m\u001b[43m,\u001b[49m\u001b[43m \u001b[49m\u001b[43mcv\u001b[49m\u001b[38;5;241;43m=\u001b[39;49m\u001b[43mcv\u001b[49m\u001b[43m,\u001b[49m\u001b[43m \u001b[49m\n\u001b[1;32m     51\u001b[0m \u001b[43m                                \u001b[49m\u001b[43mgroups\u001b[49m\u001b[38;5;241;43m=\u001b[39;49m\u001b[43msex\u001b[49m\u001b[43m,\u001b[49m\u001b[43m \u001b[49m\u001b[43mscoring\u001b[49m\u001b[38;5;241;43m=\u001b[39;49m\u001b[43m[\u001b[49m\u001b[38;5;124;43m'\u001b[39;49m\u001b[38;5;124;43mbalanced_accuracy\u001b[39;49m\u001b[38;5;124;43m'\u001b[39;49m\u001b[43m,\u001b[49m\u001b[43m \u001b[49m\u001b[38;5;124;43m'\u001b[39;49m\u001b[38;5;124;43mroc_auc\u001b[39;49m\u001b[38;5;124;43m'\u001b[39;49m\u001b[43m]\u001b[49m\u001b[43m,\u001b[49m\u001b[43m \u001b[49m\u001b[43mreturn_estimator\u001b[49m\u001b[38;5;241;43m=\u001b[39;49m\u001b[38;5;28;43;01mTrue\u001b[39;49;00m\u001b[43m)\u001b[49m\n\u001b[1;32m     52\u001b[0m \u001b[38;5;28;01melse\u001b[39;00m: \n\u001b[1;32m     53\u001b[0m     \u001b[38;5;28mprint\u001b[39m(\u001b[38;5;124m'\u001b[39m\u001b[38;5;124mCross Validation Method chosen INVALID!\u001b[39m\u001b[38;5;124m'\u001b[39m)\n",
      "File \u001b[0;32m~/opt/anaconda3/lib/python3.9/site-packages/sklearn/model_selection/_validation.py:266\u001b[0m, in \u001b[0;36mcross_validate\u001b[0;34m(estimator, X, y, groups, scoring, cv, n_jobs, verbose, fit_params, pre_dispatch, return_train_score, return_estimator, error_score)\u001b[0m\n\u001b[1;32m    263\u001b[0m \u001b[38;5;66;03m# We clone the estimator to make sure that all the folds are\u001b[39;00m\n\u001b[1;32m    264\u001b[0m \u001b[38;5;66;03m# independent, and that it is pickle-able.\u001b[39;00m\n\u001b[1;32m    265\u001b[0m parallel \u001b[38;5;241m=\u001b[39m Parallel(n_jobs\u001b[38;5;241m=\u001b[39mn_jobs, verbose\u001b[38;5;241m=\u001b[39mverbose, pre_dispatch\u001b[38;5;241m=\u001b[39mpre_dispatch)\n\u001b[0;32m--> 266\u001b[0m results \u001b[38;5;241m=\u001b[39m \u001b[43mparallel\u001b[49m\u001b[43m(\u001b[49m\n\u001b[1;32m    267\u001b[0m \u001b[43m    \u001b[49m\u001b[43mdelayed\u001b[49m\u001b[43m(\u001b[49m\u001b[43m_fit_and_score\u001b[49m\u001b[43m)\u001b[49m\u001b[43m(\u001b[49m\n\u001b[1;32m    268\u001b[0m \u001b[43m        \u001b[49m\u001b[43mclone\u001b[49m\u001b[43m(\u001b[49m\u001b[43mestimator\u001b[49m\u001b[43m)\u001b[49m\u001b[43m,\u001b[49m\n\u001b[1;32m    269\u001b[0m \u001b[43m        \u001b[49m\u001b[43mX\u001b[49m\u001b[43m,\u001b[49m\n\u001b[1;32m    270\u001b[0m \u001b[43m        \u001b[49m\u001b[43my\u001b[49m\u001b[43m,\u001b[49m\n\u001b[1;32m    271\u001b[0m \u001b[43m        \u001b[49m\u001b[43mscorers\u001b[49m\u001b[43m,\u001b[49m\n\u001b[1;32m    272\u001b[0m \u001b[43m        \u001b[49m\u001b[43mtrain\u001b[49m\u001b[43m,\u001b[49m\n\u001b[1;32m    273\u001b[0m \u001b[43m        \u001b[49m\u001b[43mtest\u001b[49m\u001b[43m,\u001b[49m\n\u001b[1;32m    274\u001b[0m \u001b[43m        \u001b[49m\u001b[43mverbose\u001b[49m\u001b[43m,\u001b[49m\n\u001b[1;32m    275\u001b[0m \u001b[43m        \u001b[49m\u001b[38;5;28;43;01mNone\u001b[39;49;00m\u001b[43m,\u001b[49m\n\u001b[1;32m    276\u001b[0m \u001b[43m        \u001b[49m\u001b[43mfit_params\u001b[49m\u001b[43m,\u001b[49m\n\u001b[1;32m    277\u001b[0m \u001b[43m        \u001b[49m\u001b[43mreturn_train_score\u001b[49m\u001b[38;5;241;43m=\u001b[39;49m\u001b[43mreturn_train_score\u001b[49m\u001b[43m,\u001b[49m\n\u001b[1;32m    278\u001b[0m \u001b[43m        \u001b[49m\u001b[43mreturn_times\u001b[49m\u001b[38;5;241;43m=\u001b[39;49m\u001b[38;5;28;43;01mTrue\u001b[39;49;00m\u001b[43m,\u001b[49m\n\u001b[1;32m    279\u001b[0m \u001b[43m        \u001b[49m\u001b[43mreturn_estimator\u001b[49m\u001b[38;5;241;43m=\u001b[39;49m\u001b[43mreturn_estimator\u001b[49m\u001b[43m,\u001b[49m\n\u001b[1;32m    280\u001b[0m \u001b[43m        \u001b[49m\u001b[43merror_score\u001b[49m\u001b[38;5;241;43m=\u001b[39;49m\u001b[43merror_score\u001b[49m\u001b[43m,\u001b[49m\n\u001b[1;32m    281\u001b[0m \u001b[43m    \u001b[49m\u001b[43m)\u001b[49m\n\u001b[1;32m    282\u001b[0m \u001b[43m    \u001b[49m\u001b[38;5;28;43;01mfor\u001b[39;49;00m\u001b[43m \u001b[49m\u001b[43mtrain\u001b[49m\u001b[43m,\u001b[49m\u001b[43m \u001b[49m\u001b[43mtest\u001b[49m\u001b[43m \u001b[49m\u001b[38;5;129;43;01min\u001b[39;49;00m\u001b[43m \u001b[49m\u001b[43mcv\u001b[49m\u001b[38;5;241;43m.\u001b[39;49m\u001b[43msplit\u001b[49m\u001b[43m(\u001b[49m\u001b[43mX\u001b[49m\u001b[43m,\u001b[49m\u001b[43m \u001b[49m\u001b[43my\u001b[49m\u001b[43m,\u001b[49m\u001b[43m \u001b[49m\u001b[43mgroups\u001b[49m\u001b[43m)\u001b[49m\n\u001b[1;32m    283\u001b[0m \u001b[43m\u001b[49m\u001b[43m)\u001b[49m\n\u001b[1;32m    285\u001b[0m _warn_or_raise_about_fit_failures(results, error_score)\n\u001b[1;32m    287\u001b[0m \u001b[38;5;66;03m# For callabe scoring, the return type is only know after calling. If the\u001b[39;00m\n\u001b[1;32m    288\u001b[0m \u001b[38;5;66;03m# return type is a dictionary, the error scores can now be inserted with\u001b[39;00m\n\u001b[1;32m    289\u001b[0m \u001b[38;5;66;03m# the correct key.\u001b[39;00m\n",
      "File \u001b[0;32m~/opt/anaconda3/lib/python3.9/site-packages/sklearn/utils/parallel.py:63\u001b[0m, in \u001b[0;36mParallel.__call__\u001b[0;34m(self, iterable)\u001b[0m\n\u001b[1;32m     58\u001b[0m config \u001b[38;5;241m=\u001b[39m get_config()\n\u001b[1;32m     59\u001b[0m iterable_with_config \u001b[38;5;241m=\u001b[39m (\n\u001b[1;32m     60\u001b[0m     (_with_config(delayed_func, config), args, kwargs)\n\u001b[1;32m     61\u001b[0m     \u001b[38;5;28;01mfor\u001b[39;00m delayed_func, args, kwargs \u001b[38;5;129;01min\u001b[39;00m iterable\n\u001b[1;32m     62\u001b[0m )\n\u001b[0;32m---> 63\u001b[0m \u001b[38;5;28;01mreturn\u001b[39;00m \u001b[38;5;28;43msuper\u001b[39;49m\u001b[43m(\u001b[49m\u001b[43m)\u001b[49m\u001b[38;5;241;43m.\u001b[39;49m\u001b[38;5;21;43m__call__\u001b[39;49m\u001b[43m(\u001b[49m\u001b[43miterable_with_config\u001b[49m\u001b[43m)\u001b[49m\n",
      "File \u001b[0;32m~/opt/anaconda3/lib/python3.9/site-packages/joblib/parallel.py:1085\u001b[0m, in \u001b[0;36mParallel.__call__\u001b[0;34m(self, iterable)\u001b[0m\n\u001b[1;32m   1076\u001b[0m \u001b[38;5;28;01mtry\u001b[39;00m:\n\u001b[1;32m   1077\u001b[0m     \u001b[38;5;66;03m# Only set self._iterating to True if at least a batch\u001b[39;00m\n\u001b[1;32m   1078\u001b[0m     \u001b[38;5;66;03m# was dispatched. In particular this covers the edge\u001b[39;00m\n\u001b[0;32m   (...)\u001b[0m\n\u001b[1;32m   1082\u001b[0m     \u001b[38;5;66;03m# was very quick and its callback already dispatched all the\u001b[39;00m\n\u001b[1;32m   1083\u001b[0m     \u001b[38;5;66;03m# remaining jobs.\u001b[39;00m\n\u001b[1;32m   1084\u001b[0m     \u001b[38;5;28mself\u001b[39m\u001b[38;5;241m.\u001b[39m_iterating \u001b[38;5;241m=\u001b[39m \u001b[38;5;28;01mFalse\u001b[39;00m\n\u001b[0;32m-> 1085\u001b[0m     \u001b[38;5;28;01mif\u001b[39;00m \u001b[38;5;28;43mself\u001b[39;49m\u001b[38;5;241;43m.\u001b[39;49m\u001b[43mdispatch_one_batch\u001b[49m\u001b[43m(\u001b[49m\u001b[43miterator\u001b[49m\u001b[43m)\u001b[49m:\n\u001b[1;32m   1086\u001b[0m         \u001b[38;5;28mself\u001b[39m\u001b[38;5;241m.\u001b[39m_iterating \u001b[38;5;241m=\u001b[39m \u001b[38;5;28mself\u001b[39m\u001b[38;5;241m.\u001b[39m_original_iterator \u001b[38;5;129;01mis\u001b[39;00m \u001b[38;5;129;01mnot\u001b[39;00m \u001b[38;5;28;01mNone\u001b[39;00m\n\u001b[1;32m   1088\u001b[0m     \u001b[38;5;28;01mwhile\u001b[39;00m \u001b[38;5;28mself\u001b[39m\u001b[38;5;241m.\u001b[39mdispatch_one_batch(iterator):\n",
      "File \u001b[0;32m~/opt/anaconda3/lib/python3.9/site-packages/joblib/parallel.py:901\u001b[0m, in \u001b[0;36mParallel.dispatch_one_batch\u001b[0;34m(self, iterator)\u001b[0m\n\u001b[1;32m    899\u001b[0m     \u001b[38;5;28;01mreturn\u001b[39;00m \u001b[38;5;28;01mFalse\u001b[39;00m\n\u001b[1;32m    900\u001b[0m \u001b[38;5;28;01melse\u001b[39;00m:\n\u001b[0;32m--> 901\u001b[0m     \u001b[38;5;28;43mself\u001b[39;49m\u001b[38;5;241;43m.\u001b[39;49m\u001b[43m_dispatch\u001b[49m\u001b[43m(\u001b[49m\u001b[43mtasks\u001b[49m\u001b[43m)\u001b[49m\n\u001b[1;32m    902\u001b[0m     \u001b[38;5;28;01mreturn\u001b[39;00m \u001b[38;5;28;01mTrue\u001b[39;00m\n",
      "File \u001b[0;32m~/opt/anaconda3/lib/python3.9/site-packages/joblib/parallel.py:819\u001b[0m, in \u001b[0;36mParallel._dispatch\u001b[0;34m(self, batch)\u001b[0m\n\u001b[1;32m    817\u001b[0m \u001b[38;5;28;01mwith\u001b[39;00m \u001b[38;5;28mself\u001b[39m\u001b[38;5;241m.\u001b[39m_lock:\n\u001b[1;32m    818\u001b[0m     job_idx \u001b[38;5;241m=\u001b[39m \u001b[38;5;28mlen\u001b[39m(\u001b[38;5;28mself\u001b[39m\u001b[38;5;241m.\u001b[39m_jobs)\n\u001b[0;32m--> 819\u001b[0m     job \u001b[38;5;241m=\u001b[39m \u001b[38;5;28;43mself\u001b[39;49m\u001b[38;5;241;43m.\u001b[39;49m\u001b[43m_backend\u001b[49m\u001b[38;5;241;43m.\u001b[39;49m\u001b[43mapply_async\u001b[49m\u001b[43m(\u001b[49m\u001b[43mbatch\u001b[49m\u001b[43m,\u001b[49m\u001b[43m \u001b[49m\u001b[43mcallback\u001b[49m\u001b[38;5;241;43m=\u001b[39;49m\u001b[43mcb\u001b[49m\u001b[43m)\u001b[49m\n\u001b[1;32m    820\u001b[0m     \u001b[38;5;66;03m# A job can complete so quickly than its callback is\u001b[39;00m\n\u001b[1;32m    821\u001b[0m     \u001b[38;5;66;03m# called before we get here, causing self._jobs to\u001b[39;00m\n\u001b[1;32m    822\u001b[0m     \u001b[38;5;66;03m# grow. To ensure correct results ordering, .insert is\u001b[39;00m\n\u001b[1;32m    823\u001b[0m     \u001b[38;5;66;03m# used (rather than .append) in the following line\u001b[39;00m\n\u001b[1;32m    824\u001b[0m     \u001b[38;5;28mself\u001b[39m\u001b[38;5;241m.\u001b[39m_jobs\u001b[38;5;241m.\u001b[39minsert(job_idx, job)\n",
      "File \u001b[0;32m~/opt/anaconda3/lib/python3.9/site-packages/joblib/_parallel_backends.py:208\u001b[0m, in \u001b[0;36mSequentialBackend.apply_async\u001b[0;34m(self, func, callback)\u001b[0m\n\u001b[1;32m    206\u001b[0m \u001b[38;5;28;01mdef\u001b[39;00m \u001b[38;5;21mapply_async\u001b[39m(\u001b[38;5;28mself\u001b[39m, func, callback\u001b[38;5;241m=\u001b[39m\u001b[38;5;28;01mNone\u001b[39;00m):\n\u001b[1;32m    207\u001b[0m     \u001b[38;5;124;03m\"\"\"Schedule a func to be run\"\"\"\u001b[39;00m\n\u001b[0;32m--> 208\u001b[0m     result \u001b[38;5;241m=\u001b[39m \u001b[43mImmediateResult\u001b[49m\u001b[43m(\u001b[49m\u001b[43mfunc\u001b[49m\u001b[43m)\u001b[49m\n\u001b[1;32m    209\u001b[0m     \u001b[38;5;28;01mif\u001b[39;00m callback:\n\u001b[1;32m    210\u001b[0m         callback(result)\n",
      "File \u001b[0;32m~/opt/anaconda3/lib/python3.9/site-packages/joblib/_parallel_backends.py:597\u001b[0m, in \u001b[0;36mImmediateResult.__init__\u001b[0;34m(self, batch)\u001b[0m\n\u001b[1;32m    594\u001b[0m \u001b[38;5;28;01mdef\u001b[39;00m \u001b[38;5;21m__init__\u001b[39m(\u001b[38;5;28mself\u001b[39m, batch):\n\u001b[1;32m    595\u001b[0m     \u001b[38;5;66;03m# Don't delay the application, to avoid keeping the input\u001b[39;00m\n\u001b[1;32m    596\u001b[0m     \u001b[38;5;66;03m# arguments in memory\u001b[39;00m\n\u001b[0;32m--> 597\u001b[0m     \u001b[38;5;28mself\u001b[39m\u001b[38;5;241m.\u001b[39mresults \u001b[38;5;241m=\u001b[39m \u001b[43mbatch\u001b[49m\u001b[43m(\u001b[49m\u001b[43m)\u001b[49m\n",
      "File \u001b[0;32m~/opt/anaconda3/lib/python3.9/site-packages/joblib/parallel.py:288\u001b[0m, in \u001b[0;36mBatchedCalls.__call__\u001b[0;34m(self)\u001b[0m\n\u001b[1;32m    284\u001b[0m \u001b[38;5;28;01mdef\u001b[39;00m \u001b[38;5;21m__call__\u001b[39m(\u001b[38;5;28mself\u001b[39m):\n\u001b[1;32m    285\u001b[0m     \u001b[38;5;66;03m# Set the default nested backend to self._backend but do not set the\u001b[39;00m\n\u001b[1;32m    286\u001b[0m     \u001b[38;5;66;03m# change the default number of processes to -1\u001b[39;00m\n\u001b[1;32m    287\u001b[0m     \u001b[38;5;28;01mwith\u001b[39;00m parallel_backend(\u001b[38;5;28mself\u001b[39m\u001b[38;5;241m.\u001b[39m_backend, n_jobs\u001b[38;5;241m=\u001b[39m\u001b[38;5;28mself\u001b[39m\u001b[38;5;241m.\u001b[39m_n_jobs):\n\u001b[0;32m--> 288\u001b[0m         \u001b[38;5;28;01mreturn\u001b[39;00m [func(\u001b[38;5;241m*\u001b[39margs, \u001b[38;5;241m*\u001b[39m\u001b[38;5;241m*\u001b[39mkwargs)\n\u001b[1;32m    289\u001b[0m                 \u001b[38;5;28;01mfor\u001b[39;00m func, args, kwargs \u001b[38;5;129;01min\u001b[39;00m \u001b[38;5;28mself\u001b[39m\u001b[38;5;241m.\u001b[39mitems]\n",
      "File \u001b[0;32m~/opt/anaconda3/lib/python3.9/site-packages/joblib/parallel.py:288\u001b[0m, in \u001b[0;36m<listcomp>\u001b[0;34m(.0)\u001b[0m\n\u001b[1;32m    284\u001b[0m \u001b[38;5;28;01mdef\u001b[39;00m \u001b[38;5;21m__call__\u001b[39m(\u001b[38;5;28mself\u001b[39m):\n\u001b[1;32m    285\u001b[0m     \u001b[38;5;66;03m# Set the default nested backend to self._backend but do not set the\u001b[39;00m\n\u001b[1;32m    286\u001b[0m     \u001b[38;5;66;03m# change the default number of processes to -1\u001b[39;00m\n\u001b[1;32m    287\u001b[0m     \u001b[38;5;28;01mwith\u001b[39;00m parallel_backend(\u001b[38;5;28mself\u001b[39m\u001b[38;5;241m.\u001b[39m_backend, n_jobs\u001b[38;5;241m=\u001b[39m\u001b[38;5;28mself\u001b[39m\u001b[38;5;241m.\u001b[39m_n_jobs):\n\u001b[0;32m--> 288\u001b[0m         \u001b[38;5;28;01mreturn\u001b[39;00m [\u001b[43mfunc\u001b[49m\u001b[43m(\u001b[49m\u001b[38;5;241;43m*\u001b[39;49m\u001b[43margs\u001b[49m\u001b[43m,\u001b[49m\u001b[43m \u001b[49m\u001b[38;5;241;43m*\u001b[39;49m\u001b[38;5;241;43m*\u001b[39;49m\u001b[43mkwargs\u001b[49m\u001b[43m)\u001b[49m\n\u001b[1;32m    289\u001b[0m                 \u001b[38;5;28;01mfor\u001b[39;00m func, args, kwargs \u001b[38;5;129;01min\u001b[39;00m \u001b[38;5;28mself\u001b[39m\u001b[38;5;241m.\u001b[39mitems]\n",
      "File \u001b[0;32m~/opt/anaconda3/lib/python3.9/site-packages/sklearn/utils/parallel.py:123\u001b[0m, in \u001b[0;36m_FuncWrapper.__call__\u001b[0;34m(self, *args, **kwargs)\u001b[0m\n\u001b[1;32m    121\u001b[0m     config \u001b[38;5;241m=\u001b[39m {}\n\u001b[1;32m    122\u001b[0m \u001b[38;5;28;01mwith\u001b[39;00m config_context(\u001b[38;5;241m*\u001b[39m\u001b[38;5;241m*\u001b[39mconfig):\n\u001b[0;32m--> 123\u001b[0m     \u001b[38;5;28;01mreturn\u001b[39;00m \u001b[38;5;28;43mself\u001b[39;49m\u001b[38;5;241;43m.\u001b[39;49m\u001b[43mfunction\u001b[49m\u001b[43m(\u001b[49m\u001b[38;5;241;43m*\u001b[39;49m\u001b[43margs\u001b[49m\u001b[43m,\u001b[49m\u001b[43m \u001b[49m\u001b[38;5;241;43m*\u001b[39;49m\u001b[38;5;241;43m*\u001b[39;49m\u001b[43mkwargs\u001b[49m\u001b[43m)\u001b[49m\n",
      "File \u001b[0;32m~/opt/anaconda3/lib/python3.9/site-packages/sklearn/model_selection/_validation.py:678\u001b[0m, in \u001b[0;36m_fit_and_score\u001b[0;34m(estimator, X, y, scorer, train, test, verbose, parameters, fit_params, return_train_score, return_parameters, return_n_test_samples, return_times, return_estimator, split_progress, candidate_progress, error_score)\u001b[0m\n\u001b[1;32m    674\u001b[0m     estimator \u001b[38;5;241m=\u001b[39m estimator\u001b[38;5;241m.\u001b[39mset_params(\u001b[38;5;241m*\u001b[39m\u001b[38;5;241m*\u001b[39mcloned_parameters)\n\u001b[1;32m    676\u001b[0m start_time \u001b[38;5;241m=\u001b[39m time\u001b[38;5;241m.\u001b[39mtime()\n\u001b[0;32m--> 678\u001b[0m X_train, y_train \u001b[38;5;241m=\u001b[39m \u001b[43m_safe_split\u001b[49m\u001b[43m(\u001b[49m\u001b[43mestimator\u001b[49m\u001b[43m,\u001b[49m\u001b[43m \u001b[49m\u001b[43mX\u001b[49m\u001b[43m,\u001b[49m\u001b[43m \u001b[49m\u001b[43my\u001b[49m\u001b[43m,\u001b[49m\u001b[43m \u001b[49m\u001b[43mtrain\u001b[49m\u001b[43m)\u001b[49m\n\u001b[1;32m    679\u001b[0m X_test, y_test \u001b[38;5;241m=\u001b[39m _safe_split(estimator, X, y, test, train)\n\u001b[1;32m    681\u001b[0m result \u001b[38;5;241m=\u001b[39m {}\n",
      "File \u001b[0;32m~/opt/anaconda3/lib/python3.9/site-packages/sklearn/utils/metaestimators.py:233\u001b[0m, in \u001b[0;36m_safe_split\u001b[0;34m(estimator, X, y, indices, train_indices)\u001b[0m\n\u001b[1;32m    231\u001b[0m         X_subset \u001b[38;5;241m=\u001b[39m X[np\u001b[38;5;241m.\u001b[39mix_(indices, train_indices)]\n\u001b[1;32m    232\u001b[0m \u001b[38;5;28;01melse\u001b[39;00m:\n\u001b[0;32m--> 233\u001b[0m     X_subset \u001b[38;5;241m=\u001b[39m \u001b[43m_safe_indexing\u001b[49m\u001b[43m(\u001b[49m\u001b[43mX\u001b[49m\u001b[43m,\u001b[49m\u001b[43m \u001b[49m\u001b[43mindices\u001b[49m\u001b[43m)\u001b[49m\n\u001b[1;32m    235\u001b[0m \u001b[38;5;28;01mif\u001b[39;00m y \u001b[38;5;129;01mis\u001b[39;00m \u001b[38;5;129;01mnot\u001b[39;00m \u001b[38;5;28;01mNone\u001b[39;00m:\n\u001b[1;32m    236\u001b[0m     y_subset \u001b[38;5;241m=\u001b[39m _safe_indexing(y, indices)\n",
      "File \u001b[0;32m~/opt/anaconda3/lib/python3.9/site-packages/sklearn/utils/__init__.py:356\u001b[0m, in \u001b[0;36m_safe_indexing\u001b[0;34m(X, indices, axis)\u001b[0m\n\u001b[1;32m    354\u001b[0m     \u001b[38;5;28;01mreturn\u001b[39;00m _pandas_indexing(X, indices, indices_dtype, axis\u001b[38;5;241m=\u001b[39maxis)\n\u001b[1;32m    355\u001b[0m \u001b[38;5;28;01melif\u001b[39;00m \u001b[38;5;28mhasattr\u001b[39m(X, \u001b[38;5;124m\"\u001b[39m\u001b[38;5;124mshape\u001b[39m\u001b[38;5;124m\"\u001b[39m):\n\u001b[0;32m--> 356\u001b[0m     \u001b[38;5;28;01mreturn\u001b[39;00m \u001b[43m_array_indexing\u001b[49m\u001b[43m(\u001b[49m\u001b[43mX\u001b[49m\u001b[43m,\u001b[49m\u001b[43m \u001b[49m\u001b[43mindices\u001b[49m\u001b[43m,\u001b[49m\u001b[43m \u001b[49m\u001b[43mindices_dtype\u001b[49m\u001b[43m,\u001b[49m\u001b[43m \u001b[49m\u001b[43maxis\u001b[49m\u001b[38;5;241;43m=\u001b[39;49m\u001b[43maxis\u001b[49m\u001b[43m)\u001b[49m\n\u001b[1;32m    357\u001b[0m \u001b[38;5;28;01melse\u001b[39;00m:\n\u001b[1;32m    358\u001b[0m     \u001b[38;5;28;01mreturn\u001b[39;00m _list_indexing(X, indices, indices_dtype)\n",
      "File \u001b[0;32m~/opt/anaconda3/lib/python3.9/site-packages/sklearn/utils/__init__.py:185\u001b[0m, in \u001b[0;36m_array_indexing\u001b[0;34m(array, key, key_dtype, axis)\u001b[0m\n\u001b[1;32m    183\u001b[0m \u001b[38;5;28;01mif\u001b[39;00m \u001b[38;5;28misinstance\u001b[39m(key, \u001b[38;5;28mtuple\u001b[39m):\n\u001b[1;32m    184\u001b[0m     key \u001b[38;5;241m=\u001b[39m \u001b[38;5;28mlist\u001b[39m(key)\n\u001b[0;32m--> 185\u001b[0m \u001b[38;5;28;01mreturn\u001b[39;00m \u001b[43marray\u001b[49m\u001b[43m[\u001b[49m\u001b[43mkey\u001b[49m\u001b[43m]\u001b[49m \u001b[38;5;28;01mif\u001b[39;00m axis \u001b[38;5;241m==\u001b[39m \u001b[38;5;241m0\u001b[39m \u001b[38;5;28;01melse\u001b[39;00m array[:, key]\n",
      "\u001b[0;31mKeyboardInterrupt\u001b[0m: "
     ]
    }
   ],
   "source": [
    "#requires >10 hrs\n",
    "%%time\n",
    "evaluate(VBMFeatureExtractor(),\n",
    "         LogisticRegressionCV(Cs = 5, cv=5, penalty = 'elasticnet', solver = 'saga', random_state=42, \n",
    "                              l1_ratios = [0.3,0.8], max_iter=1000),\n",
    "         X_train, y_train,X_test, y_test, 'Group Stratified')"
   ]
  },
  {
   "cell_type": "markdown",
   "id": "bdfe079c",
   "metadata": {},
   "source": [
    "# Tree-based Ensemble Model - XGBoost"
   ]
  },
  {
   "cell_type": "code",
   "execution_count": 378,
   "id": "a6dc3c11",
   "metadata": {},
   "outputs": [
    {
     "name": "stderr",
     "output_type": "stream",
     "text": [
      "[Parallel(n_jobs=5)]: Using backend LokyBackend with 5 concurrent workers.\n",
      "[Parallel(n_jobs=5)]: Done   2 out of   5 | elapsed:   19.0s remaining:   28.5s\n",
      "[Parallel(n_jobs=5)]: Done   5 out of   5 | elapsed:   19.3s finished\n"
     ]
    },
    {
     "name": "stdout",
     "output_type": "stream",
     "text": [
      "# Common Cross Validation Results\n",
      "bACC=0.74 ROC-AUC=0.83\n",
      "# Test\n",
      "bACC=0.76 ROC-AUC=0.83\n",
      "CPU times: user 9.23 s, sys: 1.73 s, total: 11 s\n",
      "Wall time: 21.4 s\n"
     ]
    }
   ],
   "source": [
    "%%time\n",
    "evaluate(ROIsFeatureExtractor(),\n",
    "         XGBClassifier(learning_rate = 0.1, n_estimators=500, gamma = 0.01,colsample_bytree=0.2, random_state=42),\n",
    "         X_train, y_train,X_test, y_test,'Common')"
   ]
  },
  {
   "cell_type": "code",
   "execution_count": 379,
   "id": "0537db69",
   "metadata": {},
   "outputs": [
    {
     "name": "stdout",
     "output_type": "stream",
     "text": [
      "# Group Stratified Cross Validation Results\n",
      "bACC=0.71 ROC-AUC=0.81\n",
      "# Test\n",
      "bACC=0.76 ROC-AUC=0.83\n",
      "CPU times: user 16.5 s, sys: 2.88 s, total: 19.4 s\n",
      "Wall time: 9.15 s\n"
     ]
    }
   ],
   "source": [
    "%%time\n",
    "evaluate(ROIsFeatureExtractor(),\n",
    "         XGBClassifier(learning_rate = 0.1, n_estimators=500, gamma = 0.01,colsample_bytree=0.2, random_state=42),\n",
    "         X_train, y_train,X_test, y_test,'Group Stratified')"
   ]
  },
  {
   "cell_type": "code",
   "execution_count": 384,
   "id": "9bb0af5f",
   "metadata": {},
   "outputs": [
    {
     "name": "stderr",
     "output_type": "stream",
     "text": [
      "[Parallel(n_jobs=5)]: Using backend LokyBackend with 5 concurrent workers.\n",
      "[Parallel(n_jobs=5)]: Done   2 out of   5 | elapsed: 19.3min remaining: 28.9min\n",
      "[Parallel(n_jobs=5)]: Done   5 out of   5 | elapsed: 19.3min finished\n"
     ]
    },
    {
     "name": "stdout",
     "output_type": "stream",
     "text": [
      "# Common Cross Validation Results\n",
      "bACC=0.74 ROC-AUC=0.84\n",
      "# Test\n",
      "bACC=0.76 ROC-AUC=0.84\n",
      "CPU times: user 37min 47s, sys: 4min 27s, total: 42min 15s\n",
      "Wall time: 25min 29s\n"
     ]
    }
   ],
   "source": [
    "%%time\n",
    "evaluate(VBMFeatureExtractor(),\n",
    "         XGBClassifier(learning_rate = 0.1, n_estimators=500, gamma = 0.01,colsample_bytree=0.2, random_state=42),\n",
    "         X_train, y_train,X_test, y_test,'Common')"
   ]
  },
  {
   "cell_type": "code",
   "execution_count": 385,
   "id": "9c0ca6cb",
   "metadata": {},
   "outputs": [
    {
     "name": "stdout",
     "output_type": "stream",
     "text": [
      "# Group Stratified Cross Validation Results\n",
      "bACC=0.66 ROC-AUC=0.77\n",
      "# Test\n",
      "bACC=0.76 ROC-AUC=0.84\n",
      "CPU times: user 1h 18min 43s, sys: 8min 14s, total: 1h 26min 57s\n",
      "Wall time: 12min 12s\n"
     ]
    }
   ],
   "source": [
    "%%time\n",
    "evaluate(VBMFeatureExtractor(),\n",
    "         XGBClassifier(learning_rate = 0.1, n_estimators=500, gamma = 0.01,colsample_bytree=0.2, random_state=42),\n",
    "         X_train, y_train,X_test, y_test,'Group Stratified')"
   ]
  },
  {
   "cell_type": "markdown",
   "id": "3e56f0a3",
   "metadata": {},
   "source": [
    "# Non-linear Model - SVC with RBF Kernel"
   ]
  },
  {
   "cell_type": "code",
   "execution_count": 386,
   "id": "1b067806",
   "metadata": {},
   "outputs": [
    {
     "name": "stderr",
     "output_type": "stream",
     "text": [
      "[Parallel(n_jobs=5)]: Using backend LokyBackend with 5 concurrent workers.\n",
      "[Parallel(n_jobs=5)]: Done   2 out of   5 | elapsed:   14.2s remaining:   21.3s\n",
      "[Parallel(n_jobs=5)]: Done   5 out of   5 | elapsed:   14.5s finished\n"
     ]
    },
    {
     "name": "stdout",
     "output_type": "stream",
     "text": [
      "# Common Cross Validation Results\n",
      "bACC=0.69 ROC-AUC=0.77\n",
      "# Test\n",
      "bACC=0.72 ROC-AUC=0.76\n",
      "CPU times: user 469 ms, sys: 682 ms, total: 1.15 s\n",
      "Wall time: 14.9 s\n"
     ]
    }
   ],
   "source": [
    "%%time\n",
    "evaluate(ROIsFeatureExtractor(),\n",
    "         SVC(kernel='rbf', C=1.0, gamma='auto',probability=True),\n",
    "         X_train, y_train,X_test, y_test,'Common')"
   ]
  },
  {
   "cell_type": "code",
   "execution_count": 235,
   "id": "241b8d16",
   "metadata": {},
   "outputs": [
    {
     "name": "stdout",
     "output_type": "stream",
     "text": [
      "# Group Stratified Cross Validation Results\n",
      "bACC=0.66 ROC-AUC=0.74\n",
      "# Test\n",
      "bACC=0.72 ROC-AUC=0.76\n",
      "CPU times: user 4.93 s, sys: 1.32 s, total: 6.25 s\n",
      "Wall time: 7.45 s\n"
     ]
    }
   ],
   "source": [
    "%%time\n",
    "evaluate(ROIsFeatureExtractor(),\n",
    "         SVC(kernel='rbf', C=1.0, gamma='auto',probability=True),\n",
    "         X_train, y_train,X_test, y_test,'Group Stratified')"
   ]
  },
  {
   "cell_type": "code",
   "execution_count": 236,
   "id": "8bce9115",
   "metadata": {},
   "outputs": [
    {
     "name": "stderr",
     "output_type": "stream",
     "text": [
      "[Parallel(n_jobs=5)]: Using backend LokyBackend with 5 concurrent workers.\n",
      "[Parallel(n_jobs=5)]: Done   2 out of   5 | elapsed: 30.8min remaining: 46.1min\n",
      "[Parallel(n_jobs=5)]: Done   5 out of   5 | elapsed: 30.9min finished\n"
     ]
    },
    {
     "name": "stdout",
     "output_type": "stream",
     "text": [
      "# Common Cross Validation Results\n",
      "bACC=0.56 ROC-AUC=0.70\n",
      "# Test\n",
      "bACC=0.53 ROC-AUC=0.63\n",
      "CPU times: user 16min 23s, sys: 1min 25s, total: 17min 48s\n",
      "Wall time: 35min 53s\n"
     ]
    }
   ],
   "source": [
    "%%time\n",
    "evaluate(VBMFeatureExtractor(),\n",
    "         SVC(kernel='rbf', C=1.0, gamma='auto',probability=True),\n",
    "         X_train, y_train,X_test, y_test,'Common')"
   ]
  },
  {
   "cell_type": "code",
   "execution_count": 237,
   "id": "246c4808",
   "metadata": {},
   "outputs": [
    {
     "name": "stdout",
     "output_type": "stream",
     "text": [
      "# Group Stratified Cross Validation Results\n",
      "bACC=0.51 ROC-AUC=0.75\n",
      "# Test\n",
      "bACC=0.53 ROC-AUC=0.63\n",
      "CPU times: user 25min 44s, sys: 1min 59s, total: 27min 44s\n",
      "Wall time: 7min 9s\n"
     ]
    }
   ],
   "source": [
    "%%time\n",
    "evaluate(VBMFeatureExtractor(),\n",
    "         SVC(kernel='rbf', C=1.0, gamma='auto',probability=True),\n",
    "         X_train, y_train,X_test, y_test,'Group Stratified')"
   ]
  },
  {
   "cell_type": "markdown",
   "id": "16299c18",
   "metadata": {},
   "source": [
    "# Hyperparameter Testing"
   ]
  },
  {
   "cell_type": "markdown",
   "id": "57a1fd5a",
   "metadata": {},
   "source": [
    "### Logistic Regression Hyperparameter Testing"
   ]
  },
  {
   "cell_type": "code",
   "execution_count": 361,
   "id": "3a61491b",
   "metadata": {},
   "outputs": [
    {
     "name": "stdout",
     "output_type": "stream",
     "text": [
      "# Group Stratified Cross Validation Results\n",
      "bACC=0.68 ROC-AUC=0.75\n",
      "# Test\n",
      "bACC=0.70 ROC-AUC=0.82\n",
      "CPU times: user 1min 18s, sys: 10.7 s, total: 1min 28s\n",
      "Wall time: 27.3 s\n"
     ]
    }
   ],
   "source": [
    "%%time\n",
    "evaluate(ROIsFeatureExtractor(),\n",
    "         LogisticRegressionCV(cv=5, random_state=42, max_iter=1000),\n",
    "         X_train, y_train,X_test, y_test, 'Group Stratified')"
   ]
  },
  {
   "cell_type": "markdown",
   "id": "21fa7cf6",
   "metadata": {},
   "source": [
    "#### Experimenting other penalty methods rather than default L2 penalty\n",
    "#### c value"
   ]
  },
  {
   "cell_type": "code",
   "execution_count": 365,
   "id": "d44c8c2c",
   "metadata": {},
   "outputs": [
    {
     "name": "stdout",
     "output_type": "stream",
     "text": [
      "# Group Stratified Cross Validation Results\n",
      "bACC=0.54 ROC-AUC=0.73\n",
      "# Test\n",
      "bACC=0.58 ROC-AUC=0.64\n",
      "CPU times: user 6.15 s, sys: 1.28 s, total: 7.42 s\n",
      "Wall time: 6.12 s\n"
     ]
    }
   ],
   "source": [
    "%%time\n",
    "evaluate(ROIsFeatureExtractor(),\n",
    "         LogisticRegressionCV(Cs = 1, cv=5, random_state=42, max_iter=1000),\n",
    "         X_train, y_train,X_test, y_test, 'Group Stratified')"
   ]
  },
  {
   "cell_type": "code",
   "execution_count": 366,
   "id": "fe36981f",
   "metadata": {},
   "outputs": [
    {
     "name": "stdout",
     "output_type": "stream",
     "text": [
      "# Group Stratified Cross Validation Results\n",
      "bACC=0.66 ROC-AUC=0.74\n",
      "# Test\n",
      "bACC=0.71 ROC-AUC=0.81\n",
      "CPU times: user 1min 48s, sys: 13.6 s, total: 2min 2s\n",
      "Wall time: 35.2 s\n"
     ]
    }
   ],
   "source": [
    "%%time\n",
    "evaluate(ROIsFeatureExtractor(),\n",
    "         LogisticRegressionCV(Cs = 15, cv=5, random_state=42, max_iter=1000),\n",
    "         X_train, y_train,X_test, y_test, 'Group Stratified')"
   ]
  },
  {
   "cell_type": "code",
   "execution_count": 367,
   "id": "ccd03671",
   "metadata": {},
   "outputs": [
    {
     "name": "stdout",
     "output_type": "stream",
     "text": [
      "# Group Stratified Cross Validation Results\n",
      "bACC=0.68 ROC-AUC=0.76\n",
      "# Test\n",
      "bACC=0.70 ROC-AUC=0.79\n",
      "CPU times: user 3min 31s, sys: 33.6 s, total: 4min 5s\n",
      "Wall time: 1min 11s\n"
     ]
    }
   ],
   "source": [
    "%%time\n",
    "evaluate(ROIsFeatureExtractor(),\n",
    "         LogisticRegressionCV(Cs = 30, cv=5, random_state=42, max_iter=1000),\n",
    "         X_train, y_train,X_test, y_test, 'Group Stratified')"
   ]
  },
  {
   "cell_type": "code",
   "execution_count": 261,
   "id": "ddb55262",
   "metadata": {},
   "outputs": [
    {
     "name": "stdout",
     "output_type": "stream",
     "text": [
      "# Group Stratified Cross Validation Results\n",
      "bACC=0.65 ROC-AUC=0.71\n",
      "# Test\n",
      "bACC=0.73 ROC-AUC=0.80\n",
      "CPU times: user 1min 31s, sys: 4.98 s, total: 1min 36s\n",
      "Wall time: 1min 37s\n"
     ]
    }
   ],
   "source": [
    "%%time\n",
    "evaluate(ROIsFeatureExtractor(),\n",
    "         LogisticRegressionCV(Cs = 4, cv=5, penalty = 'elasticnet', solver = 'saga', random_state=42, \n",
    "                              l1_ratios = [0.4,0.7], max_iter=1000),\n",
    "         X_train, y_train,X_test, y_test, 'Group Stratified')"
   ]
  },
  {
   "cell_type": "code",
   "execution_count": 262,
   "id": "69f5468e",
   "metadata": {},
   "outputs": [
    {
     "name": "stdout",
     "output_type": "stream",
     "text": [
      "# Group Stratified Cross Validation Results\n",
      "bACC=0.65 ROC-AUC=0.71\n",
      "# Test\n",
      "bACC=0.73 ROC-AUC=0.80\n",
      "CPU times: user 1min 29s, sys: 1.97 s, total: 1min 31s\n",
      "Wall time: 1min 24s\n"
     ]
    }
   ],
   "source": [
    "%%time\n",
    "evaluate(ROIsFeatureExtractor(),\n",
    "         LogisticRegressionCV(Cs = 4, cv=5, penalty = 'elasticnet', solver = 'saga', random_state=42, \n",
    "                              l1_ratios = [0.7,0.3], max_iter=1000),\n",
    "         X_train, y_train,X_test, y_test, 'Group Stratified')"
   ]
  },
  {
   "cell_type": "code",
   "execution_count": 264,
   "id": "349bb16d",
   "metadata": {},
   "outputs": [
    {
     "name": "stdout",
     "output_type": "stream",
     "text": [
      "# Group Stratified Cross Validation Results\n",
      "bACC=0.68 ROC-AUC=0.75\n",
      "# Test\n",
      "bACC=0.72 ROC-AUC=0.80\n",
      "CPU times: user 1min 33s, sys: 2.36 s, total: 1min 35s\n",
      "Wall time: 1min 28s\n"
     ]
    }
   ],
   "source": [
    "%%time\n",
    "evaluate(ROIsFeatureExtractor(),\n",
    "         LogisticRegressionCV(Cs = 4, cv=5, penalty = 'elasticnet', solver = 'saga', random_state=42, \n",
    "                              l1_ratios = [0.2,0.8], max_iter=1000),\n",
    "         X_train, y_train,X_test, y_test, 'Group Stratified')"
   ]
  },
  {
   "cell_type": "code",
   "execution_count": 265,
   "id": "e6654ae5",
   "metadata": {},
   "outputs": [
    {
     "name": "stdout",
     "output_type": "stream",
     "text": [
      "# Group Stratified Cross Validation Results\n",
      "bACC=0.66 ROC-AUC=0.72\n",
      "# Test\n",
      "bACC=0.74 ROC-AUC=0.80\n",
      "CPU times: user 3min 26s, sys: 2.02 s, total: 3min 28s\n",
      "Wall time: 3min 21s\n"
     ]
    }
   ],
   "source": [
    "%%time\n",
    "evaluate(ROIsFeatureExtractor(),\n",
    "         LogisticRegressionCV(Cs = 10, cv=5, penalty = 'elasticnet', solver = 'saga', random_state=42, \n",
    "                              l1_ratios = [0.3,0.8], max_iter=1000),\n",
    "         X_train, y_train,X_test, y_test, 'Group Stratified')"
   ]
  },
  {
   "cell_type": "code",
   "execution_count": 268,
   "id": "5d6051d7",
   "metadata": {},
   "outputs": [
    {
     "name": "stdout",
     "output_type": "stream",
     "text": [
      "# Group Stratified Cross Validation Results\n",
      "bACC=0.70 ROC-AUC=0.76\n",
      "# Test\n",
      "bACC=0.74 ROC-AUC=0.80\n",
      "CPU times: user 6min 3s, sys: 2.66 s, total: 6min 5s\n",
      "Wall time: 5min 58s\n"
     ]
    }
   ],
   "source": [
    "%%time\n",
    "evaluate(ROIsFeatureExtractor(),\n",
    "         LogisticRegressionCV(Cs = 30, cv=5, penalty = 'elasticnet', solver = 'saga', random_state=42, \n",
    "                              l1_ratios = [0.3,0.8], max_iter=1000),\n",
    "         X_train, y_train,X_test, y_test, 'Group Stratified')"
   ]
  },
  {
   "cell_type": "code",
   "execution_count": 364,
   "id": "2fd5dc24",
   "metadata": {},
   "outputs": [
    {
     "name": "stdout",
     "output_type": "stream",
     "text": [
      "# Group Stratified Cross Validation Results\n",
      "bACC=0.68 ROC-AUC=0.75\n",
      "# Test\n",
      "bACC=0.74 ROC-AUC=0.80\n",
      "CPU times: user 4min 57s, sys: 3.86 s, total: 5min 1s\n",
      "Wall time: 4min 57s\n"
     ]
    }
   ],
   "source": [
    "%%time\n",
    "evaluate(ROIsFeatureExtractor(),\n",
    "         LogisticRegressionCV(Cs = 30, cv=5, penalty = 'elasticnet', solver = 'saga', random_state=42, \n",
    "                              l1_ratios = [0.3,0.8], max_iter=500),\n",
    "         X_train, y_train,X_test, y_test, 'Group Stratified')"
   ]
  },
  {
   "cell_type": "code",
   "execution_count": 368,
   "id": "d1d580a2",
   "metadata": {},
   "outputs": [
    {
     "name": "stdout",
     "output_type": "stream",
     "text": [
      "# Group Stratified Cross Validation Results\n",
      "bACC=0.70 ROC-AUC=0.76\n",
      "# Test\n",
      "bACC=0.74 ROC-AUC=0.80\n",
      "CPU times: user 6min 6s, sys: 3.06 s, total: 6min 9s\n",
      "Wall time: 6min 4s\n"
     ]
    }
   ],
   "source": [
    "%%time\n",
    "evaluate(ROIsFeatureExtractor(),\n",
    "         LogisticRegressionCV(Cs = 30, cv=5, penalty = 'elasticnet', solver = 'saga', random_state=42, \n",
    "                              l1_ratios = [0.3,0.8], max_iter=1000),\n",
    "         X_train, y_train,X_test, y_test, 'Group Stratified')"
   ]
  },
  {
   "cell_type": "code",
   "execution_count": 369,
   "id": "bddf7a21",
   "metadata": {},
   "outputs": [
    {
     "name": "stdout",
     "output_type": "stream",
     "text": [
      "# Group Stratified Cross Validation Results\n",
      "bACC=0.69 ROC-AUC=0.75\n",
      "# Test\n",
      "bACC=0.73 ROC-AUC=0.79\n",
      "CPU times: user 4min 24s, sys: 2.32 s, total: 4min 27s\n",
      "Wall time: 4min 19s\n"
     ]
    }
   ],
   "source": [
    "%%time\n",
    "evaluate(ROIsFeatureExtractor(),\n",
    "         LogisticRegressionCV(Cs = 15, cv=5, penalty = 'elasticnet', solver = 'saga', random_state=42, \n",
    "                              l1_ratios = [0.3,0.8], max_iter=1000),\n",
    "         X_train, y_train,X_test, y_test, 'Group Stratified')"
   ]
  },
  {
   "cell_type": "code",
   "execution_count": 370,
   "id": "43f03ac2",
   "metadata": {},
   "outputs": [
    {
     "name": "stdout",
     "output_type": "stream",
     "text": [
      "# Group Stratified Cross Validation Results\n",
      "bACC=0.66 ROC-AUC=0.72\n",
      "# Test\n",
      "bACC=0.74 ROC-AUC=0.80\n",
      "CPU times: user 3min 33s, sys: 2.26 s, total: 3min 35s\n",
      "Wall time: 3min 28s\n"
     ]
    }
   ],
   "source": [
    "%%time\n",
    "evaluate(ROIsFeatureExtractor(),\n",
    "         LogisticRegressionCV(Cs = 10, cv=5, penalty = 'elasticnet', solver = 'saga', random_state=42, \n",
    "                              l1_ratios = [0.3,0.8], max_iter=1000),\n",
    "         X_train, y_train,X_test, y_test, 'Group Stratified')"
   ]
  },
  {
   "cell_type": "code",
   "execution_count": 371,
   "id": "c5711f50",
   "metadata": {},
   "outputs": [
    {
     "name": "stdout",
     "output_type": "stream",
     "text": [
      "# Group Stratified Cross Validation Results\n",
      "bACC=0.66 ROC-AUC=0.72\n",
      "# Test\n",
      "bACC=0.72 ROC-AUC=0.82\n",
      "CPU times: user 1min 52s, sys: 2.32 s, total: 1min 55s\n",
      "Wall time: 1min 48s\n"
     ]
    }
   ],
   "source": [
    "%%time\n",
    "evaluate(ROIsFeatureExtractor(),\n",
    "         LogisticRegressionCV(Cs = 5, cv=5, penalty = 'elasticnet', solver = 'saga', random_state=42, \n",
    "                              l1_ratios = [0.3,0.8], max_iter=1000),\n",
    "         X_train, y_train,X_test, y_test, 'Group Stratified')"
   ]
  },
  {
   "cell_type": "markdown",
   "id": "0efd47c5",
   "metadata": {},
   "source": [
    "### XGBoost Hyperparameter Testing"
   ]
  },
  {
   "cell_type": "markdown",
   "id": "c625c1b8",
   "metadata": {},
   "source": [
    "#### Learning Rate \n"
   ]
  },
  {
   "cell_type": "code",
   "execution_count": 281,
   "id": "bf5db0ce",
   "metadata": {},
   "outputs": [
    {
     "name": "stdout",
     "output_type": "stream",
     "text": [
      "# Group Stratified Cross Validation Results\n",
      "bACC=0.67 ROC-AUC=0.71\n",
      "# Test\n",
      "bACC=0.64 ROC-AUC=0.73\n",
      "CPU times: user 16.2 s, sys: 1.43 s, total: 17.6 s\n",
      "Wall time: 7.76 s\n"
     ]
    }
   ],
   "source": [
    "%%time\n",
    "evaluate(ROIsFeatureExtractor(),\n",
    "         XGBClassifier(learning_rate = 0.001, random_state=42),\n",
    "         X_train, y_train,X_test, y_test, 'Group Stratified')"
   ]
  },
  {
   "cell_type": "code",
   "execution_count": 282,
   "id": "79867228",
   "metadata": {},
   "outputs": [
    {
     "name": "stdout",
     "output_type": "stream",
     "text": [
      "# Group Stratified Cross Validation Results\n",
      "bACC=0.64 ROC-AUC=0.67\n",
      "# Test\n",
      "bACC=0.60 ROC-AUC=0.62\n",
      "CPU times: user 15.8 s, sys: 1.44 s, total: 17.2 s\n",
      "Wall time: 7.57 s\n"
     ]
    }
   ],
   "source": [
    "%%time\n",
    "evaluate(ROIsFeatureExtractor(),\n",
    "         XGBClassifier(learning_rate = 0.000001, random_state=42),\n",
    "         X_train, y_train,X_test, y_test, 'Group Stratified')"
   ]
  },
  {
   "cell_type": "code",
   "execution_count": 287,
   "id": "0234f522",
   "metadata": {},
   "outputs": [
    {
     "name": "stdout",
     "output_type": "stream",
     "text": [
      "# Group Stratified Cross Validation Results\n",
      "bACC=0.73 ROC-AUC=0.80\n",
      "# Test\n",
      "bACC=0.73 ROC-AUC=0.82\n",
      "CPU times: user 13.7 s, sys: 1.34 s, total: 15.1 s\n",
      "Wall time: 7.28 s\n"
     ]
    }
   ],
   "source": [
    "%%time\n",
    "evaluate(ROIsFeatureExtractor(),\n",
    "         XGBClassifier(learning_rate = 0.1, random_state=42),\n",
    "         X_train, y_train,X_test, y_test, 'Group Stratified')"
   ]
  },
  {
   "cell_type": "code",
   "execution_count": 288,
   "id": "857319e4",
   "metadata": {},
   "outputs": [
    {
     "name": "stdout",
     "output_type": "stream",
     "text": [
      "# Group Stratified Cross Validation Results\n",
      "bACC=0.74 ROC-AUC=0.81\n",
      "# Test\n",
      "bACC=0.73 ROC-AUC=0.81\n",
      "CPU times: user 12.2 s, sys: 1.38 s, total: 13.5 s\n",
      "Wall time: 7.01 s\n"
     ]
    }
   ],
   "source": [
    "%%time\n",
    "evaluate(ROIsFeatureExtractor(),\n",
    "         XGBClassifier(learning_rate = 0.2, random_state=42),\n",
    "         X_train, y_train,X_test, y_test, 'Group Stratified')"
   ]
  },
  {
   "cell_type": "code",
   "execution_count": 286,
   "id": "3d02e359",
   "metadata": {},
   "outputs": [
    {
     "name": "stdout",
     "output_type": "stream",
     "text": [
      "# Group Stratified Cross Validation Results\n",
      "bACC=0.73 ROC-AUC=0.81\n",
      "# Test\n",
      "bACC=0.73 ROC-AUC=0.81\n",
      "CPU times: user 11 s, sys: 1.22 s, total: 12.2 s\n",
      "Wall time: 6.33 s\n"
     ]
    }
   ],
   "source": [
    "%%time\n",
    "evaluate(ROIsFeatureExtractor(),\n",
    "         XGBClassifier(learning_rate = 0.3, random_state=42),\n",
    "         X_train, y_train,X_test, y_test, 'Group Stratified')"
   ]
  },
  {
   "cell_type": "code",
   "execution_count": 283,
   "id": "061b7f0c",
   "metadata": {},
   "outputs": [
    {
     "name": "stdout",
     "output_type": "stream",
     "text": [
      "# Group Stratified Cross Validation Results\n",
      "bACC=0.72 ROC-AUC=0.79\n",
      "# Test\n",
      "bACC=0.72 ROC-AUC=0.81\n",
      "CPU times: user 10.2 s, sys: 1.51 s, total: 11.7 s\n",
      "Wall time: 7.03 s\n"
     ]
    }
   ],
   "source": [
    "%%time\n",
    "evaluate(ROIsFeatureExtractor(),\n",
    "         XGBClassifier(learning_rate = 0.5, random_state=42),\n",
    "         X_train, y_train,X_test, y_test, 'Group Stratified')"
   ]
  },
  {
   "cell_type": "code",
   "execution_count": 285,
   "id": "8861b7e7",
   "metadata": {},
   "outputs": [
    {
     "name": "stdout",
     "output_type": "stream",
     "text": [
      "# Group Stratified Cross Validation Results\n",
      "bACC=0.74 ROC-AUC=0.80\n",
      "# Test\n",
      "bACC=0.73 ROC-AUC=0.80\n",
      "CPU times: user 9.91 s, sys: 1.44 s, total: 11.4 s\n",
      "Wall time: 6.74 s\n"
     ]
    }
   ],
   "source": [
    "%%time\n",
    "evaluate(ROIsFeatureExtractor(),\n",
    "         XGBClassifier(learning_rate = 0.6, random_state=42),\n",
    "         X_train, y_train,X_test, y_test, 'Group Stratified')"
   ]
  },
  {
   "cell_type": "code",
   "execution_count": 284,
   "id": "6b8bb0db",
   "metadata": {},
   "outputs": [
    {
     "name": "stdout",
     "output_type": "stream",
     "text": [
      "# Group Stratified Cross Validation Results\n",
      "bACC=0.74 ROC-AUC=0.81\n",
      "# Test\n",
      "bACC=0.73 ROC-AUC=0.76\n",
      "CPU times: user 9.84 s, sys: 1.29 s, total: 11.1 s\n",
      "Wall time: 6.44 s\n"
     ]
    }
   ],
   "source": [
    "%%time\n",
    "evaluate(ROIsFeatureExtractor(),\n",
    "         XGBClassifier(learning_rate = 0.8, random_state=42),\n",
    "         X_train, y_train,X_test, y_test, 'Group Stratified')"
   ]
  },
  {
   "cell_type": "markdown",
   "id": "48edb776",
   "metadata": {},
   "source": [
    "#### n_estimators"
   ]
  },
  {
   "cell_type": "code",
   "execution_count": 289,
   "id": "71765b38",
   "metadata": {},
   "outputs": [
    {
     "name": "stdout",
     "output_type": "stream",
     "text": [
      "# Group Stratified Cross Validation Results\n",
      "bACC=0.73 ROC-AUC=0.80\n",
      "# Test\n",
      "bACC=0.73 ROC-AUC=0.82\n",
      "CPU times: user 13.6 s, sys: 1.31 s, total: 14.9 s\n",
      "Wall time: 7.28 s\n"
     ]
    }
   ],
   "source": [
    "%%time\n",
    "evaluate(ROIsFeatureExtractor(),\n",
    "         XGBClassifier(learning_rate = 0.1, n_estimators=100, random_state=42),\n",
    "         X_train, y_train,X_test, y_test, 'Group Stratified')"
   ]
  },
  {
   "cell_type": "code",
   "execution_count": 290,
   "id": "194f0236",
   "metadata": {},
   "outputs": [
    {
     "name": "stdout",
     "output_type": "stream",
     "text": [
      "# Group Stratified Cross Validation Results\n",
      "bACC=0.74 ROC-AUC=0.82\n",
      "# Test\n",
      "bACC=0.72 ROC-AUC=0.82\n",
      "CPU times: user 25.7 s, sys: 2.04 s, total: 27.8 s\n",
      "Wall time: 8.71 s\n"
     ]
    }
   ],
   "source": [
    "%%time\n",
    "evaluate(ROIsFeatureExtractor(),\n",
    "         XGBClassifier(learning_rate = 0.1, n_estimators=500, random_state=42),\n",
    "         X_train, y_train,X_test, y_test, 'Group Stratified')"
   ]
  },
  {
   "cell_type": "code",
   "execution_count": 291,
   "id": "e0f25c57",
   "metadata": {},
   "outputs": [
    {
     "name": "stdout",
     "output_type": "stream",
     "text": [
      "# Group Stratified Cross Validation Results\n",
      "bACC=0.73 ROC-AUC=0.82\n",
      "# Test\n",
      "bACC=0.73 ROC-AUC=0.82\n",
      "CPU times: user 31.9 s, sys: 1.4 s, total: 33.3 s\n",
      "Wall time: 9.18 s\n"
     ]
    }
   ],
   "source": [
    "%%time\n",
    "evaluate(ROIsFeatureExtractor(),\n",
    "         XGBClassifier(learning_rate = 0.1, n_estimators=1000, random_state=42),\n",
    "         X_train, y_train,X_test, y_test, 'Group Stratified')"
   ]
  },
  {
   "cell_type": "code",
   "execution_count": 292,
   "id": "7162977b",
   "metadata": {},
   "outputs": [
    {
     "name": "stdout",
     "output_type": "stream",
     "text": [
      "# Group Stratified Cross Validation Results\n",
      "bACC=0.73 ROC-AUC=0.82\n",
      "# Test\n",
      "bACC=0.74 ROC-AUC=0.81\n",
      "CPU times: user 2min 29s, sys: 5.73 s, total: 2min 35s\n",
      "Wall time: 26 s\n"
     ]
    }
   ],
   "source": [
    "%%time\n",
    "evaluate(ROIsFeatureExtractor(),\n",
    "         XGBClassifier(learning_rate = 0.1, n_estimators=10000, random_state=42),\n",
    "         X_train, y_train,X_test, y_test, 'Group Stratified')"
   ]
  },
  {
   "cell_type": "markdown",
   "id": "ee474522",
   "metadata": {},
   "source": [
    "#### gamma (default = 0)"
   ]
  },
  {
   "cell_type": "code",
   "execution_count": 295,
   "id": "ff802d53",
   "metadata": {},
   "outputs": [
    {
     "name": "stdout",
     "output_type": "stream",
     "text": [
      "# Group Stratified Cross Validation Results\n",
      "bACC=0.74 ROC-AUC=0.82\n",
      "# Test\n",
      "bACC=0.72 ROC-AUC=0.82\n",
      "CPU times: user 23.5 s, sys: 1.56 s, total: 25.1 s\n",
      "Wall time: 8.29 s\n"
     ]
    }
   ],
   "source": [
    "%%time\n",
    "evaluate(ROIsFeatureExtractor(),\n",
    "         XGBClassifier(learning_rate = 0.1, n_estimators=500, gamma = 0, random_state=42),\n",
    "         X_train, y_train,X_test, y_test, 'Group Stratified')"
   ]
  },
  {
   "cell_type": "code",
   "execution_count": 293,
   "id": "6ef1491c",
   "metadata": {},
   "outputs": [
    {
     "name": "stdout",
     "output_type": "stream",
     "text": [
      "# Group Stratified Cross Validation Results\n",
      "bACC=0.69 ROC-AUC=0.79\n",
      "# Test\n",
      "bACC=0.76 ROC-AUC=0.82\n",
      "CPU times: user 54.8 s, sys: 3.08 s, total: 57.9 s\n",
      "Wall time: 13.7 s\n"
     ]
    }
   ],
   "source": [
    "%%time\n",
    "evaluate(ROIsFeatureExtractor(),\n",
    "         XGBClassifier(learning_rate = 0.1, n_estimators=500, gamma = 5, random_state=42),\n",
    "         X_train, y_train,X_test, y_test, 'Group Stratified')"
   ]
  },
  {
   "cell_type": "code",
   "execution_count": 294,
   "id": "db88b516",
   "metadata": {},
   "outputs": [
    {
     "name": "stdout",
     "output_type": "stream",
     "text": [
      "# Group Stratified Cross Validation Results\n",
      "bACC=0.71 ROC-AUC=0.80\n",
      "# Test\n",
      "bACC=0.73 ROC-AUC=0.82\n",
      "CPU times: user 52.5 s, sys: 3.76 s, total: 56.2 s\n",
      "Wall time: 13.8 s\n"
     ]
    }
   ],
   "source": [
    "%%time\n",
    "evaluate(ROIsFeatureExtractor(),\n",
    "         XGBClassifier(learning_rate = 0.1, n_estimators=500, gamma = 2, random_state=42),\n",
    "         X_train, y_train,X_test, y_test, 'Group Stratified')"
   ]
  },
  {
   "cell_type": "markdown",
   "id": "b4467bdb",
   "metadata": {},
   "source": [
    "#### colsample_bytree (default=1)"
   ]
  },
  {
   "cell_type": "code",
   "execution_count": 302,
   "id": "0fe2e1e0",
   "metadata": {},
   "outputs": [
    {
     "name": "stdout",
     "output_type": "stream",
     "text": [
      "# Group Stratified Cross Validation Results\n",
      "bACC=0.73 ROC-AUC=0.81\n",
      "# Test\n",
      "bACC=0.72 ROC-AUC=0.83\n",
      "CPU times: user 18.1 s, sys: 1.67 s, total: 19.8 s\n",
      "Wall time: 7.93 s\n"
     ]
    }
   ],
   "source": [
    "%%time\n",
    "evaluate(ROIsFeatureExtractor(),\n",
    "         XGBClassifier(learning_rate = 0.1, n_estimators=500, gamma = 0.01,colsample_bytree=0.5, random_state=42),\n",
    "         X_train, y_train,X_test, y_test, 'Group Stratified')"
   ]
  },
  {
   "cell_type": "code",
   "execution_count": 303,
   "id": "bc450e61",
   "metadata": {},
   "outputs": [
    {
     "name": "stdout",
     "output_type": "stream",
     "text": [
      "# Group Stratified Cross Validation Results\n",
      "bACC=0.71 ROC-AUC=0.81\n",
      "# Test\n",
      "bACC=0.76 ROC-AUC=0.83\n",
      "CPU times: user 14 s, sys: 1.13 s, total: 15.1 s\n",
      "Wall time: 6.47 s\n"
     ]
    }
   ],
   "source": [
    "#FINAL MODEL\n",
    "%%time\n",
    "evaluate(ROIsFeatureExtractor(),\n",
    "         XGBClassifier(learning_rate = 0.1, n_estimators=500, gamma = 0.01,colsample_bytree=0.2, random_state=42),\n",
    "         X_train, y_train,X_test, y_test, 'Group Stratified')"
   ]
  },
  {
   "cell_type": "code",
   "execution_count": 304,
   "id": "826f86f8",
   "metadata": {},
   "outputs": [
    {
     "name": "stdout",
     "output_type": "stream",
     "text": [
      "# Group Stratified Cross Validation Results\n",
      "bACC=0.70 ROC-AUC=0.80\n",
      "# Test\n",
      "bACC=0.73 ROC-AUC=0.83\n",
      "CPU times: user 13.4 s, sys: 1.58 s, total: 14.9 s\n",
      "Wall time: 6.94 s\n"
     ]
    }
   ],
   "source": [
    "%%time\n",
    "evaluate(ROIsFeatureExtractor(),\n",
    "         XGBClassifier(learning_rate = 0.1, n_estimators=500, gamma = 0.01,colsample_bytree=0.1, random_state=42),\n",
    "         X_train, y_train,X_test, y_test, 'Group Stratified')"
   ]
  },
  {
   "cell_type": "markdown",
   "id": "ee1e03db",
   "metadata": {},
   "source": [
    "#### subsample (default=1)"
   ]
  },
  {
   "cell_type": "code",
   "execution_count": 308,
   "id": "3f2d3f7e",
   "metadata": {},
   "outputs": [
    {
     "name": "stdout",
     "output_type": "stream",
     "text": [
      "# Group Stratified Cross Validation Results\n",
      "bACC=0.70 ROC-AUC=0.79\n",
      "# Test\n",
      "bACC=0.71 ROC-AUC=0.83\n",
      "CPU times: user 13.2 s, sys: 1.37 s, total: 14.6 s\n",
      "Wall time: 7.27 s\n"
     ]
    }
   ],
   "source": [
    "%%time\n",
    "evaluate(ROIsFeatureExtractor(),\n",
    "         XGBClassifier(learning_rate = 0.1, n_estimators=500, gamma = 0.01,colsample_bytree=0.1, subsample = 0.5,random_state=42),\n",
    "         X_train, y_train,X_test, y_test, 'Group Stratified')"
   ]
  },
  {
   "cell_type": "code",
   "execution_count": 311,
   "id": "74e4801b",
   "metadata": {},
   "outputs": [
    {
     "name": "stdout",
     "output_type": "stream",
     "text": [
      "# Group Stratified Cross Validation Results\n",
      "bACC=0.71 ROC-AUC=0.81\n",
      "# Test\n",
      "bACC=0.72 ROC-AUC=0.83\n",
      "CPU times: user 13 s, sys: 1.19 s, total: 14.2 s\n",
      "Wall time: 6.52 s\n"
     ]
    }
   ],
   "source": [
    "%%time\n",
    "evaluate(ROIsFeatureExtractor(),\n",
    "         XGBClassifier(learning_rate = 0.1, n_estimators=500, gamma = 0.01,colsample_bytree=0.1, subsample = 0.8,random_state=42),\n",
    "         X_train, y_train,X_test, y_test, 'Group Stratified')"
   ]
  },
  {
   "cell_type": "code",
   "execution_count": 312,
   "id": "6aa18734",
   "metadata": {},
   "outputs": [
    {
     "name": "stdout",
     "output_type": "stream",
     "text": [
      "# Group Stratified Cross Validation Results\n",
      "bACC=0.70 ROC-AUC=0.80\n",
      "# Test\n",
      "bACC=0.70 ROC-AUC=0.82\n",
      "CPU times: user 13.2 s, sys: 1.29 s, total: 14.5 s\n",
      "Wall time: 6.84 s\n"
     ]
    }
   ],
   "source": [
    "%%time\n",
    "evaluate(ROIsFeatureExtractor(),\n",
    "         XGBClassifier(learning_rate = 0.1, n_estimators=500, gamma = 0.01,colsample_bytree=0.1, subsample = 0.9,random_state=42),\n",
    "         X_train, y_train,X_test, y_test, 'Group Stratified')"
   ]
  },
  {
   "cell_type": "markdown",
   "id": "8575136a",
   "metadata": {},
   "source": [
    "#### max_depth (default=6)"
   ]
  },
  {
   "cell_type": "code",
   "execution_count": 316,
   "id": "0d506938",
   "metadata": {},
   "outputs": [
    {
     "name": "stdout",
     "output_type": "stream",
     "text": [
      "# Group Stratified Cross Validation Results\n",
      "bACC=0.70 ROC-AUC=0.81\n",
      "# Test\n",
      "bACC=0.68 ROC-AUC=0.81\n",
      "CPU times: user 13.2 s, sys: 1.37 s, total: 14.5 s\n",
      "Wall time: 6.68 s\n"
     ]
    }
   ],
   "source": [
    "%%time\n",
    "evaluate(ROIsFeatureExtractor(),\n",
    "         XGBClassifier(learning_rate = 0.1, n_estimators=500, gamma = 0.01,colsample_bytree=0.1, subsample = 0.8,\n",
    "                       max_depth = 100, random_state=42),\n",
    "         X_train, y_train,X_test, y_test, 'Group Stratified')"
   ]
  },
  {
   "cell_type": "code",
   "execution_count": 317,
   "id": "a2bb46ef",
   "metadata": {},
   "outputs": [
    {
     "name": "stdout",
     "output_type": "stream",
     "text": [
      "# Group Stratified Cross Validation Results\n",
      "bACC=0.70 ROC-AUC=0.81\n",
      "# Test\n",
      "bACC=0.68 ROC-AUC=0.81\n",
      "CPU times: user 14.9 s, sys: 1.61 s, total: 16.5 s\n",
      "Wall time: 7.12 s\n"
     ]
    }
   ],
   "source": [
    "%%time\n",
    "evaluate(ROIsFeatureExtractor(),\n",
    "         XGBClassifier(learning_rate = 0.1, n_estimators=500, gamma = 0.01,colsample_bytree=0.1, subsample = 0.8,\n",
    "                       max_depth = 50, random_state=42),\n",
    "         X_train, y_train,X_test, y_test, 'Group Stratified')"
   ]
  },
  {
   "cell_type": "code",
   "execution_count": 322,
   "id": "1b6bc3b7",
   "metadata": {},
   "outputs": [
    {
     "name": "stdout",
     "output_type": "stream",
     "text": [
      "# Group Stratified Cross Validation Results\n",
      "bACC=0.70 ROC-AUC=0.81\n",
      "# Test\n",
      "bACC=0.70 ROC-AUC=0.82\n",
      "CPU times: user 14.2 s, sys: 1.85 s, total: 16.1 s\n",
      "Wall time: 6.88 s\n"
     ]
    }
   ],
   "source": [
    "%%time\n",
    "evaluate(ROIsFeatureExtractor(),\n",
    "         XGBClassifier(learning_rate = 0.1, n_estimators=500, gamma = 0.01,colsample_bytree=0.1, subsample = 0.8,\n",
    "                       max_depth = 10, random_state=42),\n",
    "         X_train, y_train,X_test, y_test, 'Group Stratified')"
   ]
  },
  {
   "cell_type": "code",
   "execution_count": 318,
   "id": "c44267ad",
   "metadata": {},
   "outputs": [
    {
     "name": "stdout",
     "output_type": "stream",
     "text": [
      "# Group Stratified Cross Validation Results\n",
      "bACC=0.70 ROC-AUC=0.81\n",
      "# Test\n",
      "bACC=0.68 ROC-AUC=0.81\n",
      "CPU times: user 14.2 s, sys: 1.94 s, total: 16.2 s\n",
      "Wall time: 7.19 s\n"
     ]
    }
   ],
   "source": [
    "%%time\n",
    "evaluate(ROIsFeatureExtractor(),\n",
    "         XGBClassifier(learning_rate = 0.1, n_estimators=500, gamma = 0.01,colsample_bytree=0.1, subsample = 0.8,\n",
    "                       max_depth = 1000, random_state=42),\n",
    "         X_train, y_train,X_test, y_test, 'Group Stratified')"
   ]
  },
  {
   "cell_type": "code",
   "execution_count": 234,
   "id": "13fa40ee",
   "metadata": {},
   "outputs": [
    {
     "name": "stderr",
     "output_type": "stream",
     "text": [
      "[Parallel(n_jobs=5)]: Using backend LokyBackend with 5 concurrent workers.\n",
      "[Parallel(n_jobs=5)]: Done   2 out of   5 | elapsed:   11.9s remaining:   17.8s\n",
      "[Parallel(n_jobs=5)]: Done   5 out of   5 | elapsed:   11.9s finished\n"
     ]
    },
    {
     "name": "stdout",
     "output_type": "stream",
     "text": [
      "# Common Cross Validation Results\n",
      "bACC=0.71 ROC-AUC=0.79\n",
      "# Test\n",
      "bACC=0.71 ROC-AUC=0.79\n",
      "CPU times: user 846 ms, sys: 695 ms, total: 1.54 s\n",
      "Wall time: 12.6 s\n"
     ]
    }
   ],
   "source": [
    "#Test Random Forest\n",
    "%%time\n",
    "evaluate(ROIsFeatureExtractor(),\n",
    "         RandomForestClassifier(n_estimators =100, random_state=42),\n",
    "         X_train, y_train,X_test, y_test,'Common')"
   ]
  },
  {
   "cell_type": "markdown",
   "id": "0915d64b",
   "metadata": {},
   "source": [
    "### SVC Hyperparameter Tuning"
   ]
  },
  {
   "cell_type": "markdown",
   "id": "91098eef",
   "metadata": {},
   "source": [
    "#### gamma"
   ]
  },
  {
   "cell_type": "code",
   "execution_count": 338,
   "id": "2ecda138",
   "metadata": {},
   "outputs": [
    {
     "name": "stdout",
     "output_type": "stream",
     "text": [
      "# Group Stratified Cross Validation Results\n",
      "bACC=0.66 ROC-AUC=0.74\n",
      "# Test\n",
      "bACC=0.72 ROC-AUC=0.76\n",
      "CPU times: user 5.4 s, sys: 1.11 s, total: 6.51 s\n",
      "Wall time: 6.55 s\n"
     ]
    }
   ],
   "source": [
    "%%time\n",
    "evaluate(ROIsFeatureExtractor(),\n",
    "         SVC(kernel='rbf', C=1.0, gamma='auto',probability=True),\n",
    "         X_train, y_train,X_test, y_test,'Group Stratified')"
   ]
  },
  {
   "cell_type": "code",
   "execution_count": 348,
   "id": "72135f4f",
   "metadata": {},
   "outputs": [
    {
     "name": "stdout",
     "output_type": "stream",
     "text": [
      "# Group Stratified Cross Validation Results\n",
      "bACC=0.59 ROC-AUC=0.73\n",
      "# Test\n",
      "bACC=0.64 ROC-AUC=0.68\n",
      "CPU times: user 4.66 s, sys: 935 ms, total: 5.59 s\n",
      "Wall time: 5.59 s\n"
     ]
    }
   ],
   "source": [
    "%%time\n",
    "evaluate(ROIsFeatureExtractor(),\n",
    "         SVC(kernel='rbf', C=1.0, gamma='scale',probability=True),\n",
    "         X_train, y_train,X_test, y_test,'Group Stratified')"
   ]
  },
  {
   "cell_type": "code",
   "execution_count": 355,
   "id": "32f6881a",
   "metadata": {},
   "outputs": [
    {
     "name": "stdout",
     "output_type": "stream",
     "text": [
      "# Group Stratified Cross Validation Results\n",
      "bACC=0.66 ROC-AUC=0.74\n",
      "# Test\n",
      "bACC=0.73 ROC-AUC=0.77\n",
      "CPU times: user 5.06 s, sys: 1.04 s, total: 6.1 s\n",
      "Wall time: 6.11 s\n"
     ]
    }
   ],
   "source": [
    "#FINAL MODEL\n",
    "%%time\n",
    "evaluate(ROIsFeatureExtractor(),\n",
    "         SVC(kernel='rbf', C=1.0, gamma=0.003401,probability=True),\n",
    "         X_train, y_train,X_test, y_test,'Group Stratified')"
   ]
  },
  {
   "cell_type": "code",
   "execution_count": 360,
   "id": "c94edb51",
   "metadata": {},
   "outputs": [
    {
     "name": "stdout",
     "output_type": "stream",
     "text": [
      "# Group Stratified Cross Validation Results\n",
      "bACC=0.60 ROC-AUC=0.74\n",
      "# Test\n",
      "bACC=0.63 ROC-AUC=0.70\n",
      "CPU times: user 4.8 s, sys: 967 ms, total: 5.77 s\n",
      "Wall time: 5.77 s\n"
     ]
    }
   ],
   "source": [
    "%%time\n",
    "evaluate(ROIsFeatureExtractor(),\n",
    "         SVC(kernel='rbf', C=1.0, gamma=0.0003401,probability=True),\n",
    "         X_train, y_train,X_test, y_test,'Group Stratified')"
   ]
  },
  {
   "cell_type": "code",
   "execution_count": 359,
   "id": "591ebfdb",
   "metadata": {},
   "outputs": [
    {
     "name": "stdout",
     "output_type": "stream",
     "text": [
      "# Group Stratified Cross Validation Results\n",
      "bACC=0.50 ROC-AUC=0.53\n",
      "# Test\n",
      "bACC=0.50 ROC-AUC=0.48\n",
      "CPU times: user 5.19 s, sys: 1.04 s, total: 6.23 s\n",
      "Wall time: 6.24 s\n"
     ]
    }
   ],
   "source": [
    "%%time\n",
    "evaluate(ROIsFeatureExtractor(),\n",
    "         SVC(kernel='rbf', C=1.0, gamma=0.1,probability=True),\n",
    "         X_train, y_train,X_test, y_test,'Group Stratified')"
   ]
  },
  {
   "cell_type": "code",
   "execution_count": 339,
   "id": "b34c46fb",
   "metadata": {},
   "outputs": [
    {
     "name": "stdout",
     "output_type": "stream",
     "text": [
      "# Group Stratified Cross Validation Results\n",
      "bACC=0.50 ROC-AUC=0.67\n",
      "# Test\n",
      "bACC=0.50 ROC-AUC=0.66\n",
      "CPU times: user 5.42 s, sys: 1.12 s, total: 6.54 s\n",
      "Wall time: 6.56 s\n"
     ]
    }
   ],
   "source": [
    "%%time\n",
    "evaluate(ROIsFeatureExtractor(),\n",
    "         SVC(kernel='rbf', C=0.01, gamma='auto',probability=True),\n",
    "         X_train, y_train,X_test, y_test,'Group Stratified')"
   ]
  },
  {
   "cell_type": "markdown",
   "id": "c84e4e3f",
   "metadata": {},
   "source": [
    "#### Other kernels - poly"
   ]
  },
  {
   "cell_type": "code",
   "execution_count": 341,
   "id": "f98075c6",
   "metadata": {},
   "outputs": [
    {
     "name": "stdout",
     "output_type": "stream",
     "text": [
      "# Group Stratified Cross Validation Results\n",
      "bACC=0.61 ROC-AUC=0.67\n",
      "# Test\n",
      "bACC=0.68 ROC-AUC=0.78\n",
      "CPU times: user 6.08 s, sys: 1.04 s, total: 7.12 s\n",
      "Wall time: 7.17 s\n"
     ]
    }
   ],
   "source": [
    "%%time\n",
    "evaluate(ROIsFeatureExtractor(),\n",
    "         SVC(kernel='poly', degree=3, C=1.0, gamma='auto',probability=True),\n",
    "         X_train, y_train,X_test, y_test,'Group Stratified')"
   ]
  },
  {
   "cell_type": "code",
   "execution_count": 340,
   "id": "554e039b",
   "metadata": {},
   "outputs": [
    {
     "name": "stdout",
     "output_type": "stream",
     "text": [
      "# Group Stratified Cross Validation Results\n",
      "bACC=0.64 ROC-AUC=0.69\n",
      "# Test\n",
      "bACC=0.63 ROC-AUC=0.74\n",
      "CPU times: user 6.14 s, sys: 1.1 s, total: 7.24 s\n",
      "Wall time: 7.27 s\n"
     ]
    }
   ],
   "source": [
    "%%time\n",
    "evaluate(ROIsFeatureExtractor(),\n",
    "         SVC(kernel='poly', degree=6, C=1.0, gamma='auto',probability=True),\n",
    "         X_train, y_train,X_test, y_test,'Group Stratified')"
   ]
  },
  {
   "cell_type": "markdown",
   "id": "b985d85a",
   "metadata": {},
   "source": [
    "# Playground"
   ]
  },
  {
   "cell_type": "code",
   "execution_count": 254,
   "id": "4a0a99f3",
   "metadata": {},
   "outputs": [
    {
     "name": "stderr",
     "output_type": "stream",
     "text": [
      "[Parallel(n_jobs=5)]: Using backend LokyBackend with 5 concurrent workers.\n",
      "/Users/janrauhl/opt/anaconda3/lib/python3.9/site-packages/sklearn/linear_model/_sag.py:350: ConvergenceWarning: The max_iter was reached which means the coef_ did not converge\n",
      "  warnings.warn(\n",
      "/Users/janrauhl/opt/anaconda3/lib/python3.9/site-packages/sklearn/linear_model/_sag.py:350: ConvergenceWarning: The max_iter was reached which means the coef_ did not converge\n",
      "  warnings.warn(\n",
      "/Users/janrauhl/opt/anaconda3/lib/python3.9/site-packages/sklearn/linear_model/_sag.py:350: ConvergenceWarning: The max_iter was reached which means the coef_ did not converge\n",
      "  warnings.warn(\n",
      "/Users/janrauhl/opt/anaconda3/lib/python3.9/site-packages/sklearn/linear_model/_sag.py:350: ConvergenceWarning: The max_iter was reached which means the coef_ did not converge\n",
      "  warnings.warn(\n",
      "/Users/janrauhl/opt/anaconda3/lib/python3.9/site-packages/sklearn/linear_model/_sag.py:350: ConvergenceWarning: The max_iter was reached which means the coef_ did not converge\n",
      "  warnings.warn(\n",
      "/Users/janrauhl/opt/anaconda3/lib/python3.9/site-packages/sklearn/linear_model/_sag.py:350: ConvergenceWarning: The max_iter was reached which means the coef_ did not converge\n",
      "  warnings.warn(\n",
      "/Users/janrauhl/opt/anaconda3/lib/python3.9/site-packages/sklearn/linear_model/_sag.py:350: ConvergenceWarning: The max_iter was reached which means the coef_ did not converge\n",
      "  warnings.warn(\n",
      "/Users/janrauhl/opt/anaconda3/lib/python3.9/site-packages/sklearn/linear_model/_sag.py:350: ConvergenceWarning: The max_iter was reached which means the coef_ did not converge\n",
      "  warnings.warn(\n",
      "/Users/janrauhl/opt/anaconda3/lib/python3.9/site-packages/sklearn/linear_model/_sag.py:350: ConvergenceWarning: The max_iter was reached which means the coef_ did not converge\n",
      "  warnings.warn(\n",
      "/Users/janrauhl/opt/anaconda3/lib/python3.9/site-packages/sklearn/linear_model/_sag.py:350: ConvergenceWarning: The max_iter was reached which means the coef_ did not converge\n",
      "  warnings.warn(\n",
      "/Users/janrauhl/opt/anaconda3/lib/python3.9/site-packages/sklearn/linear_model/_sag.py:350: ConvergenceWarning: The max_iter was reached which means the coef_ did not converge\n",
      "  warnings.warn(\n",
      "/Users/janrauhl/opt/anaconda3/lib/python3.9/site-packages/sklearn/linear_model/_sag.py:350: ConvergenceWarning: The max_iter was reached which means the coef_ did not converge\n",
      "  warnings.warn(\n",
      "/Users/janrauhl/opt/anaconda3/lib/python3.9/site-packages/sklearn/linear_model/_sag.py:350: ConvergenceWarning: The max_iter was reached which means the coef_ did not converge\n",
      "  warnings.warn(\n",
      "/Users/janrauhl/opt/anaconda3/lib/python3.9/site-packages/sklearn/linear_model/_sag.py:350: ConvergenceWarning: The max_iter was reached which means the coef_ did not converge\n",
      "  warnings.warn(\n",
      "/Users/janrauhl/opt/anaconda3/lib/python3.9/site-packages/sklearn/linear_model/_sag.py:350: ConvergenceWarning: The max_iter was reached which means the coef_ did not converge\n",
      "  warnings.warn(\n",
      "/Users/janrauhl/opt/anaconda3/lib/python3.9/site-packages/sklearn/linear_model/_sag.py:350: ConvergenceWarning: The max_iter was reached which means the coef_ did not converge\n",
      "  warnings.warn(\n",
      "/Users/janrauhl/opt/anaconda3/lib/python3.9/site-packages/sklearn/linear_model/_sag.py:350: ConvergenceWarning: The max_iter was reached which means the coef_ did not converge\n",
      "  warnings.warn(\n",
      "/Users/janrauhl/opt/anaconda3/lib/python3.9/site-packages/sklearn/linear_model/_sag.py:350: ConvergenceWarning: The max_iter was reached which means the coef_ did not converge\n",
      "  warnings.warn(\n",
      "/Users/janrauhl/opt/anaconda3/lib/python3.9/site-packages/sklearn/linear_model/_sag.py:350: ConvergenceWarning: The max_iter was reached which means the coef_ did not converge\n",
      "  warnings.warn(\n",
      "/Users/janrauhl/opt/anaconda3/lib/python3.9/site-packages/sklearn/linear_model/_sag.py:350: ConvergenceWarning: The max_iter was reached which means the coef_ did not converge\n",
      "  warnings.warn(\n",
      "/Users/janrauhl/opt/anaconda3/lib/python3.9/site-packages/sklearn/linear_model/_sag.py:350: ConvergenceWarning: The max_iter was reached which means the coef_ did not converge\n",
      "  warnings.warn(\n",
      "/Users/janrauhl/opt/anaconda3/lib/python3.9/site-packages/sklearn/linear_model/_sag.py:350: ConvergenceWarning: The max_iter was reached which means the coef_ did not converge\n",
      "  warnings.warn(\n",
      "/Users/janrauhl/opt/anaconda3/lib/python3.9/site-packages/sklearn/linear_model/_sag.py:350: ConvergenceWarning: The max_iter was reached which means the coef_ did not converge\n",
      "  warnings.warn(\n",
      "/Users/janrauhl/opt/anaconda3/lib/python3.9/site-packages/sklearn/linear_model/_sag.py:350: ConvergenceWarning: The max_iter was reached which means the coef_ did not converge\n",
      "  warnings.warn(\n",
      "/Users/janrauhl/opt/anaconda3/lib/python3.9/site-packages/sklearn/linear_model/_sag.py:350: ConvergenceWarning: The max_iter was reached which means the coef_ did not converge\n",
      "  warnings.warn(\n",
      "/Users/janrauhl/opt/anaconda3/lib/python3.9/site-packages/sklearn/linear_model/_sag.py:350: ConvergenceWarning: The max_iter was reached which means the coef_ did not converge\n",
      "  warnings.warn(\n",
      "/Users/janrauhl/opt/anaconda3/lib/python3.9/site-packages/sklearn/linear_model/_sag.py:350: ConvergenceWarning: The max_iter was reached which means the coef_ did not converge\n",
      "  warnings.warn(\n",
      "/Users/janrauhl/opt/anaconda3/lib/python3.9/site-packages/sklearn/linear_model/_sag.py:350: ConvergenceWarning: The max_iter was reached which means the coef_ did not converge\n",
      "  warnings.warn(\n",
      "/Users/janrauhl/opt/anaconda3/lib/python3.9/site-packages/sklearn/linear_model/_sag.py:350: ConvergenceWarning: The max_iter was reached which means the coef_ did not converge\n",
      "  warnings.warn(\n",
      "/Users/janrauhl/opt/anaconda3/lib/python3.9/site-packages/sklearn/linear_model/_sag.py:350: ConvergenceWarning: The max_iter was reached which means the coef_ did not converge\n",
      "  warnings.warn(\n",
      "/Users/janrauhl/opt/anaconda3/lib/python3.9/site-packages/sklearn/linear_model/_sag.py:350: ConvergenceWarning: The max_iter was reached which means the coef_ did not converge\n",
      "  warnings.warn(\n",
      "/Users/janrauhl/opt/anaconda3/lib/python3.9/site-packages/sklearn/linear_model/_sag.py:350: ConvergenceWarning: The max_iter was reached which means the coef_ did not converge\n",
      "  warnings.warn(\n",
      "/Users/janrauhl/opt/anaconda3/lib/python3.9/site-packages/sklearn/linear_model/_sag.py:350: ConvergenceWarning: The max_iter was reached which means the coef_ did not converge\n",
      "  warnings.warn(\n",
      "/Users/janrauhl/opt/anaconda3/lib/python3.9/site-packages/sklearn/linear_model/_sag.py:350: ConvergenceWarning: The max_iter was reached which means the coef_ did not converge\n",
      "  warnings.warn(\n",
      "/Users/janrauhl/opt/anaconda3/lib/python3.9/site-packages/sklearn/linear_model/_sag.py:350: ConvergenceWarning: The max_iter was reached which means the coef_ did not converge\n",
      "  warnings.warn(\n",
      "/Users/janrauhl/opt/anaconda3/lib/python3.9/site-packages/sklearn/linear_model/_sag.py:350: ConvergenceWarning: The max_iter was reached which means the coef_ did not converge\n",
      "  warnings.warn(\n",
      "/Users/janrauhl/opt/anaconda3/lib/python3.9/site-packages/sklearn/linear_model/_sag.py:350: ConvergenceWarning: The max_iter was reached which means the coef_ did not converge\n",
      "  warnings.warn(\n",
      "/Users/janrauhl/opt/anaconda3/lib/python3.9/site-packages/sklearn/linear_model/_sag.py:350: ConvergenceWarning: The max_iter was reached which means the coef_ did not converge\n",
      "  warnings.warn(\n",
      "/Users/janrauhl/opt/anaconda3/lib/python3.9/site-packages/sklearn/linear_model/_sag.py:350: ConvergenceWarning: The max_iter was reached which means the coef_ did not converge\n",
      "  warnings.warn(\n",
      "/Users/janrauhl/opt/anaconda3/lib/python3.9/site-packages/sklearn/linear_model/_sag.py:350: ConvergenceWarning: The max_iter was reached which means the coef_ did not converge\n",
      "  warnings.warn(\n",
      "/Users/janrauhl/opt/anaconda3/lib/python3.9/site-packages/sklearn/linear_model/_sag.py:350: ConvergenceWarning: The max_iter was reached which means the coef_ did not converge\n",
      "  warnings.warn(\n",
      "/Users/janrauhl/opt/anaconda3/lib/python3.9/site-packages/sklearn/linear_model/_sag.py:350: ConvergenceWarning: The max_iter was reached which means the coef_ did not converge\n",
      "  warnings.warn(\n",
      "/Users/janrauhl/opt/anaconda3/lib/python3.9/site-packages/sklearn/linear_model/_sag.py:350: ConvergenceWarning: The max_iter was reached which means the coef_ did not converge\n",
      "  warnings.warn(\n",
      "/Users/janrauhl/opt/anaconda3/lib/python3.9/site-packages/sklearn/linear_model/_sag.py:350: ConvergenceWarning: The max_iter was reached which means the coef_ did not converge\n",
      "  warnings.warn(\n",
      "/Users/janrauhl/opt/anaconda3/lib/python3.9/site-packages/sklearn/linear_model/_sag.py:350: ConvergenceWarning: The max_iter was reached which means the coef_ did not converge\n",
      "  warnings.warn(\n",
      "/Users/janrauhl/opt/anaconda3/lib/python3.9/site-packages/sklearn/linear_model/_sag.py:350: ConvergenceWarning: The max_iter was reached which means the coef_ did not converge\n",
      "  warnings.warn(\n",
      "/Users/janrauhl/opt/anaconda3/lib/python3.9/site-packages/sklearn/linear_model/_sag.py:350: ConvergenceWarning: The max_iter was reached which means the coef_ did not converge\n",
      "  warnings.warn(\n",
      "/Users/janrauhl/opt/anaconda3/lib/python3.9/site-packages/sklearn/linear_model/_sag.py:350: ConvergenceWarning: The max_iter was reached which means the coef_ did not converge\n",
      "  warnings.warn(\n",
      "/Users/janrauhl/opt/anaconda3/lib/python3.9/site-packages/sklearn/linear_model/_sag.py:350: ConvergenceWarning: The max_iter was reached which means the coef_ did not converge\n",
      "  warnings.warn(\n",
      "/Users/janrauhl/opt/anaconda3/lib/python3.9/site-packages/sklearn/linear_model/_sag.py:350: ConvergenceWarning: The max_iter was reached which means the coef_ did not converge\n",
      "  warnings.warn(\n",
      "/Users/janrauhl/opt/anaconda3/lib/python3.9/site-packages/sklearn/linear_model/_sag.py:350: ConvergenceWarning: The max_iter was reached which means the coef_ did not converge\n",
      "  warnings.warn(\n",
      "/Users/janrauhl/opt/anaconda3/lib/python3.9/site-packages/sklearn/linear_model/_sag.py:350: ConvergenceWarning: The max_iter was reached which means the coef_ did not converge\n",
      "  warnings.warn(\n",
      "/Users/janrauhl/opt/anaconda3/lib/python3.9/site-packages/sklearn/linear_model/_sag.py:350: ConvergenceWarning: The max_iter was reached which means the coef_ did not converge\n",
      "  warnings.warn(\n",
      "/Users/janrauhl/opt/anaconda3/lib/python3.9/site-packages/sklearn/linear_model/_sag.py:350: ConvergenceWarning: The max_iter was reached which means the coef_ did not converge\n",
      "  warnings.warn(\n",
      "/Users/janrauhl/opt/anaconda3/lib/python3.9/site-packages/sklearn/linear_model/_sag.py:350: ConvergenceWarning: The max_iter was reached which means the coef_ did not converge\n",
      "  warnings.warn(\n",
      "/Users/janrauhl/opt/anaconda3/lib/python3.9/site-packages/sklearn/linear_model/_sag.py:350: ConvergenceWarning: The max_iter was reached which means the coef_ did not converge\n",
      "  warnings.warn(\n",
      "/Users/janrauhl/opt/anaconda3/lib/python3.9/site-packages/sklearn/linear_model/_sag.py:350: ConvergenceWarning: The max_iter was reached which means the coef_ did not converge\n",
      "  warnings.warn(\n",
      "/Users/janrauhl/opt/anaconda3/lib/python3.9/site-packages/sklearn/linear_model/_sag.py:350: ConvergenceWarning: The max_iter was reached which means the coef_ did not converge\n",
      "  warnings.warn(\n",
      "/Users/janrauhl/opt/anaconda3/lib/python3.9/site-packages/sklearn/linear_model/_sag.py:350: ConvergenceWarning: The max_iter was reached which means the coef_ did not converge\n",
      "  warnings.warn(\n",
      "/Users/janrauhl/opt/anaconda3/lib/python3.9/site-packages/sklearn/linear_model/_sag.py:350: ConvergenceWarning: The max_iter was reached which means the coef_ did not converge\n",
      "  warnings.warn(\n",
      "/Users/janrauhl/opt/anaconda3/lib/python3.9/site-packages/sklearn/linear_model/_sag.py:350: ConvergenceWarning: The max_iter was reached which means the coef_ did not converge\n",
      "  warnings.warn(\n",
      "/Users/janrauhl/opt/anaconda3/lib/python3.9/site-packages/sklearn/linear_model/_sag.py:350: ConvergenceWarning: The max_iter was reached which means the coef_ did not converge\n",
      "  warnings.warn(\n",
      "/Users/janrauhl/opt/anaconda3/lib/python3.9/site-packages/sklearn/linear_model/_sag.py:350: ConvergenceWarning: The max_iter was reached which means the coef_ did not converge\n",
      "  warnings.warn(\n",
      "/Users/janrauhl/opt/anaconda3/lib/python3.9/site-packages/sklearn/linear_model/_sag.py:350: ConvergenceWarning: The max_iter was reached which means the coef_ did not converge\n",
      "  warnings.warn(\n",
      "/Users/janrauhl/opt/anaconda3/lib/python3.9/site-packages/sklearn/linear_model/_sag.py:350: ConvergenceWarning: The max_iter was reached which means the coef_ did not converge\n",
      "  warnings.warn(\n",
      "/Users/janrauhl/opt/anaconda3/lib/python3.9/site-packages/sklearn/linear_model/_sag.py:350: ConvergenceWarning: The max_iter was reached which means the coef_ did not converge\n",
      "  warnings.warn(\n",
      "/Users/janrauhl/opt/anaconda3/lib/python3.9/site-packages/sklearn/linear_model/_sag.py:350: ConvergenceWarning: The max_iter was reached which means the coef_ did not converge\n",
      "  warnings.warn(\n",
      "/Users/janrauhl/opt/anaconda3/lib/python3.9/site-packages/sklearn/linear_model/_sag.py:350: ConvergenceWarning: The max_iter was reached which means the coef_ did not converge\n",
      "  warnings.warn(\n",
      "/Users/janrauhl/opt/anaconda3/lib/python3.9/site-packages/sklearn/linear_model/_sag.py:350: ConvergenceWarning: The max_iter was reached which means the coef_ did not converge\n",
      "  warnings.warn(\n",
      "/Users/janrauhl/opt/anaconda3/lib/python3.9/site-packages/sklearn/linear_model/_sag.py:350: ConvergenceWarning: The max_iter was reached which means the coef_ did not converge\n",
      "  warnings.warn(\n",
      "/Users/janrauhl/opt/anaconda3/lib/python3.9/site-packages/sklearn/linear_model/_sag.py:350: ConvergenceWarning: The max_iter was reached which means the coef_ did not converge\n",
      "  warnings.warn(\n",
      "/Users/janrauhl/opt/anaconda3/lib/python3.9/site-packages/sklearn/linear_model/_sag.py:350: ConvergenceWarning: The max_iter was reached which means the coef_ did not converge\n",
      "  warnings.warn(\n",
      "/Users/janrauhl/opt/anaconda3/lib/python3.9/site-packages/sklearn/linear_model/_sag.py:350: ConvergenceWarning: The max_iter was reached which means the coef_ did not converge\n",
      "  warnings.warn(\n",
      "/Users/janrauhl/opt/anaconda3/lib/python3.9/site-packages/sklearn/linear_model/_sag.py:350: ConvergenceWarning: The max_iter was reached which means the coef_ did not converge\n",
      "  warnings.warn(\n",
      "/Users/janrauhl/opt/anaconda3/lib/python3.9/site-packages/sklearn/linear_model/_sag.py:350: ConvergenceWarning: The max_iter was reached which means the coef_ did not converge\n",
      "  warnings.warn(\n",
      "/Users/janrauhl/opt/anaconda3/lib/python3.9/site-packages/sklearn/linear_model/_sag.py:350: ConvergenceWarning: The max_iter was reached which means the coef_ did not converge\n",
      "  warnings.warn(\n",
      "/Users/janrauhl/opt/anaconda3/lib/python3.9/site-packages/sklearn/linear_model/_sag.py:350: ConvergenceWarning: The max_iter was reached which means the coef_ did not converge\n",
      "  warnings.warn(\n",
      "/Users/janrauhl/opt/anaconda3/lib/python3.9/site-packages/sklearn/linear_model/_sag.py:350: ConvergenceWarning: The max_iter was reached which means the coef_ did not converge\n",
      "  warnings.warn(\n",
      "/Users/janrauhl/opt/anaconda3/lib/python3.9/site-packages/sklearn/linear_model/_sag.py:350: ConvergenceWarning: The max_iter was reached which means the coef_ did not converge\n",
      "  warnings.warn(\n",
      "/Users/janrauhl/opt/anaconda3/lib/python3.9/site-packages/sklearn/linear_model/_sag.py:350: ConvergenceWarning: The max_iter was reached which means the coef_ did not converge\n",
      "  warnings.warn(\n",
      "/Users/janrauhl/opt/anaconda3/lib/python3.9/site-packages/sklearn/linear_model/_sag.py:350: ConvergenceWarning: The max_iter was reached which means the coef_ did not converge\n",
      "  warnings.warn(\n",
      "/Users/janrauhl/opt/anaconda3/lib/python3.9/site-packages/sklearn/linear_model/_sag.py:350: ConvergenceWarning: The max_iter was reached which means the coef_ did not converge\n",
      "  warnings.warn(\n",
      "/Users/janrauhl/opt/anaconda3/lib/python3.9/site-packages/sklearn/linear_model/_sag.py:350: ConvergenceWarning: The max_iter was reached which means the coef_ did not converge\n",
      "  warnings.warn(\n",
      "/Users/janrauhl/opt/anaconda3/lib/python3.9/site-packages/sklearn/linear_model/_sag.py:350: ConvergenceWarning: The max_iter was reached which means the coef_ did not converge\n",
      "  warnings.warn(\n",
      "/Users/janrauhl/opt/anaconda3/lib/python3.9/site-packages/sklearn/linear_model/_sag.py:350: ConvergenceWarning: The max_iter was reached which means the coef_ did not converge\n",
      "  warnings.warn(\n",
      "/Users/janrauhl/opt/anaconda3/lib/python3.9/site-packages/sklearn/linear_model/_sag.py:350: ConvergenceWarning: The max_iter was reached which means the coef_ did not converge\n",
      "  warnings.warn(\n",
      "/Users/janrauhl/opt/anaconda3/lib/python3.9/site-packages/sklearn/linear_model/_sag.py:350: ConvergenceWarning: The max_iter was reached which means the coef_ did not converge\n",
      "  warnings.warn(\n",
      "/Users/janrauhl/opt/anaconda3/lib/python3.9/site-packages/sklearn/linear_model/_sag.py:350: ConvergenceWarning: The max_iter was reached which means the coef_ did not converge\n",
      "  warnings.warn(\n",
      "/Users/janrauhl/opt/anaconda3/lib/python3.9/site-packages/sklearn/linear_model/_sag.py:350: ConvergenceWarning: The max_iter was reached which means the coef_ did not converge\n",
      "  warnings.warn(\n",
      "/Users/janrauhl/opt/anaconda3/lib/python3.9/site-packages/sklearn/linear_model/_sag.py:350: ConvergenceWarning: The max_iter was reached which means the coef_ did not converge\n",
      "  warnings.warn(\n",
      "/Users/janrauhl/opt/anaconda3/lib/python3.9/site-packages/sklearn/linear_model/_sag.py:350: ConvergenceWarning: The max_iter was reached which means the coef_ did not converge\n",
      "  warnings.warn(\n",
      "/Users/janrauhl/opt/anaconda3/lib/python3.9/site-packages/sklearn/linear_model/_sag.py:350: ConvergenceWarning: The max_iter was reached which means the coef_ did not converge\n",
      "  warnings.warn(\n",
      "/Users/janrauhl/opt/anaconda3/lib/python3.9/site-packages/sklearn/linear_model/_sag.py:350: ConvergenceWarning: The max_iter was reached which means the coef_ did not converge\n",
      "  warnings.warn(\n",
      "/Users/janrauhl/opt/anaconda3/lib/python3.9/site-packages/sklearn/linear_model/_sag.py:350: ConvergenceWarning: The max_iter was reached which means the coef_ did not converge\n",
      "  warnings.warn(\n",
      "/Users/janrauhl/opt/anaconda3/lib/python3.9/site-packages/sklearn/linear_model/_sag.py:350: ConvergenceWarning: The max_iter was reached which means the coef_ did not converge\n",
      "  warnings.warn(\n",
      "/Users/janrauhl/opt/anaconda3/lib/python3.9/site-packages/sklearn/linear_model/_sag.py:350: ConvergenceWarning: The max_iter was reached which means the coef_ did not converge\n",
      "  warnings.warn(\n",
      "/Users/janrauhl/opt/anaconda3/lib/python3.9/site-packages/sklearn/linear_model/_sag.py:350: ConvergenceWarning: The max_iter was reached which means the coef_ did not converge\n",
      "  warnings.warn(\n",
      "/Users/janrauhl/opt/anaconda3/lib/python3.9/site-packages/sklearn/linear_model/_sag.py:350: ConvergenceWarning: The max_iter was reached which means the coef_ did not converge\n",
      "  warnings.warn(\n",
      "/Users/janrauhl/opt/anaconda3/lib/python3.9/site-packages/sklearn/linear_model/_sag.py:350: ConvergenceWarning: The max_iter was reached which means the coef_ did not converge\n",
      "  warnings.warn(\n",
      "/Users/janrauhl/opt/anaconda3/lib/python3.9/site-packages/sklearn/linear_model/_sag.py:350: ConvergenceWarning: The max_iter was reached which means the coef_ did not converge\n",
      "  warnings.warn(\n",
      "/Users/janrauhl/opt/anaconda3/lib/python3.9/site-packages/sklearn/linear_model/_sag.py:350: ConvergenceWarning: The max_iter was reached which means the coef_ did not converge\n",
      "  warnings.warn(\n",
      "/Users/janrauhl/opt/anaconda3/lib/python3.9/site-packages/sklearn/linear_model/_sag.py:350: ConvergenceWarning: The max_iter was reached which means the coef_ did not converge\n",
      "  warnings.warn(\n",
      "/Users/janrauhl/opt/anaconda3/lib/python3.9/site-packages/sklearn/linear_model/_sag.py:350: ConvergenceWarning: The max_iter was reached which means the coef_ did not converge\n",
      "  warnings.warn(\n",
      "/Users/janrauhl/opt/anaconda3/lib/python3.9/site-packages/sklearn/linear_model/_sag.py:350: ConvergenceWarning: The max_iter was reached which means the coef_ did not converge\n",
      "  warnings.warn(\n",
      "/Users/janrauhl/opt/anaconda3/lib/python3.9/site-packages/sklearn/linear_model/_sag.py:350: ConvergenceWarning: The max_iter was reached which means the coef_ did not converge\n",
      "  warnings.warn(\n",
      "/Users/janrauhl/opt/anaconda3/lib/python3.9/site-packages/sklearn/linear_model/_sag.py:350: ConvergenceWarning: The max_iter was reached which means the coef_ did not converge\n",
      "  warnings.warn(\n",
      "/Users/janrauhl/opt/anaconda3/lib/python3.9/site-packages/sklearn/linear_model/_sag.py:350: ConvergenceWarning: The max_iter was reached which means the coef_ did not converge\n",
      "  warnings.warn(\n",
      "/Users/janrauhl/opt/anaconda3/lib/python3.9/site-packages/sklearn/linear_model/_sag.py:350: ConvergenceWarning: The max_iter was reached which means the coef_ did not converge\n",
      "  warnings.warn(\n",
      "/Users/janrauhl/opt/anaconda3/lib/python3.9/site-packages/sklearn/linear_model/_sag.py:350: ConvergenceWarning: The max_iter was reached which means the coef_ did not converge\n",
      "  warnings.warn(\n",
      "/Users/janrauhl/opt/anaconda3/lib/python3.9/site-packages/sklearn/linear_model/_sag.py:350: ConvergenceWarning: The max_iter was reached which means the coef_ did not converge\n",
      "  warnings.warn(\n",
      "/Users/janrauhl/opt/anaconda3/lib/python3.9/site-packages/sklearn/linear_model/_sag.py:350: ConvergenceWarning: The max_iter was reached which means the coef_ did not converge\n",
      "  warnings.warn(\n",
      "/Users/janrauhl/opt/anaconda3/lib/python3.9/site-packages/sklearn/linear_model/_sag.py:350: ConvergenceWarning: The max_iter was reached which means the coef_ did not converge\n",
      "  warnings.warn(\n",
      "/Users/janrauhl/opt/anaconda3/lib/python3.9/site-packages/sklearn/linear_model/_sag.py:350: ConvergenceWarning: The max_iter was reached which means the coef_ did not converge\n",
      "  warnings.warn(\n",
      "/Users/janrauhl/opt/anaconda3/lib/python3.9/site-packages/sklearn/linear_model/_sag.py:350: ConvergenceWarning: The max_iter was reached which means the coef_ did not converge\n",
      "  warnings.warn(\n",
      "/Users/janrauhl/opt/anaconda3/lib/python3.9/site-packages/sklearn/linear_model/_sag.py:350: ConvergenceWarning: The max_iter was reached which means the coef_ did not converge\n",
      "  warnings.warn(\n",
      "/Users/janrauhl/opt/anaconda3/lib/python3.9/site-packages/sklearn/linear_model/_sag.py:350: ConvergenceWarning: The max_iter was reached which means the coef_ did not converge\n",
      "  warnings.warn(\n",
      "/Users/janrauhl/opt/anaconda3/lib/python3.9/site-packages/sklearn/linear_model/_sag.py:350: ConvergenceWarning: The max_iter was reached which means the coef_ did not converge\n",
      "  warnings.warn(\n",
      "/Users/janrauhl/opt/anaconda3/lib/python3.9/site-packages/sklearn/linear_model/_sag.py:350: ConvergenceWarning: The max_iter was reached which means the coef_ did not converge\n",
      "  warnings.warn(\n",
      "/Users/janrauhl/opt/anaconda3/lib/python3.9/site-packages/sklearn/linear_model/_sag.py:350: ConvergenceWarning: The max_iter was reached which means the coef_ did not converge\n",
      "  warnings.warn(\n",
      "/Users/janrauhl/opt/anaconda3/lib/python3.9/site-packages/sklearn/linear_model/_sag.py:350: ConvergenceWarning: The max_iter was reached which means the coef_ did not converge\n",
      "  warnings.warn(\n",
      "/Users/janrauhl/opt/anaconda3/lib/python3.9/site-packages/sklearn/linear_model/_sag.py:350: ConvergenceWarning: The max_iter was reached which means the coef_ did not converge\n",
      "  warnings.warn(\n",
      "[Parallel(n_jobs=5)]: Done   2 out of   5 | elapsed:   51.9s remaining:  1.3min\n",
      "/Users/janrauhl/opt/anaconda3/lib/python3.9/site-packages/sklearn/linear_model/_sag.py:350: ConvergenceWarning: The max_iter was reached which means the coef_ did not converge\n",
      "  warnings.warn(\n",
      "[Parallel(n_jobs=5)]: Done   5 out of   5 | elapsed:   53.2s finished\n"
     ]
    },
    {
     "name": "stdout",
     "output_type": "stream",
     "text": [
      "# 5CV\n",
      "bACC=0.69 ROC-AUC=0.77\n",
      "# Test\n",
      "bACC=0.73 ROC-AUC=0.80\n"
     ]
    }
   ],
   "source": [
    "#using ROI  LOGISTIC\n",
    "from sklearn.svm import SVC\n",
    "cv = problem.get_cv(X_train, y_train)\n",
    "# cv2 = problem.get_cv(X_test, y_test)\n",
    "\n",
    "\n",
    "estimator = make_pipeline(\n",
    "    ROIsFeatureExtractor(),\n",
    "    LogisticRegressionCV(Cs = 4, cv=5, penalty = 'elasticnet', solver = 'saga', random_state=42, l1_ratios = [0.3,0.8], max_iter=1000))\n",
    "\n",
    "le = LabelEncoder()\n",
    "y_train = le.fit_transform(y_train)\n",
    "y_test = le.fit_transform(y_test)\n",
    "    \n",
    "cv_results = cross_validate(estimator, X_train, y_train, scoring=['balanced_accuracy', 'roc_auc'], cv=cv,\n",
    "                         verbose=1, return_train_score=True, n_jobs=5,error_score='raise')\n",
    "\n",
    "print(\"# 5CV\")\n",
    "print('bACC=%.2f' % cv_results['test_balanced_accuracy'].mean(),\n",
    "      'ROC-AUC=%.2f' % cv_results['test_roc_auc'].mean())\n",
    "\n",
    "\n",
    "# Refit on all train\n",
    "estimator.fit(X_train, y_train)\n",
    "# Apply on test\n",
    "y_pred_train = estimator.predict(X_train)\n",
    "y_pred_test = estimator.predict(X_test)\n",
    "score_pred_test = estimator.predict_proba(X_test)[:, 1]\n",
    "\n",
    "bacc_test = metrics.balanced_accuracy_score(y_test, y_pred_test)\n",
    "auc_test = metrics.roc_auc_score(y_test, score_pred_test)\n",
    "print(\"# Test\")\n",
    "print('bACC=%.2f' % bacc_test,\n",
    "      'ROC-AUC=%.2f' % auc_test)"
   ]
  },
  {
   "cell_type": "code",
   "execution_count": 255,
   "id": "b286aed6",
   "metadata": {},
   "outputs": [
    {
     "name": "stderr",
     "output_type": "stream",
     "text": [
      "[Parallel(n_jobs=5)]: Using backend LokyBackend with 5 concurrent workers.\n",
      "/Users/janrauhl/opt/anaconda3/lib/python3.9/site-packages/sklearn/linear_model/_sag.py:350: ConvergenceWarning: The max_iter was reached which means the coef_ did not converge\n",
      "  warnings.warn(\n",
      "/Users/janrauhl/opt/anaconda3/lib/python3.9/site-packages/sklearn/linear_model/_sag.py:350: ConvergenceWarning: The max_iter was reached which means the coef_ did not converge\n",
      "  warnings.warn(\n",
      "/Users/janrauhl/opt/anaconda3/lib/python3.9/site-packages/sklearn/linear_model/_sag.py:350: ConvergenceWarning: The max_iter was reached which means the coef_ did not converge\n",
      "  warnings.warn(\n",
      "/Users/janrauhl/opt/anaconda3/lib/python3.9/site-packages/sklearn/linear_model/_sag.py:350: ConvergenceWarning: The max_iter was reached which means the coef_ did not converge\n",
      "  warnings.warn(\n",
      "/Users/janrauhl/opt/anaconda3/lib/python3.9/site-packages/sklearn/linear_model/_sag.py:350: ConvergenceWarning: The max_iter was reached which means the coef_ did not converge\n",
      "  warnings.warn(\n",
      "/Users/janrauhl/opt/anaconda3/lib/python3.9/site-packages/sklearn/linear_model/_sag.py:350: ConvergenceWarning: The max_iter was reached which means the coef_ did not converge\n",
      "  warnings.warn(\n",
      "/Users/janrauhl/opt/anaconda3/lib/python3.9/site-packages/sklearn/linear_model/_sag.py:350: ConvergenceWarning: The max_iter was reached which means the coef_ did not converge\n",
      "  warnings.warn(\n",
      "/Users/janrauhl/opt/anaconda3/lib/python3.9/site-packages/sklearn/linear_model/_sag.py:350: ConvergenceWarning: The max_iter was reached which means the coef_ did not converge\n",
      "  warnings.warn(\n",
      "/Users/janrauhl/opt/anaconda3/lib/python3.9/site-packages/sklearn/linear_model/_sag.py:350: ConvergenceWarning: The max_iter was reached which means the coef_ did not converge\n",
      "  warnings.warn(\n",
      "/Users/janrauhl/opt/anaconda3/lib/python3.9/site-packages/sklearn/linear_model/_sag.py:350: ConvergenceWarning: The max_iter was reached which means the coef_ did not converge\n",
      "  warnings.warn(\n",
      "/Users/janrauhl/opt/anaconda3/lib/python3.9/site-packages/sklearn/linear_model/_sag.py:350: ConvergenceWarning: The max_iter was reached which means the coef_ did not converge\n",
      "  warnings.warn(\n",
      "/Users/janrauhl/opt/anaconda3/lib/python3.9/site-packages/sklearn/linear_model/_sag.py:350: ConvergenceWarning: The max_iter was reached which means the coef_ did not converge\n",
      "  warnings.warn(\n",
      "/Users/janrauhl/opt/anaconda3/lib/python3.9/site-packages/sklearn/linear_model/_sag.py:350: ConvergenceWarning: The max_iter was reached which means the coef_ did not converge\n",
      "  warnings.warn(\n",
      "/Users/janrauhl/opt/anaconda3/lib/python3.9/site-packages/sklearn/linear_model/_sag.py:350: ConvergenceWarning: The max_iter was reached which means the coef_ did not converge\n",
      "  warnings.warn(\n",
      "/Users/janrauhl/opt/anaconda3/lib/python3.9/site-packages/sklearn/linear_model/_sag.py:350: ConvergenceWarning: The max_iter was reached which means the coef_ did not converge\n",
      "  warnings.warn(\n",
      "/Users/janrauhl/opt/anaconda3/lib/python3.9/site-packages/sklearn/linear_model/_sag.py:350: ConvergenceWarning: The max_iter was reached which means the coef_ did not converge\n",
      "  warnings.warn(\n",
      "/Users/janrauhl/opt/anaconda3/lib/python3.9/site-packages/sklearn/linear_model/_sag.py:350: ConvergenceWarning: The max_iter was reached which means the coef_ did not converge\n",
      "  warnings.warn(\n",
      "/Users/janrauhl/opt/anaconda3/lib/python3.9/site-packages/sklearn/linear_model/_sag.py:350: ConvergenceWarning: The max_iter was reached which means the coef_ did not converge\n",
      "  warnings.warn(\n",
      "/Users/janrauhl/opt/anaconda3/lib/python3.9/site-packages/sklearn/linear_model/_sag.py:350: ConvergenceWarning: The max_iter was reached which means the coef_ did not converge\n",
      "  warnings.warn(\n",
      "/Users/janrauhl/opt/anaconda3/lib/python3.9/site-packages/sklearn/linear_model/_sag.py:350: ConvergenceWarning: The max_iter was reached which means the coef_ did not converge\n",
      "  warnings.warn(\n",
      "/Users/janrauhl/opt/anaconda3/lib/python3.9/site-packages/sklearn/linear_model/_sag.py:350: ConvergenceWarning: The max_iter was reached which means the coef_ did not converge\n",
      "  warnings.warn(\n",
      "/Users/janrauhl/opt/anaconda3/lib/python3.9/site-packages/sklearn/linear_model/_sag.py:350: ConvergenceWarning: The max_iter was reached which means the coef_ did not converge\n",
      "  warnings.warn(\n",
      "/Users/janrauhl/opt/anaconda3/lib/python3.9/site-packages/sklearn/linear_model/_sag.py:350: ConvergenceWarning: The max_iter was reached which means the coef_ did not converge\n",
      "  warnings.warn(\n",
      "/Users/janrauhl/opt/anaconda3/lib/python3.9/site-packages/sklearn/linear_model/_sag.py:350: ConvergenceWarning: The max_iter was reached which means the coef_ did not converge\n",
      "  warnings.warn(\n",
      "/Users/janrauhl/opt/anaconda3/lib/python3.9/site-packages/sklearn/linear_model/_sag.py:350: ConvergenceWarning: The max_iter was reached which means the coef_ did not converge\n",
      "  warnings.warn(\n",
      "/Users/janrauhl/opt/anaconda3/lib/python3.9/site-packages/sklearn/linear_model/_sag.py:350: ConvergenceWarning: The max_iter was reached which means the coef_ did not converge\n",
      "  warnings.warn(\n",
      "/Users/janrauhl/opt/anaconda3/lib/python3.9/site-packages/sklearn/linear_model/_sag.py:350: ConvergenceWarning: The max_iter was reached which means the coef_ did not converge\n",
      "  warnings.warn(\n",
      "/Users/janrauhl/opt/anaconda3/lib/python3.9/site-packages/sklearn/linear_model/_sag.py:350: ConvergenceWarning: The max_iter was reached which means the coef_ did not converge\n",
      "  warnings.warn(\n",
      "/Users/janrauhl/opt/anaconda3/lib/python3.9/site-packages/sklearn/linear_model/_sag.py:350: ConvergenceWarning: The max_iter was reached which means the coef_ did not converge\n",
      "  warnings.warn(\n",
      "/Users/janrauhl/opt/anaconda3/lib/python3.9/site-packages/sklearn/linear_model/_sag.py:350: ConvergenceWarning: The max_iter was reached which means the coef_ did not converge\n",
      "  warnings.warn(\n",
      "/Users/janrauhl/opt/anaconda3/lib/python3.9/site-packages/sklearn/linear_model/_sag.py:350: ConvergenceWarning: The max_iter was reached which means the coef_ did not converge\n",
      "  warnings.warn(\n",
      "/Users/janrauhl/opt/anaconda3/lib/python3.9/site-packages/sklearn/linear_model/_sag.py:350: ConvergenceWarning: The max_iter was reached which means the coef_ did not converge\n",
      "  warnings.warn(\n",
      "/Users/janrauhl/opt/anaconda3/lib/python3.9/site-packages/sklearn/linear_model/_sag.py:350: ConvergenceWarning: The max_iter was reached which means the coef_ did not converge\n",
      "  warnings.warn(\n",
      "/Users/janrauhl/opt/anaconda3/lib/python3.9/site-packages/sklearn/linear_model/_sag.py:350: ConvergenceWarning: The max_iter was reached which means the coef_ did not converge\n",
      "  warnings.warn(\n",
      "/Users/janrauhl/opt/anaconda3/lib/python3.9/site-packages/sklearn/linear_model/_sag.py:350: ConvergenceWarning: The max_iter was reached which means the coef_ did not converge\n",
      "  warnings.warn(\n",
      "/Users/janrauhl/opt/anaconda3/lib/python3.9/site-packages/sklearn/linear_model/_sag.py:350: ConvergenceWarning: The max_iter was reached which means the coef_ did not converge\n",
      "  warnings.warn(\n",
      "/Users/janrauhl/opt/anaconda3/lib/python3.9/site-packages/sklearn/linear_model/_sag.py:350: ConvergenceWarning: The max_iter was reached which means the coef_ did not converge\n",
      "  warnings.warn(\n",
      "/Users/janrauhl/opt/anaconda3/lib/python3.9/site-packages/sklearn/linear_model/_sag.py:350: ConvergenceWarning: The max_iter was reached which means the coef_ did not converge\n",
      "  warnings.warn(\n",
      "/Users/janrauhl/opt/anaconda3/lib/python3.9/site-packages/sklearn/linear_model/_sag.py:350: ConvergenceWarning: The max_iter was reached which means the coef_ did not converge\n",
      "  warnings.warn(\n",
      "/Users/janrauhl/opt/anaconda3/lib/python3.9/site-packages/sklearn/linear_model/_sag.py:350: ConvergenceWarning: The max_iter was reached which means the coef_ did not converge\n",
      "  warnings.warn(\n",
      "/Users/janrauhl/opt/anaconda3/lib/python3.9/site-packages/sklearn/linear_model/_sag.py:350: ConvergenceWarning: The max_iter was reached which means the coef_ did not converge\n",
      "  warnings.warn(\n",
      "/Users/janrauhl/opt/anaconda3/lib/python3.9/site-packages/sklearn/linear_model/_sag.py:350: ConvergenceWarning: The max_iter was reached which means the coef_ did not converge\n",
      "  warnings.warn(\n",
      "/Users/janrauhl/opt/anaconda3/lib/python3.9/site-packages/sklearn/linear_model/_sag.py:350: ConvergenceWarning: The max_iter was reached which means the coef_ did not converge\n",
      "  warnings.warn(\n",
      "/Users/janrauhl/opt/anaconda3/lib/python3.9/site-packages/sklearn/linear_model/_sag.py:350: ConvergenceWarning: The max_iter was reached which means the coef_ did not converge\n",
      "  warnings.warn(\n",
      "/Users/janrauhl/opt/anaconda3/lib/python3.9/site-packages/sklearn/linear_model/_sag.py:350: ConvergenceWarning: The max_iter was reached which means the coef_ did not converge\n",
      "  warnings.warn(\n",
      "/Users/janrauhl/opt/anaconda3/lib/python3.9/site-packages/sklearn/linear_model/_sag.py:350: ConvergenceWarning: The max_iter was reached which means the coef_ did not converge\n",
      "  warnings.warn(\n",
      "/Users/janrauhl/opt/anaconda3/lib/python3.9/site-packages/sklearn/linear_model/_sag.py:350: ConvergenceWarning: The max_iter was reached which means the coef_ did not converge\n",
      "  warnings.warn(\n",
      "/Users/janrauhl/opt/anaconda3/lib/python3.9/site-packages/sklearn/linear_model/_sag.py:350: ConvergenceWarning: The max_iter was reached which means the coef_ did not converge\n",
      "  warnings.warn(\n",
      "/Users/janrauhl/opt/anaconda3/lib/python3.9/site-packages/sklearn/linear_model/_sag.py:350: ConvergenceWarning: The max_iter was reached which means the coef_ did not converge\n",
      "  warnings.warn(\n",
      "/Users/janrauhl/opt/anaconda3/lib/python3.9/site-packages/sklearn/linear_model/_sag.py:350: ConvergenceWarning: The max_iter was reached which means the coef_ did not converge\n",
      "  warnings.warn(\n",
      "/Users/janrauhl/opt/anaconda3/lib/python3.9/site-packages/sklearn/linear_model/_sag.py:350: ConvergenceWarning: The max_iter was reached which means the coef_ did not converge\n",
      "  warnings.warn(\n",
      "/Users/janrauhl/opt/anaconda3/lib/python3.9/site-packages/sklearn/linear_model/_sag.py:350: ConvergenceWarning: The max_iter was reached which means the coef_ did not converge\n",
      "  warnings.warn(\n",
      "/Users/janrauhl/opt/anaconda3/lib/python3.9/site-packages/sklearn/linear_model/_sag.py:350: ConvergenceWarning: The max_iter was reached which means the coef_ did not converge\n",
      "  warnings.warn(\n",
      "/Users/janrauhl/opt/anaconda3/lib/python3.9/site-packages/sklearn/linear_model/_sag.py:350: ConvergenceWarning: The max_iter was reached which means the coef_ did not converge\n",
      "  warnings.warn(\n",
      "/Users/janrauhl/opt/anaconda3/lib/python3.9/site-packages/sklearn/linear_model/_sag.py:350: ConvergenceWarning: The max_iter was reached which means the coef_ did not converge\n",
      "  warnings.warn(\n",
      "/Users/janrauhl/opt/anaconda3/lib/python3.9/site-packages/sklearn/linear_model/_sag.py:350: ConvergenceWarning: The max_iter was reached which means the coef_ did not converge\n",
      "  warnings.warn(\n",
      "/Users/janrauhl/opt/anaconda3/lib/python3.9/site-packages/sklearn/linear_model/_sag.py:350: ConvergenceWarning: The max_iter was reached which means the coef_ did not converge\n",
      "  warnings.warn(\n",
      "/Users/janrauhl/opt/anaconda3/lib/python3.9/site-packages/sklearn/linear_model/_sag.py:350: ConvergenceWarning: The max_iter was reached which means the coef_ did not converge\n",
      "  warnings.warn(\n",
      "/Users/janrauhl/opt/anaconda3/lib/python3.9/site-packages/sklearn/linear_model/_sag.py:350: ConvergenceWarning: The max_iter was reached which means the coef_ did not converge\n",
      "  warnings.warn(\n",
      "/Users/janrauhl/opt/anaconda3/lib/python3.9/site-packages/sklearn/linear_model/_sag.py:350: ConvergenceWarning: The max_iter was reached which means the coef_ did not converge\n",
      "  warnings.warn(\n",
      "/Users/janrauhl/opt/anaconda3/lib/python3.9/site-packages/sklearn/linear_model/_sag.py:350: ConvergenceWarning: The max_iter was reached which means the coef_ did not converge\n",
      "  warnings.warn(\n",
      "/Users/janrauhl/opt/anaconda3/lib/python3.9/site-packages/sklearn/linear_model/_sag.py:350: ConvergenceWarning: The max_iter was reached which means the coef_ did not converge\n",
      "  warnings.warn(\n",
      "/Users/janrauhl/opt/anaconda3/lib/python3.9/site-packages/sklearn/linear_model/_sag.py:350: ConvergenceWarning: The max_iter was reached which means the coef_ did not converge\n",
      "  warnings.warn(\n",
      "/Users/janrauhl/opt/anaconda3/lib/python3.9/site-packages/sklearn/linear_model/_sag.py:350: ConvergenceWarning: The max_iter was reached which means the coef_ did not converge\n",
      "  warnings.warn(\n",
      "/Users/janrauhl/opt/anaconda3/lib/python3.9/site-packages/sklearn/linear_model/_sag.py:350: ConvergenceWarning: The max_iter was reached which means the coef_ did not converge\n",
      "  warnings.warn(\n",
      "/Users/janrauhl/opt/anaconda3/lib/python3.9/site-packages/sklearn/linear_model/_sag.py:350: ConvergenceWarning: The max_iter was reached which means the coef_ did not converge\n",
      "  warnings.warn(\n",
      "/Users/janrauhl/opt/anaconda3/lib/python3.9/site-packages/sklearn/linear_model/_sag.py:350: ConvergenceWarning: The max_iter was reached which means the coef_ did not converge\n",
      "  warnings.warn(\n",
      "/Users/janrauhl/opt/anaconda3/lib/python3.9/site-packages/sklearn/linear_model/_sag.py:350: ConvergenceWarning: The max_iter was reached which means the coef_ did not converge\n",
      "  warnings.warn(\n",
      "/Users/janrauhl/opt/anaconda3/lib/python3.9/site-packages/sklearn/linear_model/_sag.py:350: ConvergenceWarning: The max_iter was reached which means the coef_ did not converge\n",
      "  warnings.warn(\n",
      "/Users/janrauhl/opt/anaconda3/lib/python3.9/site-packages/sklearn/linear_model/_sag.py:350: ConvergenceWarning: The max_iter was reached which means the coef_ did not converge\n",
      "  warnings.warn(\n",
      "/Users/janrauhl/opt/anaconda3/lib/python3.9/site-packages/sklearn/linear_model/_sag.py:350: ConvergenceWarning: The max_iter was reached which means the coef_ did not converge\n",
      "  warnings.warn(\n",
      "/Users/janrauhl/opt/anaconda3/lib/python3.9/site-packages/sklearn/linear_model/_sag.py:350: ConvergenceWarning: The max_iter was reached which means the coef_ did not converge\n",
      "  warnings.warn(\n",
      "/Users/janrauhl/opt/anaconda3/lib/python3.9/site-packages/sklearn/linear_model/_sag.py:350: ConvergenceWarning: The max_iter was reached which means the coef_ did not converge\n",
      "  warnings.warn(\n",
      "/Users/janrauhl/opt/anaconda3/lib/python3.9/site-packages/sklearn/linear_model/_sag.py:350: ConvergenceWarning: The max_iter was reached which means the coef_ did not converge\n",
      "  warnings.warn(\n",
      "/Users/janrauhl/opt/anaconda3/lib/python3.9/site-packages/sklearn/linear_model/_sag.py:350: ConvergenceWarning: The max_iter was reached which means the coef_ did not converge\n",
      "  warnings.warn(\n",
      "/Users/janrauhl/opt/anaconda3/lib/python3.9/site-packages/sklearn/linear_model/_sag.py:350: ConvergenceWarning: The max_iter was reached which means the coef_ did not converge\n",
      "  warnings.warn(\n",
      "/Users/janrauhl/opt/anaconda3/lib/python3.9/site-packages/sklearn/linear_model/_sag.py:350: ConvergenceWarning: The max_iter was reached which means the coef_ did not converge\n",
      "  warnings.warn(\n",
      "/Users/janrauhl/opt/anaconda3/lib/python3.9/site-packages/sklearn/linear_model/_sag.py:350: ConvergenceWarning: The max_iter was reached which means the coef_ did not converge\n",
      "  warnings.warn(\n",
      "/Users/janrauhl/opt/anaconda3/lib/python3.9/site-packages/sklearn/linear_model/_sag.py:350: ConvergenceWarning: The max_iter was reached which means the coef_ did not converge\n",
      "  warnings.warn(\n",
      "/Users/janrauhl/opt/anaconda3/lib/python3.9/site-packages/sklearn/linear_model/_sag.py:350: ConvergenceWarning: The max_iter was reached which means the coef_ did not converge\n",
      "  warnings.warn(\n",
      "/Users/janrauhl/opt/anaconda3/lib/python3.9/site-packages/sklearn/linear_model/_sag.py:350: ConvergenceWarning: The max_iter was reached which means the coef_ did not converge\n",
      "  warnings.warn(\n",
      "/Users/janrauhl/opt/anaconda3/lib/python3.9/site-packages/sklearn/linear_model/_sag.py:350: ConvergenceWarning: The max_iter was reached which means the coef_ did not converge\n",
      "  warnings.warn(\n",
      "/Users/janrauhl/opt/anaconda3/lib/python3.9/site-packages/sklearn/linear_model/_sag.py:350: ConvergenceWarning: The max_iter was reached which means the coef_ did not converge\n",
      "  warnings.warn(\n",
      "/Users/janrauhl/opt/anaconda3/lib/python3.9/site-packages/sklearn/linear_model/_sag.py:350: ConvergenceWarning: The max_iter was reached which means the coef_ did not converge\n",
      "  warnings.warn(\n",
      "/Users/janrauhl/opt/anaconda3/lib/python3.9/site-packages/sklearn/linear_model/_sag.py:350: ConvergenceWarning: The max_iter was reached which means the coef_ did not converge\n",
      "  warnings.warn(\n",
      "/Users/janrauhl/opt/anaconda3/lib/python3.9/site-packages/sklearn/linear_model/_sag.py:350: ConvergenceWarning: The max_iter was reached which means the coef_ did not converge\n",
      "  warnings.warn(\n",
      "/Users/janrauhl/opt/anaconda3/lib/python3.9/site-packages/sklearn/linear_model/_sag.py:350: ConvergenceWarning: The max_iter was reached which means the coef_ did not converge\n",
      "  warnings.warn(\n",
      "/Users/janrauhl/opt/anaconda3/lib/python3.9/site-packages/sklearn/linear_model/_sag.py:350: ConvergenceWarning: The max_iter was reached which means the coef_ did not converge\n",
      "  warnings.warn(\n",
      "/Users/janrauhl/opt/anaconda3/lib/python3.9/site-packages/sklearn/linear_model/_sag.py:350: ConvergenceWarning: The max_iter was reached which means the coef_ did not converge\n",
      "  warnings.warn(\n",
      "/Users/janrauhl/opt/anaconda3/lib/python3.9/site-packages/sklearn/linear_model/_sag.py:350: ConvergenceWarning: The max_iter was reached which means the coef_ did not converge\n",
      "  warnings.warn(\n",
      "/Users/janrauhl/opt/anaconda3/lib/python3.9/site-packages/sklearn/linear_model/_sag.py:350: ConvergenceWarning: The max_iter was reached which means the coef_ did not converge\n",
      "  warnings.warn(\n",
      "/Users/janrauhl/opt/anaconda3/lib/python3.9/site-packages/sklearn/linear_model/_sag.py:350: ConvergenceWarning: The max_iter was reached which means the coef_ did not converge\n",
      "  warnings.warn(\n",
      "/Users/janrauhl/opt/anaconda3/lib/python3.9/site-packages/sklearn/linear_model/_sag.py:350: ConvergenceWarning: The max_iter was reached which means the coef_ did not converge\n",
      "  warnings.warn(\n",
      "/Users/janrauhl/opt/anaconda3/lib/python3.9/site-packages/sklearn/linear_model/_sag.py:350: ConvergenceWarning: The max_iter was reached which means the coef_ did not converge\n",
      "  warnings.warn(\n",
      "/Users/janrauhl/opt/anaconda3/lib/python3.9/site-packages/sklearn/linear_model/_sag.py:350: ConvergenceWarning: The max_iter was reached which means the coef_ did not converge\n",
      "  warnings.warn(\n",
      "/Users/janrauhl/opt/anaconda3/lib/python3.9/site-packages/sklearn/linear_model/_sag.py:350: ConvergenceWarning: The max_iter was reached which means the coef_ did not converge\n",
      "  warnings.warn(\n",
      "/Users/janrauhl/opt/anaconda3/lib/python3.9/site-packages/sklearn/linear_model/_sag.py:350: ConvergenceWarning: The max_iter was reached which means the coef_ did not converge\n",
      "  warnings.warn(\n",
      "/Users/janrauhl/opt/anaconda3/lib/python3.9/site-packages/sklearn/linear_model/_sag.py:350: ConvergenceWarning: The max_iter was reached which means the coef_ did not converge\n",
      "  warnings.warn(\n",
      "/Users/janrauhl/opt/anaconda3/lib/python3.9/site-packages/sklearn/linear_model/_sag.py:350: ConvergenceWarning: The max_iter was reached which means the coef_ did not converge\n",
      "  warnings.warn(\n",
      "/Users/janrauhl/opt/anaconda3/lib/python3.9/site-packages/sklearn/linear_model/_sag.py:350: ConvergenceWarning: The max_iter was reached which means the coef_ did not converge\n",
      "  warnings.warn(\n",
      "/Users/janrauhl/opt/anaconda3/lib/python3.9/site-packages/sklearn/linear_model/_sag.py:350: ConvergenceWarning: The max_iter was reached which means the coef_ did not converge\n",
      "  warnings.warn(\n",
      "/Users/janrauhl/opt/anaconda3/lib/python3.9/site-packages/sklearn/linear_model/_sag.py:350: ConvergenceWarning: The max_iter was reached which means the coef_ did not converge\n",
      "  warnings.warn(\n",
      "/Users/janrauhl/opt/anaconda3/lib/python3.9/site-packages/sklearn/linear_model/_sag.py:350: ConvergenceWarning: The max_iter was reached which means the coef_ did not converge\n",
      "  warnings.warn(\n",
      "/Users/janrauhl/opt/anaconda3/lib/python3.9/site-packages/sklearn/linear_model/_sag.py:350: ConvergenceWarning: The max_iter was reached which means the coef_ did not converge\n",
      "  warnings.warn(\n",
      "/Users/janrauhl/opt/anaconda3/lib/python3.9/site-packages/sklearn/linear_model/_sag.py:350: ConvergenceWarning: The max_iter was reached which means the coef_ did not converge\n",
      "  warnings.warn(\n",
      "/Users/janrauhl/opt/anaconda3/lib/python3.9/site-packages/sklearn/linear_model/_sag.py:350: ConvergenceWarning: The max_iter was reached which means the coef_ did not converge\n",
      "  warnings.warn(\n",
      "/Users/janrauhl/opt/anaconda3/lib/python3.9/site-packages/sklearn/linear_model/_sag.py:350: ConvergenceWarning: The max_iter was reached which means the coef_ did not converge\n",
      "  warnings.warn(\n",
      "/Users/janrauhl/opt/anaconda3/lib/python3.9/site-packages/sklearn/linear_model/_sag.py:350: ConvergenceWarning: The max_iter was reached which means the coef_ did not converge\n",
      "  warnings.warn(\n",
      "/Users/janrauhl/opt/anaconda3/lib/python3.9/site-packages/sklearn/linear_model/_sag.py:350: ConvergenceWarning: The max_iter was reached which means the coef_ did not converge\n",
      "  warnings.warn(\n",
      "/Users/janrauhl/opt/anaconda3/lib/python3.9/site-packages/sklearn/linear_model/_sag.py:350: ConvergenceWarning: The max_iter was reached which means the coef_ did not converge\n",
      "  warnings.warn(\n",
      "/Users/janrauhl/opt/anaconda3/lib/python3.9/site-packages/sklearn/linear_model/_sag.py:350: ConvergenceWarning: The max_iter was reached which means the coef_ did not converge\n",
      "  warnings.warn(\n",
      "/Users/janrauhl/opt/anaconda3/lib/python3.9/site-packages/sklearn/linear_model/_sag.py:350: ConvergenceWarning: The max_iter was reached which means the coef_ did not converge\n",
      "  warnings.warn(\n",
      "/Users/janrauhl/opt/anaconda3/lib/python3.9/site-packages/sklearn/linear_model/_sag.py:350: ConvergenceWarning: The max_iter was reached which means the coef_ did not converge\n",
      "  warnings.warn(\n",
      "/Users/janrauhl/opt/anaconda3/lib/python3.9/site-packages/sklearn/linear_model/_sag.py:350: ConvergenceWarning: The max_iter was reached which means the coef_ did not converge\n",
      "  warnings.warn(\n",
      "/Users/janrauhl/opt/anaconda3/lib/python3.9/site-packages/sklearn/linear_model/_sag.py:350: ConvergenceWarning: The max_iter was reached which means the coef_ did not converge\n",
      "  warnings.warn(\n",
      "/Users/janrauhl/opt/anaconda3/lib/python3.9/site-packages/sklearn/linear_model/_sag.py:350: ConvergenceWarning: The max_iter was reached which means the coef_ did not converge\n",
      "  warnings.warn(\n",
      "/Users/janrauhl/opt/anaconda3/lib/python3.9/site-packages/sklearn/linear_model/_sag.py:350: ConvergenceWarning: The max_iter was reached which means the coef_ did not converge\n",
      "  warnings.warn(\n",
      "/Users/janrauhl/opt/anaconda3/lib/python3.9/site-packages/sklearn/linear_model/_sag.py:350: ConvergenceWarning: The max_iter was reached which means the coef_ did not converge\n",
      "  warnings.warn(\n",
      "/Users/janrauhl/opt/anaconda3/lib/python3.9/site-packages/sklearn/linear_model/_sag.py:350: ConvergenceWarning: The max_iter was reached which means the coef_ did not converge\n",
      "  warnings.warn(\n",
      "/Users/janrauhl/opt/anaconda3/lib/python3.9/site-packages/sklearn/linear_model/_sag.py:350: ConvergenceWarning: The max_iter was reached which means the coef_ did not converge\n",
      "  warnings.warn(\n",
      "/Users/janrauhl/opt/anaconda3/lib/python3.9/site-packages/sklearn/linear_model/_sag.py:350: ConvergenceWarning: The max_iter was reached which means the coef_ did not converge\n",
      "  warnings.warn(\n",
      "/Users/janrauhl/opt/anaconda3/lib/python3.9/site-packages/sklearn/linear_model/_sag.py:350: ConvergenceWarning: The max_iter was reached which means the coef_ did not converge\n",
      "  warnings.warn(\n",
      "/Users/janrauhl/opt/anaconda3/lib/python3.9/site-packages/sklearn/linear_model/_sag.py:350: ConvergenceWarning: The max_iter was reached which means the coef_ did not converge\n",
      "  warnings.warn(\n",
      "/Users/janrauhl/opt/anaconda3/lib/python3.9/site-packages/sklearn/linear_model/_sag.py:350: ConvergenceWarning: The max_iter was reached which means the coef_ did not converge\n",
      "  warnings.warn(\n",
      "/Users/janrauhl/opt/anaconda3/lib/python3.9/site-packages/sklearn/linear_model/_sag.py:350: ConvergenceWarning: The max_iter was reached which means the coef_ did not converge\n",
      "  warnings.warn(\n",
      "/Users/janrauhl/opt/anaconda3/lib/python3.9/site-packages/sklearn/linear_model/_sag.py:350: ConvergenceWarning: The max_iter was reached which means the coef_ did not converge\n",
      "  warnings.warn(\n",
      "/Users/janrauhl/opt/anaconda3/lib/python3.9/site-packages/sklearn/linear_model/_sag.py:350: ConvergenceWarning: The max_iter was reached which means the coef_ did not converge\n",
      "  warnings.warn(\n",
      "/Users/janrauhl/opt/anaconda3/lib/python3.9/site-packages/sklearn/linear_model/_sag.py:350: ConvergenceWarning: The max_iter was reached which means the coef_ did not converge\n",
      "  warnings.warn(\n",
      "/Users/janrauhl/opt/anaconda3/lib/python3.9/site-packages/sklearn/linear_model/_sag.py:350: ConvergenceWarning: The max_iter was reached which means the coef_ did not converge\n",
      "  warnings.warn(\n",
      "/Users/janrauhl/opt/anaconda3/lib/python3.9/site-packages/sklearn/linear_model/_sag.py:350: ConvergenceWarning: The max_iter was reached which means the coef_ did not converge\n",
      "  warnings.warn(\n",
      "/Users/janrauhl/opt/anaconda3/lib/python3.9/site-packages/sklearn/linear_model/_sag.py:350: ConvergenceWarning: The max_iter was reached which means the coef_ did not converge\n",
      "  warnings.warn(\n",
      "/Users/janrauhl/opt/anaconda3/lib/python3.9/site-packages/sklearn/linear_model/_sag.py:350: ConvergenceWarning: The max_iter was reached which means the coef_ did not converge\n",
      "  warnings.warn(\n",
      "[Parallel(n_jobs=5)]: Done   2 out of   5 | elapsed:   52.2s remaining:  1.3min\n",
      "/Users/janrauhl/opt/anaconda3/lib/python3.9/site-packages/sklearn/linear_model/_sag.py:350: ConvergenceWarning: The max_iter was reached which means the coef_ did not converge\n",
      "  warnings.warn(\n",
      "[Parallel(n_jobs=5)]: Done   5 out of   5 | elapsed:   53.0s finished\n"
     ]
    },
    {
     "name": "stdout",
     "output_type": "stream",
     "text": [
      "# 5CV\n",
      "bACC=0.68 ROC-AUC=0.74\n",
      "# Test\n",
      "bACC=0.73 ROC-AUC=0.79\n"
     ]
    }
   ],
   "source": [
    "#using ROI  LOGISTIC\n",
    "from sklearn.svm import SVC\n",
    "cv = problem.get_cv(X_train, y_train)\n",
    "# cv2 = problem.get_cv(X_test, y_test)\n",
    "\n",
    "\n",
    "estimator = make_pipeline(\n",
    "    ROIsFeatureExtractor(),\n",
    "    LogisticRegressionCV(Cs = 4, cv=5, penalty = 'elasticnet', solver = 'saga', random_state=42, l1_ratios = [0.5,0.8], max_iter=1000))\n",
    "\n",
    "le = LabelEncoder()\n",
    "y_train = le.fit_transform(y_train)\n",
    "y_test = le.fit_transform(y_test)\n",
    "    \n",
    "cv_results = cross_validate(estimator, X_train, y_train, scoring=['balanced_accuracy', 'roc_auc'], cv=cv,\n",
    "                         verbose=1, return_train_score=True, n_jobs=5,error_score='raise')\n",
    "\n",
    "print(\"# 5CV\")\n",
    "print('bACC=%.2f' % cv_results['test_balanced_accuracy'].mean(),\n",
    "      'ROC-AUC=%.2f' % cv_results['test_roc_auc'].mean())\n",
    "\n",
    "\n",
    "# Refit on all train\n",
    "estimator.fit(X_train, y_train)\n",
    "# Apply on test\n",
    "y_pred_train = estimator.predict(X_train)\n",
    "y_pred_test = estimator.predict(X_test)\n",
    "score_pred_test = estimator.predict_proba(X_test)[:, 1]\n",
    "\n",
    "bacc_test = metrics.balanced_accuracy_score(y_test, y_pred_test)\n",
    "auc_test = metrics.roc_auc_score(y_test, score_pred_test)\n",
    "print(\"# Test\")\n",
    "print('bACC=%.2f' % bacc_test,\n",
    "      'ROC-AUC=%.2f' % auc_test)"
   ]
  },
  {
   "cell_type": "code",
   "execution_count": 270,
   "id": "f8b01d97",
   "metadata": {},
   "outputs": [
    {
     "name": "stdout",
     "output_type": "stream",
     "text": [
      "Collecting lightgbm\n",
      "  Downloading lightgbm-3.3.5-py3-none-macosx_10_15_x86_64.macosx_11_6_x86_64.macosx_12_0_x86_64.whl (1.3 MB)\n",
      "\u001b[K     |████████████████████████████████| 1.3 MB 223 kB/s eta 0:00:01\n",
      "\u001b[?25hRequirement already satisfied: scipy in /Users/janrauhl/opt/anaconda3/lib/python3.9/site-packages (from lightgbm) (1.10.1)\n",
      "Requirement already satisfied: scikit-learn!=0.22.0 in /Users/janrauhl/opt/anaconda3/lib/python3.9/site-packages (from lightgbm) (1.2.2)\n",
      "Requirement already satisfied: wheel in /Users/janrauhl/opt/anaconda3/lib/python3.9/site-packages (from lightgbm) (0.37.1)\n",
      "Requirement already satisfied: numpy in /Users/janrauhl/opt/anaconda3/lib/python3.9/site-packages (from lightgbm) (1.24.2)\n",
      "Requirement already satisfied: joblib>=1.1.1 in /Users/janrauhl/opt/anaconda3/lib/python3.9/site-packages (from scikit-learn!=0.22.0->lightgbm) (1.2.0)\n",
      "Requirement already satisfied: threadpoolctl>=2.0.0 in /Users/janrauhl/opt/anaconda3/lib/python3.9/site-packages (from scikit-learn!=0.22.0->lightgbm) (2.2.0)\n",
      "Installing collected packages: lightgbm\n",
      "Successfully installed lightgbm-3.3.5\n",
      "Note: you may need to restart the kernel to use updated packages.\n"
     ]
    }
   ],
   "source": [
    "pip install lightgbm"
   ]
  },
  {
   "cell_type": "code",
   "execution_count": 277,
   "id": "0cc98f08",
   "metadata": {},
   "outputs": [
    {
     "name": "stdout",
     "output_type": "stream",
     "text": [
      "Collecting xgboost\n",
      "  Downloading xgboost-1.7.5-py3-none-macosx_10_15_x86_64.macosx_11_0_x86_64.macosx_12_0_x86_64.whl (1.8 MB)\n",
      "\u001b[K     |████████████████████████████████| 1.8 MB 5.4 MB/s eta 0:00:01\n",
      "\u001b[?25hRequirement already satisfied: numpy in /Users/janrauhl/opt/anaconda3/lib/python3.9/site-packages (from xgboost) (1.24.2)\n",
      "Requirement already satisfied: scipy in /Users/janrauhl/opt/anaconda3/lib/python3.9/site-packages (from xgboost) (1.10.1)\n",
      "Installing collected packages: xgboost\n",
      "Successfully installed xgboost-1.7.5\n",
      "Note: you may need to restart the kernel to use updated packages.\n"
     ]
    }
   ],
   "source": [
    "pip install xgboost"
   ]
  },
  {
   "cell_type": "code",
   "execution_count": 278,
   "id": "534206d6",
   "metadata": {},
   "outputs": [
    {
     "name": "stderr",
     "output_type": "stream",
     "text": [
      "[Parallel(n_jobs=5)]: Using backend LokyBackend with 5 concurrent workers.\n",
      "[Parallel(n_jobs=5)]: Done   2 out of   5 | elapsed:   14.1s remaining:   21.2s\n",
      "[Parallel(n_jobs=5)]: Done   5 out of   5 | elapsed:   14.2s finished\n"
     ]
    },
    {
     "name": "stdout",
     "output_type": "stream",
     "text": [
      "# 5CV\n",
      "bACC=0.73 ROC-AUC=0.81\n",
      "# Test\n",
      "bACC=0.73 ROC-AUC=0.81\n"
     ]
    }
   ],
   "source": [
    "from xgboost import XGBClassifier\n",
    "from sklearn.pipeline import make_pipeline\n",
    "from sklearn import metrics\n",
    "from sklearn.model_selection import cross_validate\n",
    "\n",
    "cv = problem.get_cv(X_train, y_train)\n",
    "\n",
    "estimator = make_pipeline(\n",
    "    ROIsFeatureExtractor(),\n",
    "    XGBClassifier(random_state=1))\n",
    "\n",
    "\n",
    "cv_results = cross_validate(estimator, X_train, y_train, scoring=['balanced_accuracy', 'roc_auc'], cv=cv,\n",
    "                         verbose=1, return_train_score=True, n_jobs=5)\n",
    "\n",
    "print(\"# 5CV\")\n",
    "print('bACC=%.2f' % cv_results['test_balanced_accuracy'].mean(),\n",
    "      'ROC-AUC=%.2f' % cv_results['test_roc_auc'].mean())\n",
    "\n",
    "# Refit on all train\n",
    "estimator.fit(X_train, y_train)\n",
    "# Apply on test\n",
    "y_pred_train = estimator.predict(X_train)\n",
    "y_pred_test = estimator.predict(X_test)\n",
    "score_pred_test = estimator.predict_proba(X_test)[:, 1]\n",
    "\n",
    "bacc_test = metrics.balanced_accuracy_score(y_test, y_pred_test)\n",
    "auc_test = metrics.roc_auc_score(y_test, score_pred_test)\n",
    "print(\"# Test\")\n",
    "print('bACC=%.2f' % bacc_test,\n",
    "      'ROC-AUC=%.2f' % auc_test)\n"
   ]
  }
 ],
 "metadata": {
  "kernelspec": {
   "display_name": "Python 3 (ipykernel)",
   "language": "python",
   "name": "python3"
  },
  "language_info": {
   "codemirror_mode": {
    "name": "ipython",
    "version": 3
   },
   "file_extension": ".py",
   "mimetype": "text/x-python",
   "name": "python",
   "nbconvert_exporter": "python",
   "pygments_lexer": "ipython3",
   "version": "3.9.12"
  }
 },
 "nbformat": 4,
 "nbformat_minor": 5
}
